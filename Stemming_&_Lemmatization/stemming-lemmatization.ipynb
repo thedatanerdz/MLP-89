{
 "cells": [
  {
   "cell_type": "markdown",
   "id": "c04cad3c",
   "metadata": {
    "papermill": {
     "duration": 0.005212,
     "end_time": "2023-08-15T10:29:48.131616",
     "exception": false,
     "start_time": "2023-08-15T10:29:48.126404",
     "status": "completed"
    },
    "tags": []
   },
   "source": [
    "<h3>Stemming in NLTK</h3>"
   ]
  },
  {
   "cell_type": "code",
   "execution_count": 1,
   "id": "61e224d6",
   "metadata": {
    "execution": {
     "iopub.execute_input": "2023-08-15T10:29:48.143621Z",
     "iopub.status.busy": "2023-08-15T10:29:48.142662Z",
     "iopub.status.idle": "2023-08-15T10:30:03.016753Z",
     "shell.execute_reply": "2023-08-15T10:30:03.015326Z"
    },
    "papermill": {
     "duration": 14.883011,
     "end_time": "2023-08-15T10:30:03.019779",
     "exception": false,
     "start_time": "2023-08-15T10:29:48.136768",
     "status": "completed"
    },
    "tags": []
   },
   "outputs": [
    {
     "name": "stdout",
     "output_type": "stream",
     "text": [
      "Requirement already satisfied: nltk in /opt/conda/lib/python3.10/site-packages (3.2.4)\r\n",
      "Requirement already satisfied: six in /opt/conda/lib/python3.10/site-packages (from nltk) (1.16.0)\r\n"
     ]
    }
   ],
   "source": [
    "!pip install nltk"
   ]
  },
  {
   "cell_type": "code",
   "execution_count": 2,
   "id": "3687c65b",
   "metadata": {
    "execution": {
     "iopub.execute_input": "2023-08-15T10:30:03.031423Z",
     "iopub.status.busy": "2023-08-15T10:30:03.030887Z",
     "iopub.status.idle": "2023-08-15T10:30:04.863092Z",
     "shell.execute_reply": "2023-08-15T10:30:04.861750Z"
    },
    "papermill": {
     "duration": 1.841276,
     "end_time": "2023-08-15T10:30:04.865960",
     "exception": false,
     "start_time": "2023-08-15T10:30:03.024684",
     "status": "completed"
    },
    "tags": []
   },
   "outputs": [
    {
     "name": "stderr",
     "output_type": "stream",
     "text": [
      "/opt/conda/lib/python3.10/site-packages/scipy/__init__.py:146: UserWarning: A NumPy version >=1.16.5 and <1.23.0 is required for this version of SciPy (detected version 1.23.5\n",
      "  warnings.warn(f\"A NumPy version >={np_minversion} and <{np_maxversion}\"\n"
     ]
    }
   ],
   "source": [
    "from nltk.stem import PorterStemmer\n",
    "stemmer = PorterStemmer()"
   ]
  },
  {
   "cell_type": "code",
   "execution_count": 3,
   "id": "0fa147ae",
   "metadata": {
    "execution": {
     "iopub.execute_input": "2023-08-15T10:30:04.877941Z",
     "iopub.status.busy": "2023-08-15T10:30:04.876811Z",
     "iopub.status.idle": "2023-08-15T10:30:04.885876Z",
     "shell.execute_reply": "2023-08-15T10:30:04.884934Z"
    },
    "papermill": {
     "duration": 0.017429,
     "end_time": "2023-08-15T10:30:04.888226",
     "exception": false,
     "start_time": "2023-08-15T10:30:04.870797",
     "status": "completed"
    },
    "tags": []
   },
   "outputs": [
    {
     "name": "stdout",
     "output_type": "stream",
     "text": [
      "eating | eat\n",
      "eats | eat\n",
      "eat | eat\n",
      "ate | ate\n",
      "adjustable | adjust\n",
      "rafting | raft\n",
      "ability | abil\n",
      "meeting | meet\n"
     ]
    }
   ],
   "source": [
    "words = [\"eating\", \"eats\", \"eat\", \"ate\", \"adjustable\", \"rafting\", \"ability\", \"meeting\"]\n",
    "\n",
    "for word in words:\n",
    "    print(word, \"|\", stemmer.stem(word))"
   ]
  },
  {
   "cell_type": "markdown",
   "id": "48c7b83f",
   "metadata": {
    "papermill": {
     "duration": 0.004511,
     "end_time": "2023-08-15T10:30:04.897508",
     "exception": false,
     "start_time": "2023-08-15T10:30:04.892997",
     "status": "completed"
    },
    "tags": []
   },
   "source": [
    "<h3>Lemmatization in Spacy</h3>"
   ]
  },
  {
   "cell_type": "code",
   "execution_count": 4,
   "id": "7c9ffe47",
   "metadata": {
    "execution": {
     "iopub.execute_input": "2023-08-15T10:30:04.909478Z",
     "iopub.status.busy": "2023-08-15T10:30:04.908784Z",
     "iopub.status.idle": "2023-08-15T10:30:18.731928Z",
     "shell.execute_reply": "2023-08-15T10:30:18.730750Z"
    },
    "papermill": {
     "duration": 13.832589,
     "end_time": "2023-08-15T10:30:18.735111",
     "exception": false,
     "start_time": "2023-08-15T10:30:04.902522",
     "status": "completed"
    },
    "tags": []
   },
   "outputs": [
    {
     "name": "stderr",
     "output_type": "stream",
     "text": [
      "/opt/conda/lib/python3.10/site-packages/tensorflow_io/python/ops/__init__.py:98: UserWarning: unable to load libtensorflow_io_plugins.so: unable to open file: libtensorflow_io_plugins.so, from paths: ['/opt/conda/lib/python3.10/site-packages/tensorflow_io/python/ops/libtensorflow_io_plugins.so']\n",
      "caused by: ['/opt/conda/lib/python3.10/site-packages/tensorflow_io/python/ops/libtensorflow_io_plugins.so: undefined symbol: _ZN3tsl6StatusC1EN10tensorflow5error4CodeESt17basic_string_viewIcSt11char_traitsIcEENS_14SourceLocationE']\n",
      "  warnings.warn(f\"unable to load libtensorflow_io_plugins.so: {e}\")\n",
      "/opt/conda/lib/python3.10/site-packages/tensorflow_io/python/ops/__init__.py:104: UserWarning: file system plugins are not loaded: unable to open file: libtensorflow_io.so, from paths: ['/opt/conda/lib/python3.10/site-packages/tensorflow_io/python/ops/libtensorflow_io.so']\n",
      "caused by: ['/opt/conda/lib/python3.10/site-packages/tensorflow_io/python/ops/libtensorflow_io.so: undefined symbol: _ZTVN10tensorflow13GcsFileSystemE']\n",
      "  warnings.warn(f\"file system plugins are not loaded: {e}\")\n"
     ]
    }
   ],
   "source": [
    "import spacy"
   ]
  },
  {
   "cell_type": "code",
   "execution_count": 5,
   "id": "407a0c48",
   "metadata": {
    "execution": {
     "iopub.execute_input": "2023-08-15T10:30:18.747203Z",
     "iopub.status.busy": "2023-08-15T10:30:18.746398Z",
     "iopub.status.idle": "2023-08-15T10:30:20.182879Z",
     "shell.execute_reply": "2023-08-15T10:30:20.181607Z"
    },
    "papermill": {
     "duration": 1.445446,
     "end_time": "2023-08-15T10:30:20.185583",
     "exception": false,
     "start_time": "2023-08-15T10:30:18.740137",
     "status": "completed"
    },
    "tags": []
   },
   "outputs": [
    {
     "name": "stdout",
     "output_type": "stream",
     "text": [
      "eating  |  eat\n",
      "eats  |  eat\n",
      "eat  |  eat\n",
      "ate  |  eat\n",
      "adjustable  |  adjustable\n",
      "rafting  |  raft\n",
      "ability  |  ability\n",
      "meeting  |  meeting\n",
      "better  |  well\n"
     ]
    }
   ],
   "source": [
    "nlp = spacy.load(\"en_core_web_sm\")\n",
    "\n",
    "doc = nlp(\"Mando talked for 3 hours although talking isn't his thing\")\n",
    "doc = nlp(\"eating eats eat ate adjustable rafting ability meeting better\")\n",
    "for token in doc:\n",
    "    print(token, \" | \", token.lemma_)"
   ]
  },
  {
   "cell_type": "markdown",
   "id": "73978a5d",
   "metadata": {
    "papermill": {
     "duration": 0.004814,
     "end_time": "2023-08-15T10:30:20.195448",
     "exception": false,
     "start_time": "2023-08-15T10:30:20.190634",
     "status": "completed"
    },
    "tags": []
   },
   "source": [
    "<h3>Customizing lemmatizer</h3>"
   ]
  },
  {
   "cell_type": "code",
   "execution_count": 6,
   "id": "805dda30",
   "metadata": {
    "execution": {
     "iopub.execute_input": "2023-08-15T10:30:20.207189Z",
     "iopub.status.busy": "2023-08-15T10:30:20.206268Z",
     "iopub.status.idle": "2023-08-15T10:30:20.214798Z",
     "shell.execute_reply": "2023-08-15T10:30:20.213816Z"
    },
    "papermill": {
     "duration": 0.016895,
     "end_time": "2023-08-15T10:30:20.217137",
     "exception": false,
     "start_time": "2023-08-15T10:30:20.200242",
     "status": "completed"
    },
    "tags": []
   },
   "outputs": [
    {
     "data": {
      "text/plain": [
       "['tok2vec', 'tagger', 'parser', 'attribute_ruler', 'lemmatizer', 'ner']"
      ]
     },
     "execution_count": 6,
     "metadata": {},
     "output_type": "execute_result"
    }
   ],
   "source": [
    "nlp.pipe_names"
   ]
  },
  {
   "cell_type": "code",
   "execution_count": 7,
   "id": "14416d0e",
   "metadata": {
    "execution": {
     "iopub.execute_input": "2023-08-15T10:30:20.229004Z",
     "iopub.status.busy": "2023-08-15T10:30:20.228639Z",
     "iopub.status.idle": "2023-08-15T10:30:20.246704Z",
     "shell.execute_reply": "2023-08-15T10:30:20.245296Z"
    },
    "papermill": {
     "duration": 0.027056,
     "end_time": "2023-08-15T10:30:20.249376",
     "exception": false,
     "start_time": "2023-08-15T10:30:20.222320",
     "status": "completed"
    },
    "scrolled": true,
    "tags": []
   },
   "outputs": [
    {
     "name": "stdout",
     "output_type": "stream",
     "text": [
      "Bro | Brother\n",
      ", | ,\n",
      "you | you\n",
      "wanna | wanna\n",
      "go | go\n",
      "? | ?\n",
      "Brah | Brother\n",
      ", | ,\n",
      "do | do\n",
      "n't | not\n",
      "say | say\n",
      "no | no\n",
      "! | !\n",
      "I | I\n",
      "am | be\n",
      "exhausted | exhaust\n"
     ]
    }
   ],
   "source": [
    "ar = nlp.get_pipe('attribute_ruler')\n",
    "\n",
    "ar.add([[{\"TEXT\":\"Bro\"}],[{\"TEXT\":\"Brah\"}]],{\"LEMMA\":\"Brother\"})\n",
    "\n",
    "doc = nlp(\"Bro, you wanna go? Brah, don't say no! I am exhausted\")\n",
    "for token in doc:\n",
    "    print(token.text, \"|\", token.lemma_)"
   ]
  },
  {
   "cell_type": "code",
   "execution_count": 8,
   "id": "05c42011",
   "metadata": {
    "execution": {
     "iopub.execute_input": "2023-08-15T10:30:20.261796Z",
     "iopub.status.busy": "2023-08-15T10:30:20.261330Z",
     "iopub.status.idle": "2023-08-15T10:30:20.268383Z",
     "shell.execute_reply": "2023-08-15T10:30:20.267231Z"
    },
    "papermill": {
     "duration": 0.016178,
     "end_time": "2023-08-15T10:30:20.270940",
     "exception": false,
     "start_time": "2023-08-15T10:30:20.254762",
     "status": "completed"
    },
    "tags": []
   },
   "outputs": [
    {
     "data": {
      "text/plain": [
       "Brah"
      ]
     },
     "execution_count": 8,
     "metadata": {},
     "output_type": "execute_result"
    }
   ],
   "source": [
    "doc[6]"
   ]
  },
  {
   "cell_type": "code",
   "execution_count": 9,
   "id": "d3e38415",
   "metadata": {
    "execution": {
     "iopub.execute_input": "2023-08-15T10:30:20.283795Z",
     "iopub.status.busy": "2023-08-15T10:30:20.283409Z",
     "iopub.status.idle": "2023-08-15T10:30:20.290294Z",
     "shell.execute_reply": "2023-08-15T10:30:20.289226Z"
    },
    "papermill": {
     "duration": 0.016044,
     "end_time": "2023-08-15T10:30:20.292765",
     "exception": false,
     "start_time": "2023-08-15T10:30:20.276721",
     "status": "completed"
    },
    "tags": []
   },
   "outputs": [
    {
     "data": {
      "text/plain": [
       "'Brother'"
      ]
     },
     "execution_count": 9,
     "metadata": {},
     "output_type": "execute_result"
    }
   ],
   "source": [
    "doc[6].lemma_"
   ]
  }
 ],
 "metadata": {
  "kernelspec": {
   "display_name": "Python 3",
   "language": "python",
   "name": "python3"
  },
  "language_info": {
   "codemirror_mode": {
    "name": "ipython",
    "version": 3
   },
   "file_extension": ".py",
   "mimetype": "text/x-python",
   "name": "python",
   "nbconvert_exporter": "python",
   "pygments_lexer": "ipython3",
   "version": "3.10.12"
  },
  "papermill": {
   "default_parameters": {},
   "duration": 46.707236,
   "end_time": "2023-08-15T10:30:23.471406",
   "environment_variables": {},
   "exception": null,
   "input_path": "__notebook__.ipynb",
   "output_path": "__notebook__.ipynb",
   "parameters": {},
   "start_time": "2023-08-15T10:29:36.764170",
   "version": "2.4.0"
  }
 },
 "nbformat": 4,
 "nbformat_minor": 5
}
