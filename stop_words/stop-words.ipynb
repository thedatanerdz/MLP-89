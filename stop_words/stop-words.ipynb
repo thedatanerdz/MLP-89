{
 "cells": [
  {
   "cell_type": "markdown",
   "id": "95e9e356",
   "metadata": {
    "id": "KYoVrnewenmh",
    "papermill": {
     "duration": 0.0095,
     "end_time": "2023-08-15T13:05:33.620650",
     "exception": false,
     "start_time": "2023-08-15T13:05:33.611150",
     "status": "completed"
    },
    "tags": []
   },
   "source": [
    "### Stop words tutorial"
   ]
  },
  {
   "cell_type": "code",
   "execution_count": 1,
   "id": "c743e21d",
   "metadata": {
    "execution": {
     "iopub.execute_input": "2023-08-15T13:05:33.640890Z",
     "iopub.status.busy": "2023-08-15T13:05:33.640370Z",
     "iopub.status.idle": "2023-08-15T13:05:47.720040Z",
     "shell.execute_reply": "2023-08-15T13:05:47.718911Z"
    },
    "papermill": {
     "duration": 14.093132,
     "end_time": "2023-08-15T13:05:47.722734",
     "exception": false,
     "start_time": "2023-08-15T13:05:33.629602",
     "status": "completed"
    },
    "tags": []
   },
   "outputs": [
    {
     "name": "stderr",
     "output_type": "stream",
     "text": [
      "/opt/conda/lib/python3.10/site-packages/scipy/__init__.py:146: UserWarning: A NumPy version >=1.16.5 and <1.23.0 is required for this version of SciPy (detected version 1.23.5\n",
      "  warnings.warn(f\"A NumPy version >={np_minversion} and <{np_maxversion}\"\n",
      "/opt/conda/lib/python3.10/site-packages/tensorflow_io/python/ops/__init__.py:98: UserWarning: unable to load libtensorflow_io_plugins.so: unable to open file: libtensorflow_io_plugins.so, from paths: ['/opt/conda/lib/python3.10/site-packages/tensorflow_io/python/ops/libtensorflow_io_plugins.so']\n",
      "caused by: ['/opt/conda/lib/python3.10/site-packages/tensorflow_io/python/ops/libtensorflow_io_plugins.so: undefined symbol: _ZN3tsl6StatusC1EN10tensorflow5error4CodeESt17basic_string_viewIcSt11char_traitsIcEENS_14SourceLocationE']\n",
      "  warnings.warn(f\"unable to load libtensorflow_io_plugins.so: {e}\")\n",
      "/opt/conda/lib/python3.10/site-packages/tensorflow_io/python/ops/__init__.py:104: UserWarning: file system plugins are not loaded: unable to open file: libtensorflow_io.so, from paths: ['/opt/conda/lib/python3.10/site-packages/tensorflow_io/python/ops/libtensorflow_io.so']\n",
      "caused by: ['/opt/conda/lib/python3.10/site-packages/tensorflow_io/python/ops/libtensorflow_io.so: undefined symbol: _ZTVN10tensorflow13GcsFileSystemE']\n",
      "  warnings.warn(f\"file system plugins are not loaded: {e}\")\n"
     ]
    },
    {
     "data": {
      "text/plain": [
       "326"
      ]
     },
     "execution_count": 1,
     "metadata": {},
     "output_type": "execute_result"
    }
   ],
   "source": [
    "import spacy\n",
    "\n",
    "from spacy.lang.en.stop_words import STOP_WORDS\n",
    "\n",
    "len(STOP_WORDS)"
   ]
  },
  {
   "cell_type": "code",
   "execution_count": 2,
   "id": "da7cd4c8",
   "metadata": {
    "execution": {
     "iopub.execute_input": "2023-08-15T13:05:47.743685Z",
     "iopub.status.busy": "2023-08-15T13:05:47.742860Z",
     "iopub.status.idle": "2023-08-15T13:05:49.120602Z",
     "shell.execute_reply": "2023-08-15T13:05:49.119195Z"
    },
    "papermill": {
     "duration": 1.390697,
     "end_time": "2023-08-15T13:05:49.123090",
     "exception": false,
     "start_time": "2023-08-15T13:05:47.732393",
     "status": "completed"
    },
    "tags": []
   },
   "outputs": [
    {
     "name": "stdout",
     "output_type": "stream",
     "text": [
      "We\n",
      "just\n",
      "our\n",
      "the\n",
      "part\n",
      "is\n"
     ]
    }
   ],
   "source": [
    "nlp = spacy.load(\"en_core_web_sm\")\n",
    "\n",
    "doc = nlp(\"We just opened our wings, the flying part is coming soon\")\n",
    "\n",
    "for token in doc:\n",
    "    if token.is_stop:\n",
    "        print(token)"
   ]
  },
  {
   "cell_type": "code",
   "execution_count": 3,
   "id": "d1c8be92",
   "metadata": {
    "execution": {
     "iopub.execute_input": "2023-08-15T13:05:49.142852Z",
     "iopub.status.busy": "2023-08-15T13:05:49.142455Z",
     "iopub.status.idle": "2023-08-15T13:05:49.147942Z",
     "shell.execute_reply": "2023-08-15T13:05:49.146924Z"
    },
    "papermill": {
     "duration": 0.018094,
     "end_time": "2023-08-15T13:05:49.150262",
     "exception": false,
     "start_time": "2023-08-15T13:05:49.132168",
     "status": "completed"
    },
    "tags": []
   },
   "outputs": [],
   "source": [
    "def preprocess(text):\n",
    "    doc = nlp(text)\n",
    "    \n",
    "    no_stop_words = [token.text for token in doc if not token.is_stop]\n",
    "    return \" \".join(no_stop_words)            "
   ]
  },
  {
   "cell_type": "code",
   "execution_count": 4,
   "id": "31f4cafb",
   "metadata": {
    "execution": {
     "iopub.execute_input": "2023-08-15T13:05:49.169813Z",
     "iopub.status.busy": "2023-08-15T13:05:49.169410Z",
     "iopub.status.idle": "2023-08-15T13:05:49.184316Z",
     "shell.execute_reply": "2023-08-15T13:05:49.183545Z"
    },
    "papermill": {
     "duration": 0.027172,
     "end_time": "2023-08-15T13:05:49.186399",
     "exception": false,
     "start_time": "2023-08-15T13:05:49.159227",
     "status": "completed"
    },
    "scrolled": true,
    "tags": []
   },
   "outputs": [
    {
     "data": {
      "text/plain": [
       "'Musk wants time prepare trial'"
      ]
     },
     "execution_count": 4,
     "metadata": {},
     "output_type": "execute_result"
    }
   ],
   "source": [
    "preprocess(\"Musk wants time to prepare for a trial over his\")"
   ]
  },
  {
   "cell_type": "code",
   "execution_count": 5,
   "id": "2ea15ad6",
   "metadata": {
    "execution": {
     "iopub.execute_input": "2023-08-15T13:05:49.206495Z",
     "iopub.status.busy": "2023-08-15T13:05:49.205833Z",
     "iopub.status.idle": "2023-08-15T13:05:49.221573Z",
     "shell.execute_reply": "2023-08-15T13:05:49.220442Z"
    },
    "papermill": {
     "duration": 0.028138,
     "end_time": "2023-08-15T13:05:49.223761",
     "exception": false,
     "start_time": "2023-08-15T13:05:49.195623",
     "status": "completed"
    },
    "scrolled": true,
    "tags": []
   },
   "outputs": [
    {
     "data": {
      "text/plain": [
       "'divine brother'"
      ]
     },
     "execution_count": 5,
     "metadata": {},
     "output_type": "execute_result"
    }
   ],
   "source": [
    "preprocess(\"The other is not other but your divine brother\")"
   ]
  },
  {
   "cell_type": "markdown",
   "id": "b8468394",
   "metadata": {
    "id": "KYoVrnewenmh",
    "papermill": {
     "duration": 0.008831,
     "end_time": "2023-08-15T13:05:49.243218",
     "exception": false,
     "start_time": "2023-08-15T13:05:49.234387",
     "status": "completed"
    },
    "tags": []
   },
   "source": [
    "##### Remove stop words from pandas dataframe text column"
   ]
  },
  {
   "cell_type": "markdown",
   "id": "986f88ed",
   "metadata": {
    "papermill": {
     "duration": 0.008834,
     "end_time": "2023-08-15T13:05:49.261097",
     "exception": false,
     "start_time": "2023-08-15T13:05:49.252263",
     "status": "completed"
    },
    "tags": []
   },
   "source": [
    "Dataset is downloaded from: https://www.kaggle.com/datasets/jbencina/department-of-justice-20092018-press-releases\n",
    "It contains press releases of different court cases from depart of justice (DOJ). The releases contain information such as outcomes of criminal cases, notable actions taken against felons, or other updates about the current administration."
   ]
  },
  {
   "cell_type": "code",
   "execution_count": 6,
   "id": "05afd1e8",
   "metadata": {
    "execution": {
     "iopub.execute_input": "2023-08-15T13:05:49.281247Z",
     "iopub.status.busy": "2023-08-15T13:05:49.280521Z",
     "iopub.status.idle": "2023-08-15T13:05:53.784813Z",
     "shell.execute_reply": "2023-08-15T13:05:53.783625Z"
    },
    "papermill": {
     "duration": 4.517114,
     "end_time": "2023-08-15T13:05:53.787217",
     "exception": false,
     "start_time": "2023-08-15T13:05:49.270103",
     "status": "completed"
    },
    "tags": []
   },
   "outputs": [
    {
     "data": {
      "text/plain": [
       "(13087, 6)"
      ]
     },
     "execution_count": 6,
     "metadata": {},
     "output_type": "execute_result"
    }
   ],
   "source": [
    "import pandas as pd\n",
    "\n",
    "df = pd.read_json(\"/kaggle/input/department-of-justice-20092018-press-releases/combined.json\",lines=True)\n",
    "\n",
    "df.shape"
   ]
  },
  {
   "cell_type": "code",
   "execution_count": 7,
   "id": "36935a4f",
   "metadata": {
    "execution": {
     "iopub.execute_input": "2023-08-15T13:05:53.808010Z",
     "iopub.status.busy": "2023-08-15T13:05:53.807607Z",
     "iopub.status.idle": "2023-08-15T13:05:53.828846Z",
     "shell.execute_reply": "2023-08-15T13:05:53.827732Z"
    },
    "papermill": {
     "duration": 0.034388,
     "end_time": "2023-08-15T13:05:53.831093",
     "exception": false,
     "start_time": "2023-08-15T13:05:53.796705",
     "status": "completed"
    },
    "scrolled": true,
    "tags": []
   },
   "outputs": [
    {
     "data": {
      "text/html": [
       "<div>\n",
       "<style scoped>\n",
       "    .dataframe tbody tr th:only-of-type {\n",
       "        vertical-align: middle;\n",
       "    }\n",
       "\n",
       "    .dataframe tbody tr th {\n",
       "        vertical-align: top;\n",
       "    }\n",
       "\n",
       "    .dataframe thead th {\n",
       "        text-align: right;\n",
       "    }\n",
       "</style>\n",
       "<table border=\"1\" class=\"dataframe\">\n",
       "  <thead>\n",
       "    <tr style=\"text-align: right;\">\n",
       "      <th></th>\n",
       "      <th>id</th>\n",
       "      <th>title</th>\n",
       "      <th>contents</th>\n",
       "      <th>date</th>\n",
       "      <th>topics</th>\n",
       "      <th>components</th>\n",
       "    </tr>\n",
       "  </thead>\n",
       "  <tbody>\n",
       "    <tr>\n",
       "      <th>0</th>\n",
       "      <td>None</td>\n",
       "      <td>Convicted Bomb Plotter Sentenced to 30 Years</td>\n",
       "      <td>PORTLAND, Oregon. – Mohamed Osman Mohamud, 23,...</td>\n",
       "      <td>2014-10-01T00:00:00-04:00</td>\n",
       "      <td>[]</td>\n",
       "      <td>[National Security Division (NSD)]</td>\n",
       "    </tr>\n",
       "    <tr>\n",
       "      <th>1</th>\n",
       "      <td>12-919</td>\n",
       "      <td>$1 Million in Restitution Payments Announced t...</td>\n",
       "      <td>WASHINGTON – North Carolina’s Waccamaw River...</td>\n",
       "      <td>2012-07-25T00:00:00-04:00</td>\n",
       "      <td>[]</td>\n",
       "      <td>[Environment and Natural Resources Division]</td>\n",
       "    </tr>\n",
       "    <tr>\n",
       "      <th>2</th>\n",
       "      <td>11-1002</td>\n",
       "      <td>$1 Million Settlement Reached for Natural Reso...</td>\n",
       "      <td>BOSTON– A $1-million settlement has been...</td>\n",
       "      <td>2011-08-03T00:00:00-04:00</td>\n",
       "      <td>[]</td>\n",
       "      <td>[Environment and Natural Resources Division]</td>\n",
       "    </tr>\n",
       "    <tr>\n",
       "      <th>3</th>\n",
       "      <td>10-015</td>\n",
       "      <td>10 Las Vegas Men Indicted \\r\\nfor Falsifying V...</td>\n",
       "      <td>WASHINGTON—A federal grand jury in Las Vegas...</td>\n",
       "      <td>2010-01-08T00:00:00-05:00</td>\n",
       "      <td>[]</td>\n",
       "      <td>[Environment and Natural Resources Division]</td>\n",
       "    </tr>\n",
       "    <tr>\n",
       "      <th>4</th>\n",
       "      <td>18-898</td>\n",
       "      <td>$100 Million Settlement Will Speed Cleanup Wor...</td>\n",
       "      <td>The U.S. Department of Justice, the U.S. Envir...</td>\n",
       "      <td>2018-07-09T00:00:00-04:00</td>\n",
       "      <td>[Environment]</td>\n",
       "      <td>[Environment and Natural Resources Division]</td>\n",
       "    </tr>\n",
       "  </tbody>\n",
       "</table>\n",
       "</div>"
      ],
      "text/plain": [
       "        id                                              title  \\\n",
       "0     None       Convicted Bomb Plotter Sentenced to 30 Years   \n",
       "1  12-919   $1 Million in Restitution Payments Announced t...   \n",
       "2  11-1002  $1 Million Settlement Reached for Natural Reso...   \n",
       "3   10-015  10 Las Vegas Men Indicted \\r\\nfor Falsifying V...   \n",
       "4   18-898  $100 Million Settlement Will Speed Cleanup Wor...   \n",
       "\n",
       "                                            contents  \\\n",
       "0  PORTLAND, Oregon. – Mohamed Osman Mohamud, 23,...   \n",
       "1    WASHINGTON – North Carolina’s Waccamaw River...   \n",
       "2        BOSTON– A $1-million settlement has been...   \n",
       "3    WASHINGTON—A federal grand jury in Las Vegas...   \n",
       "4  The U.S. Department of Justice, the U.S. Envir...   \n",
       "\n",
       "                        date         topics  \\\n",
       "0  2014-10-01T00:00:00-04:00             []   \n",
       "1  2012-07-25T00:00:00-04:00             []   \n",
       "2  2011-08-03T00:00:00-04:00             []   \n",
       "3  2010-01-08T00:00:00-05:00             []   \n",
       "4  2018-07-09T00:00:00-04:00  [Environment]   \n",
       "\n",
       "                                     components  \n",
       "0            [National Security Division (NSD)]  \n",
       "1  [Environment and Natural Resources Division]  \n",
       "2  [Environment and Natural Resources Division]  \n",
       "3  [Environment and Natural Resources Division]  \n",
       "4  [Environment and Natural Resources Division]  "
      ]
     },
     "execution_count": 7,
     "metadata": {},
     "output_type": "execute_result"
    }
   ],
   "source": [
    "df.head(5)"
   ]
  },
  {
   "cell_type": "markdown",
   "id": "fee99964",
   "metadata": {
    "papermill": {
     "duration": 0.009497,
     "end_time": "2023-08-15T13:05:53.850428",
     "exception": false,
     "start_time": "2023-08-15T13:05:53.840931",
     "status": "completed"
    },
    "tags": []
   },
   "source": [
    "Filter out those rows that do not have any topics associated with the case"
   ]
  },
  {
   "cell_type": "code",
   "execution_count": 8,
   "id": "cd3c67dd",
   "metadata": {
    "execution": {
     "iopub.execute_input": "2023-08-15T13:05:53.872483Z",
     "iopub.status.busy": "2023-08-15T13:05:53.872087Z",
     "iopub.status.idle": "2023-08-15T13:05:53.905191Z",
     "shell.execute_reply": "2023-08-15T13:05:53.904064Z"
    },
    "papermill": {
     "duration": 0.047049,
     "end_time": "2023-08-15T13:05:53.907760",
     "exception": false,
     "start_time": "2023-08-15T13:05:53.860711",
     "status": "completed"
    },
    "tags": []
   },
   "outputs": [
    {
     "data": {
      "text/html": [
       "<div>\n",
       "<style scoped>\n",
       "    .dataframe tbody tr th:only-of-type {\n",
       "        vertical-align: middle;\n",
       "    }\n",
       "\n",
       "    .dataframe tbody tr th {\n",
       "        vertical-align: top;\n",
       "    }\n",
       "\n",
       "    .dataframe thead th {\n",
       "        text-align: right;\n",
       "    }\n",
       "</style>\n",
       "<table border=\"1\" class=\"dataframe\">\n",
       "  <thead>\n",
       "    <tr style=\"text-align: right;\">\n",
       "      <th></th>\n",
       "      <th>id</th>\n",
       "      <th>title</th>\n",
       "      <th>contents</th>\n",
       "      <th>date</th>\n",
       "      <th>topics</th>\n",
       "      <th>components</th>\n",
       "    </tr>\n",
       "  </thead>\n",
       "  <tbody>\n",
       "    <tr>\n",
       "      <th>4</th>\n",
       "      <td>18-898</td>\n",
       "      <td>$100 Million Settlement Will Speed Cleanup Wor...</td>\n",
       "      <td>The U.S. Department of Justice, the U.S. Envir...</td>\n",
       "      <td>2018-07-09T00:00:00-04:00</td>\n",
       "      <td>[Environment]</td>\n",
       "      <td>[Environment and Natural Resources Division]</td>\n",
       "    </tr>\n",
       "    <tr>\n",
       "      <th>7</th>\n",
       "      <td>14-1412</td>\n",
       "      <td>14 Indicted in Connection with New England Com...</td>\n",
       "      <td>A 131-count criminal indictment was unsealed t...</td>\n",
       "      <td>2014-12-17T00:00:00-05:00</td>\n",
       "      <td>[Consumer Protection]</td>\n",
       "      <td>[Civil Division]</td>\n",
       "    </tr>\n",
       "    <tr>\n",
       "      <th>19</th>\n",
       "      <td>17-1419</td>\n",
       "      <td>2017 Southeast Regional Animal Cruelty Prosecu...</td>\n",
       "      <td>The United States Attorney’s Office for the Mi...</td>\n",
       "      <td>2017-12-14T00:00:00-05:00</td>\n",
       "      <td>[Environment]</td>\n",
       "      <td>[Environment and Natural Resources Division, U...</td>\n",
       "    </tr>\n",
       "    <tr>\n",
       "      <th>22</th>\n",
       "      <td>15-1562</td>\n",
       "      <td>21st Century Oncology to Pay $19.75 Million to...</td>\n",
       "      <td>21st Century Oncology LLC, has agreed to pay $...</td>\n",
       "      <td>2015-12-18T00:00:00-05:00</td>\n",
       "      <td>[False Claims Act, Health Care Fraud]</td>\n",
       "      <td>[Civil Division]</td>\n",
       "    </tr>\n",
       "    <tr>\n",
       "      <th>23</th>\n",
       "      <td>17-1404</td>\n",
       "      <td>21st Century Oncology to Pay $26 Million to Se...</td>\n",
       "      <td>21st Century Oncology Inc. and certain of its ...</td>\n",
       "      <td>2017-12-12T00:00:00-05:00</td>\n",
       "      <td>[Health Care Fraud, False Claims Act]</td>\n",
       "      <td>[Civil Division, USAO - Florida, Middle]</td>\n",
       "    </tr>\n",
       "  </tbody>\n",
       "</table>\n",
       "</div>"
      ],
      "text/plain": [
       "         id                                              title  \\\n",
       "4    18-898  $100 Million Settlement Will Speed Cleanup Wor...   \n",
       "7   14-1412  14 Indicted in Connection with New England Com...   \n",
       "19  17-1419  2017 Southeast Regional Animal Cruelty Prosecu...   \n",
       "22  15-1562  21st Century Oncology to Pay $19.75 Million to...   \n",
       "23  17-1404  21st Century Oncology to Pay $26 Million to Se...   \n",
       "\n",
       "                                             contents  \\\n",
       "4   The U.S. Department of Justice, the U.S. Envir...   \n",
       "7   A 131-count criminal indictment was unsealed t...   \n",
       "19  The United States Attorney’s Office for the Mi...   \n",
       "22  21st Century Oncology LLC, has agreed to pay $...   \n",
       "23  21st Century Oncology Inc. and certain of its ...   \n",
       "\n",
       "                         date                                 topics  \\\n",
       "4   2018-07-09T00:00:00-04:00                          [Environment]   \n",
       "7   2014-12-17T00:00:00-05:00                  [Consumer Protection]   \n",
       "19  2017-12-14T00:00:00-05:00                          [Environment]   \n",
       "22  2015-12-18T00:00:00-05:00  [False Claims Act, Health Care Fraud]   \n",
       "23  2017-12-12T00:00:00-05:00  [Health Care Fraud, False Claims Act]   \n",
       "\n",
       "                                           components  \n",
       "4        [Environment and Natural Resources Division]  \n",
       "7                                    [Civil Division]  \n",
       "19  [Environment and Natural Resources Division, U...  \n",
       "22                                   [Civil Division]  \n",
       "23           [Civil Division, USAO - Florida, Middle]  "
      ]
     },
     "execution_count": 8,
     "metadata": {},
     "output_type": "execute_result"
    }
   ],
   "source": [
    "df = df[df[\"topics\"].str.len() != 0]\n",
    "df.head()"
   ]
  },
  {
   "cell_type": "code",
   "execution_count": 9,
   "id": "4748d81c",
   "metadata": {
    "execution": {
     "iopub.execute_input": "2023-08-15T13:05:53.930629Z",
     "iopub.status.busy": "2023-08-15T13:05:53.929826Z",
     "iopub.status.idle": "2023-08-15T13:05:53.937039Z",
     "shell.execute_reply": "2023-08-15T13:05:53.935847Z"
    },
    "papermill": {
     "duration": 0.021339,
     "end_time": "2023-08-15T13:05:53.939361",
     "exception": false,
     "start_time": "2023-08-15T13:05:53.918022",
     "status": "completed"
    },
    "tags": []
   },
   "outputs": [
    {
     "data": {
      "text/plain": [
       "(4688, 6)"
      ]
     },
     "execution_count": 9,
     "metadata": {},
     "output_type": "execute_result"
    }
   ],
   "source": [
    "df.shape"
   ]
  },
  {
   "cell_type": "code",
   "execution_count": 10,
   "id": "b1b6c0a2",
   "metadata": {
    "execution": {
     "iopub.execute_input": "2023-08-15T13:05:53.962450Z",
     "iopub.status.busy": "2023-08-15T13:05:53.961766Z",
     "iopub.status.idle": "2023-08-15T13:05:53.968697Z",
     "shell.execute_reply": "2023-08-15T13:05:53.967707Z"
    },
    "papermill": {
     "duration": 0.021004,
     "end_time": "2023-08-15T13:05:53.970833",
     "exception": false,
     "start_time": "2023-08-15T13:05:53.949829",
     "status": "completed"
    },
    "tags": []
   },
   "outputs": [
    {
     "data": {
      "text/plain": [
       "(100, 6)"
      ]
     },
     "execution_count": 10,
     "metadata": {},
     "output_type": "execute_result"
    }
   ],
   "source": [
    "df =df.head(100)\n",
    "df.shape"
   ]
  },
  {
   "cell_type": "code",
   "execution_count": 11,
   "id": "11a6d01d",
   "metadata": {
    "execution": {
     "iopub.execute_input": "2023-08-15T13:05:53.993977Z",
     "iopub.status.busy": "2023-08-15T13:05:53.993304Z",
     "iopub.status.idle": "2023-08-15T13:06:10.035662Z",
     "shell.execute_reply": "2023-08-15T13:06:10.034658Z"
    },
    "papermill": {
     "duration": 16.057172,
     "end_time": "2023-08-15T13:06:10.038523",
     "exception": false,
     "start_time": "2023-08-15T13:05:53.981351",
     "status": "completed"
    },
    "tags": []
   },
   "outputs": [],
   "source": [
    "df[\"contents_new\"] = df.contents.apply(preprocess)"
   ]
  },
  {
   "cell_type": "code",
   "execution_count": 12,
   "id": "eb26bd44",
   "metadata": {
    "execution": {
     "iopub.execute_input": "2023-08-15T13:06:10.061552Z",
     "iopub.status.busy": "2023-08-15T13:06:10.061117Z",
     "iopub.status.idle": "2023-08-15T13:06:10.086958Z",
     "shell.execute_reply": "2023-08-15T13:06:10.086155Z"
    },
    "papermill": {
     "duration": 0.040026,
     "end_time": "2023-08-15T13:06:10.089139",
     "exception": false,
     "start_time": "2023-08-15T13:06:10.049113",
     "status": "completed"
    },
    "tags": []
   },
   "outputs": [
    {
     "data": {
      "text/html": [
       "<div>\n",
       "<style scoped>\n",
       "    .dataframe tbody tr th:only-of-type {\n",
       "        vertical-align: middle;\n",
       "    }\n",
       "\n",
       "    .dataframe tbody tr th {\n",
       "        vertical-align: top;\n",
       "    }\n",
       "\n",
       "    .dataframe thead th {\n",
       "        text-align: right;\n",
       "    }\n",
       "</style>\n",
       "<table border=\"1\" class=\"dataframe\">\n",
       "  <thead>\n",
       "    <tr style=\"text-align: right;\">\n",
       "      <th></th>\n",
       "      <th>id</th>\n",
       "      <th>title</th>\n",
       "      <th>contents</th>\n",
       "      <th>date</th>\n",
       "      <th>topics</th>\n",
       "      <th>components</th>\n",
       "      <th>contents_new</th>\n",
       "    </tr>\n",
       "  </thead>\n",
       "  <tbody>\n",
       "    <tr>\n",
       "      <th>4</th>\n",
       "      <td>18-898</td>\n",
       "      <td>$100 Million Settlement Will Speed Cleanup Wor...</td>\n",
       "      <td>The U.S. Department of Justice, the U.S. Envir...</td>\n",
       "      <td>2018-07-09T00:00:00-04:00</td>\n",
       "      <td>[Environment]</td>\n",
       "      <td>[Environment and Natural Resources Division]</td>\n",
       "      <td>U.S. Department Justice , U.S. Environmental P...</td>\n",
       "    </tr>\n",
       "    <tr>\n",
       "      <th>7</th>\n",
       "      <td>14-1412</td>\n",
       "      <td>14 Indicted in Connection with New England Com...</td>\n",
       "      <td>A 131-count criminal indictment was unsealed t...</td>\n",
       "      <td>2014-12-17T00:00:00-05:00</td>\n",
       "      <td>[Consumer Protection]</td>\n",
       "      <td>[Civil Division]</td>\n",
       "      <td>131 - count criminal indictment unsealed today...</td>\n",
       "    </tr>\n",
       "    <tr>\n",
       "      <th>19</th>\n",
       "      <td>17-1419</td>\n",
       "      <td>2017 Southeast Regional Animal Cruelty Prosecu...</td>\n",
       "      <td>The United States Attorney’s Office for the Mi...</td>\n",
       "      <td>2017-12-14T00:00:00-05:00</td>\n",
       "      <td>[Environment]</td>\n",
       "      <td>[Environment and Natural Resources Division, U...</td>\n",
       "      <td>United States Attorney Office Middle District ...</td>\n",
       "    </tr>\n",
       "    <tr>\n",
       "      <th>22</th>\n",
       "      <td>15-1562</td>\n",
       "      <td>21st Century Oncology to Pay $19.75 Million to...</td>\n",
       "      <td>21st Century Oncology LLC, has agreed to pay $...</td>\n",
       "      <td>2015-12-18T00:00:00-05:00</td>\n",
       "      <td>[False Claims Act, Health Care Fraud]</td>\n",
       "      <td>[Civil Division]</td>\n",
       "      <td>21st Century Oncology LLC , agreed pay $ 19.75...</td>\n",
       "    </tr>\n",
       "    <tr>\n",
       "      <th>23</th>\n",
       "      <td>17-1404</td>\n",
       "      <td>21st Century Oncology to Pay $26 Million to Se...</td>\n",
       "      <td>21st Century Oncology Inc. and certain of its ...</td>\n",
       "      <td>2017-12-12T00:00:00-05:00</td>\n",
       "      <td>[Health Care Fraud, False Claims Act]</td>\n",
       "      <td>[Civil Division, USAO - Florida, Middle]</td>\n",
       "      <td>21st Century Oncology Inc. certain subsidiarie...</td>\n",
       "    </tr>\n",
       "    <tr>\n",
       "      <th>...</th>\n",
       "      <td>...</td>\n",
       "      <td>...</td>\n",
       "      <td>...</td>\n",
       "      <td>...</td>\n",
       "      <td>...</td>\n",
       "      <td>...</td>\n",
       "      <td>...</td>\n",
       "    </tr>\n",
       "    <tr>\n",
       "      <th>316</th>\n",
       "      <td>15-1359</td>\n",
       "      <td>Alaska Plastic Surgeon Convicted of Wire Fraud...</td>\n",
       "      <td>Doctor Hid Millions in Secret Accounts in Pana...</td>\n",
       "      <td>2015-11-04T00:00:00-05:00</td>\n",
       "      <td>[Tax]</td>\n",
       "      <td>[Tax Division]</td>\n",
       "      <td>Doctor Hid Millions Secret Accounts Panama Ala...</td>\n",
       "    </tr>\n",
       "    <tr>\n",
       "      <th>318</th>\n",
       "      <td>16-396</td>\n",
       "      <td>Alaska Plastic Surgeon Sentenced to Prison for...</td>\n",
       "      <td>Defendant Concealed Bank Accounts in Panama an...</td>\n",
       "      <td>2016-04-04T00:00:00-04:00</td>\n",
       "      <td>[Tax]</td>\n",
       "      <td>[Tax Division]</td>\n",
       "      <td>Defendant Concealed Bank Accounts Panama Costa...</td>\n",
       "    </tr>\n",
       "    <tr>\n",
       "      <th>321</th>\n",
       "      <td>17-736</td>\n",
       "      <td>Alaskan Commercial Fishing Couple Charged with...</td>\n",
       "      <td>An Alaskan couple was charged in federal court...</td>\n",
       "      <td>2017-07-26T00:00:00-04:00</td>\n",
       "      <td>[Tax]</td>\n",
       "      <td>[Tax Division, USAO - Alaska]</td>\n",
       "      <td>Alaskan couple charged federal court Juneau , ...</td>\n",
       "    </tr>\n",
       "    <tr>\n",
       "      <th>322</th>\n",
       "      <td>18-717</td>\n",
       "      <td>Alaskan Husband And Wife Plead Guilty To Willf...</td>\n",
       "      <td>A husband and wife pleaded guilty yesterday to...</td>\n",
       "      <td>2018-06-01T00:00:00-04:00</td>\n",
       "      <td>[Tax]</td>\n",
       "      <td>[Tax Division]</td>\n",
       "      <td>husband wife pleaded guilty yesterday counts w...</td>\n",
       "    </tr>\n",
       "    <tr>\n",
       "      <th>324</th>\n",
       "      <td>16-1345</td>\n",
       "      <td>Alaskan Oncologist Indicted for Tax Evasion</td>\n",
       "      <td>A resident of Big Lake, Alaska was indicted on...</td>\n",
       "      <td>2016-11-17T00:00:00-05:00</td>\n",
       "      <td>[Tax]</td>\n",
       "      <td>[Tax Division]</td>\n",
       "      <td>resident Big Lake , Alaska indicted counts tax...</td>\n",
       "    </tr>\n",
       "  </tbody>\n",
       "</table>\n",
       "<p>100 rows × 7 columns</p>\n",
       "</div>"
      ],
      "text/plain": [
       "          id                                              title  \\\n",
       "4     18-898  $100 Million Settlement Will Speed Cleanup Wor...   \n",
       "7    14-1412  14 Indicted in Connection with New England Com...   \n",
       "19   17-1419  2017 Southeast Regional Animal Cruelty Prosecu...   \n",
       "22   15-1562  21st Century Oncology to Pay $19.75 Million to...   \n",
       "23   17-1404  21st Century Oncology to Pay $26 Million to Se...   \n",
       "..       ...                                                ...   \n",
       "316  15-1359  Alaska Plastic Surgeon Convicted of Wire Fraud...   \n",
       "318   16-396  Alaska Plastic Surgeon Sentenced to Prison for...   \n",
       "321   17-736  Alaskan Commercial Fishing Couple Charged with...   \n",
       "322   18-717  Alaskan Husband And Wife Plead Guilty To Willf...   \n",
       "324  16-1345        Alaskan Oncologist Indicted for Tax Evasion   \n",
       "\n",
       "                                              contents  \\\n",
       "4    The U.S. Department of Justice, the U.S. Envir...   \n",
       "7    A 131-count criminal indictment was unsealed t...   \n",
       "19   The United States Attorney’s Office for the Mi...   \n",
       "22   21st Century Oncology LLC, has agreed to pay $...   \n",
       "23   21st Century Oncology Inc. and certain of its ...   \n",
       "..                                                 ...   \n",
       "316  Doctor Hid Millions in Secret Accounts in Pana...   \n",
       "318  Defendant Concealed Bank Accounts in Panama an...   \n",
       "321  An Alaskan couple was charged in federal court...   \n",
       "322  A husband and wife pleaded guilty yesterday to...   \n",
       "324  A resident of Big Lake, Alaska was indicted on...   \n",
       "\n",
       "                          date                                 topics  \\\n",
       "4    2018-07-09T00:00:00-04:00                          [Environment]   \n",
       "7    2014-12-17T00:00:00-05:00                  [Consumer Protection]   \n",
       "19   2017-12-14T00:00:00-05:00                          [Environment]   \n",
       "22   2015-12-18T00:00:00-05:00  [False Claims Act, Health Care Fraud]   \n",
       "23   2017-12-12T00:00:00-05:00  [Health Care Fraud, False Claims Act]   \n",
       "..                         ...                                    ...   \n",
       "316  2015-11-04T00:00:00-05:00                                  [Tax]   \n",
       "318  2016-04-04T00:00:00-04:00                                  [Tax]   \n",
       "321  2017-07-26T00:00:00-04:00                                  [Tax]   \n",
       "322  2018-06-01T00:00:00-04:00                                  [Tax]   \n",
       "324  2016-11-17T00:00:00-05:00                                  [Tax]   \n",
       "\n",
       "                                            components  \\\n",
       "4         [Environment and Natural Resources Division]   \n",
       "7                                     [Civil Division]   \n",
       "19   [Environment and Natural Resources Division, U...   \n",
       "22                                    [Civil Division]   \n",
       "23            [Civil Division, USAO - Florida, Middle]   \n",
       "..                                                 ...   \n",
       "316                                     [Tax Division]   \n",
       "318                                     [Tax Division]   \n",
       "321                      [Tax Division, USAO - Alaska]   \n",
       "322                                     [Tax Division]   \n",
       "324                                     [Tax Division]   \n",
       "\n",
       "                                          contents_new  \n",
       "4    U.S. Department Justice , U.S. Environmental P...  \n",
       "7    131 - count criminal indictment unsealed today...  \n",
       "19   United States Attorney Office Middle District ...  \n",
       "22   21st Century Oncology LLC , agreed pay $ 19.75...  \n",
       "23   21st Century Oncology Inc. certain subsidiarie...  \n",
       "..                                                 ...  \n",
       "316  Doctor Hid Millions Secret Accounts Panama Ala...  \n",
       "318  Defendant Concealed Bank Accounts Panama Costa...  \n",
       "321  Alaskan couple charged federal court Juneau , ...  \n",
       "322  husband wife pleaded guilty yesterday counts w...  \n",
       "324  resident Big Lake , Alaska indicted counts tax...  \n",
       "\n",
       "[100 rows x 7 columns]"
      ]
     },
     "execution_count": 12,
     "metadata": {},
     "output_type": "execute_result"
    }
   ],
   "source": [
    "df"
   ]
  },
  {
   "cell_type": "code",
   "execution_count": 13,
   "id": "4dca7ef6",
   "metadata": {
    "execution": {
     "iopub.execute_input": "2023-08-15T13:06:10.113409Z",
     "iopub.status.busy": "2023-08-15T13:06:10.112423Z",
     "iopub.status.idle": "2023-08-15T13:06:10.121068Z",
     "shell.execute_reply": "2023-08-15T13:06:10.119966Z"
    },
    "papermill": {
     "duration": 0.023228,
     "end_time": "2023-08-15T13:06:10.123497",
     "exception": false,
     "start_time": "2023-08-15T13:06:10.100269",
     "status": "completed"
    },
    "tags": []
   },
   "outputs": [
    {
     "data": {
      "text/plain": [
       "6286"
      ]
     },
     "execution_count": 13,
     "metadata": {},
     "output_type": "execute_result"
    }
   ],
   "source": [
    "len(df.contents[4])"
   ]
  },
  {
   "cell_type": "code",
   "execution_count": 14,
   "id": "37561703",
   "metadata": {
    "execution": {
     "iopub.execute_input": "2023-08-15T13:06:10.148498Z",
     "iopub.status.busy": "2023-08-15T13:06:10.147713Z",
     "iopub.status.idle": "2023-08-15T13:06:10.154825Z",
     "shell.execute_reply": "2023-08-15T13:06:10.153908Z"
    },
    "papermill": {
     "duration": 0.022256,
     "end_time": "2023-08-15T13:06:10.156919",
     "exception": false,
     "start_time": "2023-08-15T13:06:10.134663",
     "status": "completed"
    },
    "scrolled": true,
    "tags": []
   },
   "outputs": [
    {
     "data": {
      "text/plain": [
       "4810"
      ]
     },
     "execution_count": 14,
     "metadata": {},
     "output_type": "execute_result"
    }
   ],
   "source": [
    "len(df.contents_new[4])"
   ]
  },
  {
   "cell_type": "code",
   "execution_count": 15,
   "id": "e8570c34",
   "metadata": {
    "execution": {
     "iopub.execute_input": "2023-08-15T13:06:10.181429Z",
     "iopub.status.busy": "2023-08-15T13:06:10.181018Z",
     "iopub.status.idle": "2023-08-15T13:06:10.188064Z",
     "shell.execute_reply": "2023-08-15T13:06:10.186971Z"
    },
    "papermill": {
     "duration": 0.02177,
     "end_time": "2023-08-15T13:06:10.190503",
     "exception": false,
     "start_time": "2023-08-15T13:06:10.168733",
     "status": "completed"
    },
    "tags": []
   },
   "outputs": [
    {
     "data": {
      "text/plain": [
       "'The U.S. Department of Justice, the U.S. Environmental Protection Agency (EPA), and the Rhode Island Department of Environmental Management (RIDEM) announced today that two subsidiaries of Stanley Black & Decker Inc.—Emhart Industries Inc. and Black & Decker Inc.—have agreed to clean up dioxin conta'"
      ]
     },
     "execution_count": 15,
     "metadata": {},
     "output_type": "execute_result"
    }
   ],
   "source": [
    "df.contents[4][:300]"
   ]
  },
  {
   "cell_type": "code",
   "execution_count": 16,
   "id": "15b8c128",
   "metadata": {
    "execution": {
     "iopub.execute_input": "2023-08-15T13:06:10.215149Z",
     "iopub.status.busy": "2023-08-15T13:06:10.214764Z",
     "iopub.status.idle": "2023-08-15T13:06:10.221112Z",
     "shell.execute_reply": "2023-08-15T13:06:10.220119Z"
    },
    "papermill": {
     "duration": 0.021498,
     "end_time": "2023-08-15T13:06:10.223454",
     "exception": false,
     "start_time": "2023-08-15T13:06:10.201956",
     "status": "completed"
    },
    "tags": []
   },
   "outputs": [
    {
     "data": {
      "text/plain": [
       "'U.S. Department Justice , U.S. Environmental Protection Agency ( EPA ) , Rhode Island Department Environmental Management ( RIDEM ) announced today subsidiaries Stanley Black & Decker Inc.—Emhart Industries Inc. Black & Decker Inc.—have agreed clean dioxin contaminated sediment soil Centredale Manor'"
      ]
     },
     "execution_count": 16,
     "metadata": {},
     "output_type": "execute_result"
    }
   ],
   "source": [
    "df.contents_new[4][:300]"
   ]
  },
  {
   "cell_type": "markdown",
   "id": "bb5d7226",
   "metadata": {
    "papermill": {
     "duration": 0.011101,
     "end_time": "2023-08-15T13:06:10.245843",
     "exception": false,
     "start_time": "2023-08-15T13:06:10.234742",
     "status": "completed"
    },
    "tags": []
   },
   "source": [
    "##### Examples where removing stop words can create a problem"
   ]
  },
  {
   "cell_type": "markdown",
   "id": "386c9067",
   "metadata": {
    "papermill": {
     "duration": 0.011044,
     "end_time": "2023-08-15T13:06:10.268401",
     "exception": false,
     "start_time": "2023-08-15T13:06:10.257357",
     "status": "completed"
    },
    "tags": []
   },
   "source": [
    "**(1) Sentiment detection: Not always but in some cases, based on your dataset it can change the sentiment of a sentence if you remove stop words**"
   ]
  },
  {
   "cell_type": "code",
   "execution_count": 17,
   "id": "11b42a96",
   "metadata": {
    "execution": {
     "iopub.execute_input": "2023-08-15T13:06:10.292935Z",
     "iopub.status.busy": "2023-08-15T13:06:10.292548Z",
     "iopub.status.idle": "2023-08-15T13:06:10.307518Z",
     "shell.execute_reply": "2023-08-15T13:06:10.306524Z"
    },
    "papermill": {
     "duration": 0.029933,
     "end_time": "2023-08-15T13:06:10.309681",
     "exception": false,
     "start_time": "2023-08-15T13:06:10.279748",
     "status": "completed"
    },
    "tags": []
   },
   "outputs": [
    {
     "data": {
      "text/plain": [
       "'good movie'"
      ]
     },
     "execution_count": 17,
     "metadata": {},
     "output_type": "execute_result"
    }
   ],
   "source": [
    "preprocess(\"this is a good movie\")"
   ]
  },
  {
   "cell_type": "code",
   "execution_count": 18,
   "id": "2ca885ce",
   "metadata": {
    "execution": {
     "iopub.execute_input": "2023-08-15T13:06:10.334137Z",
     "iopub.status.busy": "2023-08-15T13:06:10.333728Z",
     "iopub.status.idle": "2023-08-15T13:06:10.348186Z",
     "shell.execute_reply": "2023-08-15T13:06:10.347112Z"
    },
    "papermill": {
     "duration": 0.029508,
     "end_time": "2023-08-15T13:06:10.350442",
     "exception": false,
     "start_time": "2023-08-15T13:06:10.320934",
     "status": "completed"
    },
    "tags": []
   },
   "outputs": [
    {
     "data": {
      "text/plain": [
       "'good movie'"
      ]
     },
     "execution_count": 18,
     "metadata": {},
     "output_type": "execute_result"
    }
   ],
   "source": [
    "preprocess(\"this is not a good movie\")"
   ]
  },
  {
   "cell_type": "markdown",
   "id": "49390893",
   "metadata": {
    "papermill": {
     "duration": 0.011336,
     "end_time": "2023-08-15T13:06:10.373521",
     "exception": false,
     "start_time": "2023-08-15T13:06:10.362185",
     "status": "completed"
    },
    "tags": []
   },
   "source": [
    "**(2) Language translation: Say you want to translate following sentence from english to telugu. Before actual translation if you remove stop words and then translate, it will produce horrible result**"
   ]
  },
  {
   "cell_type": "code",
   "execution_count": 19,
   "id": "364fca5a",
   "metadata": {
    "execution": {
     "iopub.execute_input": "2023-08-15T13:06:10.398896Z",
     "iopub.status.busy": "2023-08-15T13:06:10.398202Z",
     "iopub.status.idle": "2023-08-15T13:06:10.412014Z",
     "shell.execute_reply": "2023-08-15T13:06:10.410999Z"
    },
    "papermill": {
     "duration": 0.029011,
     "end_time": "2023-08-15T13:06:10.414149",
     "exception": false,
     "start_time": "2023-08-15T13:06:10.385138",
     "status": "completed"
    },
    "scrolled": true,
    "tags": []
   },
   "outputs": [
    {
     "data": {
      "text/plain": [
       "'dhaval ?'"
      ]
     },
     "execution_count": 19,
     "metadata": {},
     "output_type": "execute_result"
    }
   ],
   "source": [
    "preprocess(\"how are you doing dhaval?\")"
   ]
  },
  {
   "cell_type": "markdown",
   "id": "e826a712",
   "metadata": {
    "papermill": {
     "duration": 0.011621,
     "end_time": "2023-08-15T13:06:10.437496",
     "exception": false,
     "start_time": "2023-08-15T13:06:10.425875",
     "status": "completed"
    },
    "tags": []
   },
   "source": [
    "**(3) Chat bot or any Q&A system**"
   ]
  },
  {
   "cell_type": "code",
   "execution_count": 20,
   "id": "381f8d0d",
   "metadata": {
    "execution": {
     "iopub.execute_input": "2023-08-15T13:06:10.463657Z",
     "iopub.status.busy": "2023-08-15T13:06:10.462962Z",
     "iopub.status.idle": "2023-08-15T13:06:10.478757Z",
     "shell.execute_reply": "2023-08-15T13:06:10.477985Z"
    },
    "papermill": {
     "duration": 0.031876,
     "end_time": "2023-08-15T13:06:10.481025",
     "exception": false,
     "start_time": "2023-08-15T13:06:10.449149",
     "status": "completed"
    },
    "tags": []
   },
   "outputs": [
    {
     "data": {
      "text/plain": [
       "'find yoga mat website . help ?'"
      ]
     },
     "execution_count": 20,
     "metadata": {},
     "output_type": "execute_result"
    }
   ],
   "source": [
    "preprocess(\"I don't find yoga mat on your website. Can you help?\")"
   ]
  }
 ],
 "metadata": {
  "kernelspec": {
   "display_name": "Python 3",
   "language": "python",
   "name": "python3"
  },
  "language_info": {
   "codemirror_mode": {
    "name": "ipython",
    "version": 3
   },
   "file_extension": ".py",
   "mimetype": "text/x-python",
   "name": "python",
   "nbconvert_exporter": "python",
   "pygments_lexer": "ipython3",
   "version": "3.10.12"
  },
  "papermill": {
   "default_parameters": {},
   "duration": 50.675129,
   "end_time": "2023-08-15T13:06:13.462846",
   "environment_variables": {},
   "exception": null,
   "input_path": "__notebook__.ipynb",
   "output_path": "__notebook__.ipynb",
   "parameters": {},
   "start_time": "2023-08-15T13:05:22.787717",
   "version": "2.4.0"
  }
 },
 "nbformat": 4,
 "nbformat_minor": 5
}
