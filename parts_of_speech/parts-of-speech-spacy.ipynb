{
 "cells": [
  {
   "cell_type": "code",
   "execution_count": 1,
   "id": "69b9345f",
   "metadata": {
    "execution": {
     "iopub.execute_input": "2023-08-15T10:45:17.340220Z",
     "iopub.status.busy": "2023-08-15T10:45:17.339550Z",
     "iopub.status.idle": "2023-08-15T10:45:33.893972Z",
     "shell.execute_reply": "2023-08-15T10:45:33.892869Z"
    },
    "papermill": {
     "duration": 16.56691,
     "end_time": "2023-08-15T10:45:33.896936",
     "exception": false,
     "start_time": "2023-08-15T10:45:17.330026",
     "status": "completed"
    },
    "tags": []
   },
   "outputs": [
    {
     "name": "stderr",
     "output_type": "stream",
     "text": [
      "/opt/conda/lib/python3.10/site-packages/scipy/__init__.py:146: UserWarning: A NumPy version >=1.16.5 and <1.23.0 is required for this version of SciPy (detected version 1.23.5\n",
      "  warnings.warn(f\"A NumPy version >={np_minversion} and <{np_maxversion}\"\n",
      "/opt/conda/lib/python3.10/site-packages/tensorflow_io/python/ops/__init__.py:98: UserWarning: unable to load libtensorflow_io_plugins.so: unable to open file: libtensorflow_io_plugins.so, from paths: ['/opt/conda/lib/python3.10/site-packages/tensorflow_io/python/ops/libtensorflow_io_plugins.so']\n",
      "caused by: ['/opt/conda/lib/python3.10/site-packages/tensorflow_io/python/ops/libtensorflow_io_plugins.so: undefined symbol: _ZN3tsl6StatusC1EN10tensorflow5error4CodeESt17basic_string_viewIcSt11char_traitsIcEENS_14SourceLocationE']\n",
      "  warnings.warn(f\"unable to load libtensorflow_io_plugins.so: {e}\")\n",
      "/opt/conda/lib/python3.10/site-packages/tensorflow_io/python/ops/__init__.py:104: UserWarning: file system plugins are not loaded: unable to open file: libtensorflow_io.so, from paths: ['/opt/conda/lib/python3.10/site-packages/tensorflow_io/python/ops/libtensorflow_io.so']\n",
      "caused by: ['/opt/conda/lib/python3.10/site-packages/tensorflow_io/python/ops/libtensorflow_io.so: undefined symbol: _ZTVN10tensorflow13GcsFileSystemE']\n",
      "  warnings.warn(f\"file system plugins are not loaded: {e}\")\n"
     ]
    }
   ],
   "source": [
    "import spacy"
   ]
  },
  {
   "cell_type": "markdown",
   "id": "e1240a50",
   "metadata": {
    "papermill": {
     "duration": 0.006653,
     "end_time": "2023-08-15T10:45:33.911309",
     "exception": false,
     "start_time": "2023-08-15T10:45:33.904656",
     "status": "completed"
    },
    "tags": []
   },
   "source": [
    "<h3>POS tags</h3>"
   ]
  },
  {
   "cell_type": "code",
   "execution_count": 2,
   "id": "500b82cb",
   "metadata": {
    "execution": {
     "iopub.execute_input": "2023-08-15T10:45:33.928682Z",
     "iopub.status.busy": "2023-08-15T10:45:33.927487Z",
     "iopub.status.idle": "2023-08-15T10:45:35.387171Z",
     "shell.execute_reply": "2023-08-15T10:45:35.385735Z"
    },
    "papermill": {
     "duration": 1.471962,
     "end_time": "2023-08-15T10:45:35.390184",
     "exception": false,
     "start_time": "2023-08-15T10:45:33.918222",
     "status": "completed"
    },
    "scrolled": true,
    "tags": []
   },
   "outputs": [
    {
     "name": "stdout",
     "output_type": "stream",
     "text": [
      "Elon  |  PROPN  |  proper noun\n",
      "flew  |  VERB  |  verb\n",
      "to  |  ADP  |  adposition\n",
      "mars  |  NOUN  |  noun\n",
      "yesterday  |  NOUN  |  noun\n",
      ".  |  PUNCT  |  punctuation\n",
      "He  |  PRON  |  pronoun\n",
      "carried  |  VERB  |  verb\n",
      "biryani  |  ADJ  |  adjective\n",
      "masala  |  NOUN  |  noun\n",
      "with  |  ADP  |  adposition\n",
      "him  |  PRON  |  pronoun\n"
     ]
    }
   ],
   "source": [
    "nlp = spacy.load(\"en_core_web_sm\")\n",
    "doc = nlp(\"Elon flew to mars yesterday. He carried biryani masala with him\")\n",
    "\n",
    "for token in doc:\n",
    "    print(token,\" | \", token.pos_, \" | \", spacy.explain(token.pos_))"
   ]
  },
  {
   "cell_type": "markdown",
   "id": "74860055",
   "metadata": {
    "papermill": {
     "duration": 0.007595,
     "end_time": "2023-08-15T10:45:35.404981",
     "exception": false,
     "start_time": "2023-08-15T10:45:35.397386",
     "status": "completed"
    },
    "tags": []
   },
   "source": [
    "You can check https://v2.spacy.io/api/annotation for the complete list of pos categories in spacy. \n",
    "\n",
    "https://en.wikipedia.org/wiki/Preposition_and_postposition\n",
    "\n",
    "https://en.wikipedia.org/wiki/Part_of_speech"
   ]
  },
  {
   "cell_type": "code",
   "execution_count": 3,
   "id": "8dfff702",
   "metadata": {
    "execution": {
     "iopub.execute_input": "2023-08-15T10:45:35.422296Z",
     "iopub.status.busy": "2023-08-15T10:45:35.421543Z",
     "iopub.status.idle": "2023-08-15T10:45:35.439705Z",
     "shell.execute_reply": "2023-08-15T10:45:35.438209Z"
    },
    "papermill": {
     "duration": 0.030838,
     "end_time": "2023-08-15T10:45:35.442987",
     "exception": false,
     "start_time": "2023-08-15T10:45:35.412149",
     "status": "completed"
    },
    "tags": []
   },
   "outputs": [
    {
     "name": "stdout",
     "output_type": "stream",
     "text": [
      "Wow  |  INTJ  |  interjection\n",
      "!  |  PUNCT  |  punctuation\n",
      "Dr.  |  PROPN  |  proper noun\n",
      "Strange  |  PROPN  |  proper noun\n",
      "made  |  VERB  |  verb\n",
      "265  |  NUM  |  numeral\n",
      "million  |  NUM  |  numeral\n",
      "$  |  NUM  |  numeral\n",
      "on  |  ADP  |  adposition\n",
      "the  |  DET  |  determiner\n",
      "very  |  ADV  |  adverb\n",
      "first  |  ADJ  |  adjective\n",
      "day  |  NOUN  |  noun\n"
     ]
    }
   ],
   "source": [
    "doc = nlp(\"Wow! Dr. Strange made 265 million $ on the very first day\")\n",
    "\n",
    "for token in doc:\n",
    "    print(token,\" | \", token.pos_, \" | \", spacy.explain(token.pos_))"
   ]
  },
  {
   "cell_type": "markdown",
   "id": "05d245a5",
   "metadata": {
    "papermill": {
     "duration": 0.006718,
     "end_time": "2023-08-15T10:45:35.456702",
     "exception": false,
     "start_time": "2023-08-15T10:45:35.449984",
     "status": "completed"
    },
    "tags": []
   },
   "source": [
    "<h3>Tags</h3>"
   ]
  },
  {
   "cell_type": "code",
   "execution_count": 4,
   "id": "0002b68a",
   "metadata": {
    "execution": {
     "iopub.execute_input": "2023-08-15T10:45:35.472849Z",
     "iopub.status.busy": "2023-08-15T10:45:35.472374Z",
     "iopub.status.idle": "2023-08-15T10:45:35.493046Z",
     "shell.execute_reply": "2023-08-15T10:45:35.491120Z"
    },
    "papermill": {
     "duration": 0.032765,
     "end_time": "2023-08-15T10:45:35.496506",
     "exception": false,
     "start_time": "2023-08-15T10:45:35.463741",
     "status": "completed"
    },
    "tags": []
   },
   "outputs": [
    {
     "name": "stdout",
     "output_type": "stream",
     "text": [
      "Wow  |  INTJ  |  interjection  |  UH  |  interjection\n",
      "!  |  PUNCT  |  punctuation  |  .  |  punctuation mark, sentence closer\n",
      "Dr.  |  PROPN  |  proper noun  |  NNP  |  noun, proper singular\n",
      "Strange  |  PROPN  |  proper noun  |  NNP  |  noun, proper singular\n",
      "made  |  VERB  |  verb  |  VBD  |  verb, past tense\n",
      "265  |  NUM  |  numeral  |  CD  |  cardinal number\n",
      "million  |  NUM  |  numeral  |  CD  |  cardinal number\n",
      "$  |  NUM  |  numeral  |  CD  |  cardinal number\n",
      "on  |  ADP  |  adposition  |  IN  |  conjunction, subordinating or preposition\n",
      "the  |  DET  |  determiner  |  DT  |  determiner\n",
      "very  |  ADV  |  adverb  |  RB  |  adverb\n",
      "first  |  ADJ  |  adjective  |  JJ  |  adjective (English), other noun-modifier (Chinese)\n",
      "day  |  NOUN  |  noun  |  NN  |  noun, singular or mass\n"
     ]
    }
   ],
   "source": [
    "doc = nlp(\"Wow! Dr. Strange made 265 million $ on the very first day\")\n",
    "\n",
    "for token in doc:\n",
    "    print(token,\" | \", token.pos_, \" | \", spacy.explain(token.pos_), \" | \", token.tag_, \" | \", spacy.explain(token.tag_))"
   ]
  },
  {
   "cell_type": "markdown",
   "id": "b2321105",
   "metadata": {
    "papermill": {
     "duration": 0.00733,
     "end_time": "2023-08-15T10:45:35.511897",
     "exception": false,
     "start_time": "2023-08-15T10:45:35.504567",
     "status": "completed"
    },
    "tags": []
   },
   "source": [
    "<h3>In below sentences Spacy figures out the past vs present tense for quit </h3>"
   ]
  },
  {
   "cell_type": "code",
   "execution_count": 5,
   "id": "addb2609",
   "metadata": {
    "execution": {
     "iopub.execute_input": "2023-08-15T10:45:35.529036Z",
     "iopub.status.busy": "2023-08-15T10:45:35.528565Z",
     "iopub.status.idle": "2023-08-15T10:45:35.545523Z",
     "shell.execute_reply": "2023-08-15T10:45:35.543723Z"
    },
    "papermill": {
     "duration": 0.02973,
     "end_time": "2023-08-15T10:45:35.549157",
     "exception": false,
     "start_time": "2023-08-15T10:45:35.519427",
     "status": "completed"
    },
    "tags": []
   },
   "outputs": [
    {
     "name": "stdout",
     "output_type": "stream",
     "text": [
      "quits | VBZ | verb, 3rd person singular present\n"
     ]
    }
   ],
   "source": [
    "doc = nlp(\"He quits the job\")\n",
    "\n",
    "print(doc[1].text, \"|\", doc[1].tag_, \"|\", spacy.explain(doc[1].tag_))"
   ]
  },
  {
   "cell_type": "code",
   "execution_count": 6,
   "id": "7bb2b56e",
   "metadata": {
    "execution": {
     "iopub.execute_input": "2023-08-15T10:45:35.568813Z",
     "iopub.status.busy": "2023-08-15T10:45:35.568278Z",
     "iopub.status.idle": "2023-08-15T10:45:35.586377Z",
     "shell.execute_reply": "2023-08-15T10:45:35.585215Z"
    },
    "papermill": {
     "duration": 0.032956,
     "end_time": "2023-08-15T10:45:35.589407",
     "exception": false,
     "start_time": "2023-08-15T10:45:35.556451",
     "status": "completed"
    },
    "scrolled": true,
    "tags": []
   },
   "outputs": [
    {
     "name": "stdout",
     "output_type": "stream",
     "text": [
      "quit | VBD | verb, past tense\n"
     ]
    }
   ],
   "source": [
    "doc = nlp(\"he quit the job\")\n",
    "\n",
    "print(doc[1].text, \"|\", doc[1].tag_, \"|\", spacy.explain(doc[1].tag_))"
   ]
  },
  {
   "cell_type": "markdown",
   "id": "3c74ed18",
   "metadata": {
    "papermill": {
     "duration": 0.00703,
     "end_time": "2023-08-15T10:45:35.603741",
     "exception": false,
     "start_time": "2023-08-15T10:45:35.596711",
     "status": "completed"
    },
    "tags": []
   },
   "source": [
    "<h3>Removing all SPACE, PUNCT and X token from text</h3>"
   ]
  },
  {
   "cell_type": "markdown",
   "id": "5baa13fa",
   "metadata": {
    "papermill": {
     "duration": 0.00791,
     "end_time": "2023-08-15T10:45:35.619898",
     "exception": false,
     "start_time": "2023-08-15T10:45:35.611988",
     "status": "completed"
    },
    "tags": []
   },
   "source": [
    "Processing microsoft's earning report: https://www.microsoft.com/en-us/investor/earnings/fy-2022-q2/press-release-webcast"
   ]
  },
  {
   "cell_type": "code",
   "execution_count": 7,
   "id": "db05da0d",
   "metadata": {
    "execution": {
     "iopub.execute_input": "2023-08-15T10:45:35.638552Z",
     "iopub.status.busy": "2023-08-15T10:45:35.638050Z",
     "iopub.status.idle": "2023-08-15T10:45:35.705853Z",
     "shell.execute_reply": "2023-08-15T10:45:35.704144Z"
    },
    "papermill": {
     "duration": 0.080464,
     "end_time": "2023-08-15T10:45:35.709437",
     "exception": false,
     "start_time": "2023-08-15T10:45:35.628973",
     "status": "completed"
    },
    "tags": []
   },
   "outputs": [],
   "source": [
    "earnings_text=\"\"\"Microsoft Corp. today announced the following results for the quarter ended December 31, 2021, as compared to the corresponding period of last fiscal year:\n",
    "\n",
    "·         Revenue was $51.7 billion and increased 20%\n",
    "·         Operating income was $22.2 billion and increased 24%\n",
    "·         Net income was $18.8 billion and increased 21%\n",
    "·         Diluted earnings per share was $2.48 and increased 22%\n",
    "“Digital technology is the most malleable resource at the world’s disposal to overcome constraints and reimagine everyday work and life,” said Satya Nadella, chairman and chief executive officer of Microsoft. “As tech as a percentage of global GDP continues to increase, we are innovating and investing across diverse and growing markets, with a common underlying technology stack and an operating model that reinforces a common strategy, culture, and sense of purpose.”\n",
    "“Solid commercial execution, represented by strong bookings growth driven by long-term Azure commitments, increased Microsoft Cloud revenue to $22.1 billion, up 32% year over year” said Amy Hood, executive vice president and chief financial officer of Microsoft.\"\"\"\n",
    "\n",
    "doc = nlp(earnings_text)\n",
    "\n",
    "filtered_tokens = []\n",
    "\n",
    "for token in doc:\n",
    "    if token.pos_ not in [\"SPACE\", \"PUNCT\", \"X\"]:\n",
    "        filtered_tokens.append(token)"
   ]
  },
  {
   "cell_type": "code",
   "execution_count": 8,
   "id": "ebc47a6f",
   "metadata": {
    "execution": {
     "iopub.execute_input": "2023-08-15T10:45:35.726710Z",
     "iopub.status.busy": "2023-08-15T10:45:35.726276Z",
     "iopub.status.idle": "2023-08-15T10:45:35.735327Z",
     "shell.execute_reply": "2023-08-15T10:45:35.733901Z"
    },
    "papermill": {
     "duration": 0.021139,
     "end_time": "2023-08-15T10:45:35.738037",
     "exception": false,
     "start_time": "2023-08-15T10:45:35.716898",
     "status": "completed"
    },
    "tags": []
   },
   "outputs": [
    {
     "data": {
      "text/plain": [
       "[Microsoft,\n",
       " Corp.,\n",
       " today,\n",
       " announced,\n",
       " the,\n",
       " following,\n",
       " results,\n",
       " for,\n",
       " the,\n",
       " quarter]"
      ]
     },
     "execution_count": 8,
     "metadata": {},
     "output_type": "execute_result"
    }
   ],
   "source": [
    "filtered_tokens[:10]"
   ]
  },
  {
   "cell_type": "code",
   "execution_count": 9,
   "id": "ee0878b3",
   "metadata": {
    "execution": {
     "iopub.execute_input": "2023-08-15T10:45:35.754411Z",
     "iopub.status.busy": "2023-08-15T10:45:35.753746Z",
     "iopub.status.idle": "2023-08-15T10:45:35.764450Z",
     "shell.execute_reply": "2023-08-15T10:45:35.763041Z"
    },
    "papermill": {
     "duration": 0.022158,
     "end_time": "2023-08-15T10:45:35.767227",
     "exception": false,
     "start_time": "2023-08-15T10:45:35.745069",
     "status": "completed"
    },
    "tags": []
   },
   "outputs": [
    {
     "data": {
      "text/plain": [
       "{96: 13,\n",
       " 92: 46,\n",
       " 100: 24,\n",
       " 90: 9,\n",
       " 85: 16,\n",
       " 93: 16,\n",
       " 97: 27,\n",
       " 98: 1,\n",
       " 84: 20,\n",
       " 103: 10,\n",
       " 87: 6,\n",
       " 99: 5,\n",
       " 89: 12,\n",
       " 86: 3,\n",
       " 94: 3,\n",
       " 95: 2}"
      ]
     },
     "execution_count": 9,
     "metadata": {},
     "output_type": "execute_result"
    }
   ],
   "source": [
    "count = doc.count_by(spacy.attrs.POS)\n",
    "count"
   ]
  },
  {
   "cell_type": "code",
   "execution_count": 10,
   "id": "bef285c8",
   "metadata": {
    "execution": {
     "iopub.execute_input": "2023-08-15T10:45:35.785219Z",
     "iopub.status.busy": "2023-08-15T10:45:35.784008Z",
     "iopub.status.idle": "2023-08-15T10:45:35.794001Z",
     "shell.execute_reply": "2023-08-15T10:45:35.792515Z"
    },
    "papermill": {
     "duration": 0.022568,
     "end_time": "2023-08-15T10:45:35.797368",
     "exception": false,
     "start_time": "2023-08-15T10:45:35.774800",
     "status": "completed"
    },
    "tags": []
   },
   "outputs": [
    {
     "data": {
      "text/plain": [
       "'PROPN'"
      ]
     },
     "execution_count": 10,
     "metadata": {},
     "output_type": "execute_result"
    }
   ],
   "source": [
    "doc.vocab[96].text"
   ]
  },
  {
   "cell_type": "code",
   "execution_count": 11,
   "id": "4353bc54",
   "metadata": {
    "execution": {
     "iopub.execute_input": "2023-08-15T10:45:35.815377Z",
     "iopub.status.busy": "2023-08-15T10:45:35.814890Z",
     "iopub.status.idle": "2023-08-15T10:45:35.824766Z",
     "shell.execute_reply": "2023-08-15T10:45:35.822821Z"
    },
    "papermill": {
     "duration": 0.023121,
     "end_time": "2023-08-15T10:45:35.828264",
     "exception": false,
     "start_time": "2023-08-15T10:45:35.805143",
     "status": "completed"
    },
    "tags": []
   },
   "outputs": [
    {
     "name": "stdout",
     "output_type": "stream",
     "text": [
      "PROPN | 13\n",
      "NOUN | 46\n",
      "VERB | 24\n",
      "DET | 9\n",
      "ADP | 16\n",
      "NUM | 16\n",
      "PUNCT | 27\n",
      "SCONJ | 1\n",
      "ADJ | 20\n",
      "SPACE | 10\n",
      "AUX | 6\n",
      "SYM | 5\n",
      "CCONJ | 12\n",
      "ADV | 3\n",
      "PART | 3\n",
      "PRON | 2\n"
     ]
    }
   ],
   "source": [
    "for k,v in count.items():\n",
    "    print(doc.vocab[k].text, \"|\",v)"
   ]
  }
 ],
 "metadata": {
  "kernelspec": {
   "display_name": "Python 3",
   "language": "python",
   "name": "python3"
  },
  "language_info": {
   "codemirror_mode": {
    "name": "ipython",
    "version": 3
   },
   "file_extension": ".py",
   "mimetype": "text/x-python",
   "name": "python",
   "nbconvert_exporter": "python",
   "pygments_lexer": "ipython3",
   "version": "3.10.12"
  },
  "papermill": {
   "default_parameters": {},
   "duration": 36.041589,
   "end_time": "2023-08-15T10:45:38.947968",
   "environment_variables": {},
   "exception": null,
   "input_path": "__notebook__.ipynb",
   "output_path": "__notebook__.ipynb",
   "parameters": {},
   "start_time": "2023-08-15T10:45:02.906379",
   "version": "2.4.0"
  }
 },
 "nbformat": 4,
 "nbformat_minor": 5
}
