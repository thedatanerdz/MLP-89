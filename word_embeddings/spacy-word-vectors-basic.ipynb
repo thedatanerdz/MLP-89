{
 "cells": [
  {
   "cell_type": "code",
   "execution_count": 1,
   "id": "74166a4e",
   "metadata": {
    "execution": {
     "iopub.execute_input": "2023-08-16T17:49:36.330059Z",
     "iopub.status.busy": "2023-08-16T17:49:36.329397Z",
     "iopub.status.idle": "2023-08-16T17:49:55.685299Z",
     "shell.execute_reply": "2023-08-16T17:49:55.684109Z"
    },
    "papermill": {
     "duration": 19.364371,
     "end_time": "2023-08-16T17:49:55.688487",
     "exception": false,
     "start_time": "2023-08-16T17:49:36.324116",
     "status": "completed"
    },
    "tags": []
   },
   "outputs": [
    {
     "name": "stderr",
     "output_type": "stream",
     "text": [
      "/opt/conda/lib/python3.10/site-packages/scipy/__init__.py:146: UserWarning: A NumPy version >=1.16.5 and <1.23.0 is required for this version of SciPy (detected version 1.23.5\n",
      "  warnings.warn(f\"A NumPy version >={np_minversion} and <{np_maxversion}\"\n",
      "/opt/conda/lib/python3.10/site-packages/tensorflow_io/python/ops/__init__.py:98: UserWarning: unable to load libtensorflow_io_plugins.so: unable to open file: libtensorflow_io_plugins.so, from paths: ['/opt/conda/lib/python3.10/site-packages/tensorflow_io/python/ops/libtensorflow_io_plugins.so']\n",
      "caused by: ['/opt/conda/lib/python3.10/site-packages/tensorflow_io/python/ops/libtensorflow_io_plugins.so: undefined symbol: _ZN3tsl6StatusC1EN10tensorflow5error4CodeESt17basic_string_viewIcSt11char_traitsIcEENS_14SourceLocationE']\n",
      "  warnings.warn(f\"unable to load libtensorflow_io_plugins.so: {e}\")\n",
      "/opt/conda/lib/python3.10/site-packages/tensorflow_io/python/ops/__init__.py:104: UserWarning: file system plugins are not loaded: unable to open file: libtensorflow_io.so, from paths: ['/opt/conda/lib/python3.10/site-packages/tensorflow_io/python/ops/libtensorflow_io.so']\n",
      "caused by: ['/opt/conda/lib/python3.10/site-packages/tensorflow_io/python/ops/libtensorflow_io.so: undefined symbol: _ZTVN10tensorflow13GcsFileSystemE']\n",
      "  warnings.warn(f\"file system plugins are not loaded: {e}\")\n"
     ]
    }
   ],
   "source": [
    "import spacy\n",
    "\n",
    "# word vectors occupy lot of space. hence en_core_web_sm model do not have them included. \n",
    "# In order to download\n",
    "# word vectors you need to install large or medium english model. We will install the large one!\n",
    "# make sure you have run \"python -m spacy download en_core_web_lg\" to install large english model\n",
    "nlp = spacy.load(\"en_core_web_lg\")"
   ]
  },
  {
   "cell_type": "code",
   "execution_count": 2,
   "id": "d882e037",
   "metadata": {
    "execution": {
     "iopub.execute_input": "2023-08-16T17:49:55.701647Z",
     "iopub.status.busy": "2023-08-16T17:49:55.700851Z",
     "iopub.status.idle": "2023-08-16T17:49:55.733362Z",
     "shell.execute_reply": "2023-08-16T17:49:55.731553Z"
    },
    "papermill": {
     "duration": 0.042193,
     "end_time": "2023-08-16T17:49:55.736415",
     "exception": false,
     "start_time": "2023-08-16T17:49:55.694222",
     "status": "completed"
    },
    "tags": []
   },
   "outputs": [
    {
     "name": "stdout",
     "output_type": "stream",
     "text": [
      "dog Vector: True OOV: False\n",
      "cat Vector: True OOV: False\n",
      "banana Vector: True OOV: False\n",
      "kem Vector: False OOV: True\n"
     ]
    }
   ],
   "source": [
    "doc = nlp(\"dog cat banana kem\")\n",
    "\n",
    "for token in doc:\n",
    "    print(token.text, \"Vector:\", token.has_vector, \"OOV:\", token.is_oov)"
   ]
  },
  {
   "cell_type": "code",
   "execution_count": 3,
   "id": "9d2325b9",
   "metadata": {
    "execution": {
     "iopub.execute_input": "2023-08-16T17:49:55.749389Z",
     "iopub.status.busy": "2023-08-16T17:49:55.748154Z",
     "iopub.status.idle": "2023-08-16T17:49:55.757647Z",
     "shell.execute_reply": "2023-08-16T17:49:55.756423Z"
    },
    "papermill": {
     "duration": 0.019057,
     "end_time": "2023-08-16T17:49:55.760728",
     "exception": false,
     "start_time": "2023-08-16T17:49:55.741671",
     "status": "completed"
    },
    "tags": []
   },
   "outputs": [
    {
     "data": {
      "text/plain": [
       "(300,)"
      ]
     },
     "execution_count": 3,
     "metadata": {},
     "output_type": "execute_result"
    }
   ],
   "source": [
    "doc[0].vector.shape"
   ]
  },
  {
   "cell_type": "code",
   "execution_count": 4,
   "id": "095ac2f2",
   "metadata": {
    "execution": {
     "iopub.execute_input": "2023-08-16T17:49:55.774439Z",
     "iopub.status.busy": "2023-08-16T17:49:55.773977Z",
     "iopub.status.idle": "2023-08-16T17:49:55.793843Z",
     "shell.execute_reply": "2023-08-16T17:49:55.792710Z"
    },
    "papermill": {
     "duration": 0.029981,
     "end_time": "2023-08-16T17:49:55.796781",
     "exception": false,
     "start_time": "2023-08-16T17:49:55.766800",
     "status": "completed"
    },
    "tags": []
   },
   "outputs": [
    {
     "data": {
      "text/plain": [
       "(300,)"
      ]
     },
     "execution_count": 4,
     "metadata": {},
     "output_type": "execute_result"
    }
   ],
   "source": [
    "base_token = nlp(\"bread\")\n",
    "base_token.vector.shape"
   ]
  },
  {
   "cell_type": "code",
   "execution_count": 5,
   "id": "efb45ac1",
   "metadata": {
    "execution": {
     "iopub.execute_input": "2023-08-16T17:49:55.810157Z",
     "iopub.status.busy": "2023-08-16T17:49:55.809749Z",
     "iopub.status.idle": "2023-08-16T17:49:55.826949Z",
     "shell.execute_reply": "2023-08-16T17:49:55.825644Z"
    },
    "papermill": {
     "duration": 0.027295,
     "end_time": "2023-08-16T17:49:55.829965",
     "exception": false,
     "start_time": "2023-08-16T17:49:55.802670",
     "status": "completed"
    },
    "tags": []
   },
   "outputs": [
    {
     "name": "stdout",
     "output_type": "stream",
     "text": [
      "bread <-> bread: 0.9999999744752309\n",
      "sandwich <-> bread: 0.6341067010130894\n",
      "burger <-> bread: 0.47520687769584247\n",
      "car <-> bread: 0.06451533308853552\n",
      "tiger <-> bread: 0.04764611675903374\n",
      "human <-> bread: 0.2151154210812192\n",
      "wheat <-> bread: 0.6150360888607199\n"
     ]
    }
   ],
   "source": [
    "doc = nlp(\"bread sandwich burger car tiger human wheat\")\n",
    "\n",
    "for token in doc:\n",
    "    print(f\"{token.text} <-> {base_token.text}:\", token.similarity(base_token))"
   ]
  },
  {
   "cell_type": "code",
   "execution_count": 6,
   "id": "2289d936",
   "metadata": {
    "execution": {
     "iopub.execute_input": "2023-08-16T17:49:55.844627Z",
     "iopub.status.busy": "2023-08-16T17:49:55.843471Z",
     "iopub.status.idle": "2023-08-16T17:49:55.851634Z",
     "shell.execute_reply": "2023-08-16T17:49:55.849949Z"
    },
    "papermill": {
     "duration": 0.018586,
     "end_time": "2023-08-16T17:49:55.854635",
     "exception": false,
     "start_time": "2023-08-16T17:49:55.836049",
     "status": "completed"
    },
    "tags": []
   },
   "outputs": [],
   "source": [
    "def print_similarity(base_word, words_to_compare):\n",
    "    base_token = nlp(base_word)\n",
    "    doc = nlp(words_to_compare)\n",
    "    for token in doc:\n",
    "        print(f\"{token.text} <-> {base_token.text}: \", token.similarity(base_token))"
   ]
  },
  {
   "cell_type": "code",
   "execution_count": 7,
   "id": "bdffe71e",
   "metadata": {
    "execution": {
     "iopub.execute_input": "2023-08-16T17:49:55.866451Z",
     "iopub.status.busy": "2023-08-16T17:49:55.865339Z",
     "iopub.status.idle": "2023-08-16T17:49:55.888944Z",
     "shell.execute_reply": "2023-08-16T17:49:55.887535Z"
    },
    "papermill": {
     "duration": 0.032339,
     "end_time": "2023-08-16T17:49:55.891963",
     "exception": false,
     "start_time": "2023-08-16T17:49:55.859624",
     "status": "completed"
    },
    "tags": []
   },
   "outputs": [
    {
     "name": "stdout",
     "output_type": "stream",
     "text": [
      "apple <-> iphone:  0.4387907401919904\n",
      "samsung <-> iphone:  0.670859081425417\n",
      "iphone <-> iphone:  1.000000072144752\n",
      "dog <-> iphone:  0.08211864228011527\n",
      "kitten <-> iphone:  0.10222317834969896\n"
     ]
    }
   ],
   "source": [
    "print_similarity(\"iphone\", \"apple samsung iphone dog kitten\")"
   ]
  },
  {
   "cell_type": "code",
   "execution_count": 8,
   "id": "dec137f7",
   "metadata": {
    "execution": {
     "iopub.execute_input": "2023-08-16T17:49:55.903178Z",
     "iopub.status.busy": "2023-08-16T17:49:55.902788Z",
     "iopub.status.idle": "2023-08-16T17:49:55.909148Z",
     "shell.execute_reply": "2023-08-16T17:49:55.907990Z"
    },
    "papermill": {
     "duration": 0.014858,
     "end_time": "2023-08-16T17:49:55.911564",
     "exception": false,
     "start_time": "2023-08-16T17:49:55.896706",
     "status": "completed"
    },
    "tags": []
   },
   "outputs": [],
   "source": [
    "king = nlp.vocab[\"king\"].vector\n",
    "man = nlp.vocab[\"man\"].vector\n",
    "woman = nlp.vocab[\"woman\"].vector\n",
    "queen = nlp.vocab[\"queen\"].vector\n",
    "\n",
    "result = king - man + woman"
   ]
  },
  {
   "cell_type": "code",
   "execution_count": 9,
   "id": "de7cd40f",
   "metadata": {
    "execution": {
     "iopub.execute_input": "2023-08-16T17:49:55.923589Z",
     "iopub.status.busy": "2023-08-16T17:49:55.922374Z",
     "iopub.status.idle": "2023-08-16T17:49:56.714268Z",
     "shell.execute_reply": "2023-08-16T17:49:56.713164Z"
    },
    "papermill": {
     "duration": 0.800508,
     "end_time": "2023-08-16T17:49:56.716798",
     "exception": false,
     "start_time": "2023-08-16T17:49:55.916290",
     "status": "completed"
    },
    "tags": []
   },
   "outputs": [
    {
     "data": {
      "text/plain": [
       "array([[0.61780137]], dtype=float32)"
      ]
     },
     "execution_count": 9,
     "metadata": {},
     "output_type": "execute_result"
    }
   ],
   "source": [
    "from sklearn.metrics.pairwise import cosine_similarity\n",
    "\n",
    "cosine_similarity([result], [queen])"
   ]
  }
 ],
 "metadata": {
  "kernelspec": {
   "display_name": "Python 3",
   "language": "python",
   "name": "python3"
  },
  "language_info": {
   "codemirror_mode": {
    "name": "ipython",
    "version": 3
   },
   "file_extension": ".py",
   "mimetype": "text/x-python",
   "name": "python",
   "nbconvert_exporter": "python",
   "pygments_lexer": "ipython3",
   "version": "3.10.12"
  },
  "papermill": {
   "default_parameters": {},
   "duration": 34.681188,
   "end_time": "2023-08-16T17:49:59.566861",
   "environment_variables": {},
   "exception": null,
   "input_path": "__notebook__.ipynb",
   "output_path": "__notebook__.ipynb",
   "parameters": {},
   "start_time": "2023-08-16T17:49:24.885673",
   "version": "2.4.0"
  }
 },
 "nbformat": 4,
 "nbformat_minor": 5
}
