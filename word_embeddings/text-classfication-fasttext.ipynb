{
 "cells": [
  {
   "cell_type": "markdown",
   "id": "b2adbe48",
   "metadata": {
    "papermill": {
     "duration": 0.007493,
     "end_time": "2023-08-16T21:02:31.364189",
     "exception": false,
     "start_time": "2023-08-16T21:02:31.356696",
     "status": "completed"
    },
    "tags": []
   },
   "source": [
    "<h3>NLP Tutorial: Text Classification Using FastText</h3>"
   ]
  },
  {
   "cell_type": "markdown",
   "id": "300fdea7",
   "metadata": {
    "papermill": {
     "duration": 0.006314,
     "end_time": "2023-08-16T21:02:31.377650",
     "exception": false,
     "start_time": "2023-08-16T21:02:31.371336",
     "status": "completed"
    },
    "tags": []
   },
   "source": [
    "##### Dataset Credits: https://www.kaggle.com/datasets/saurabhshahane/ecommerce-text-classification\n",
    "\n",
    "We have a dataset of ecommerce item description. Total 4 categories,\n",
    "1. Household\n",
    "2. Electronics\n",
    "3. Clothing and Accessories\n",
    "4. Books\n",
    "\n",
    "The task at hand is to classify a product into one of the above 4 categories based on the product description"
   ]
  },
  {
   "cell_type": "code",
   "execution_count": 1,
   "id": "39c976fe",
   "metadata": {
    "execution": {
     "iopub.execute_input": "2023-08-16T21:02:31.393365Z",
     "iopub.status.busy": "2023-08-16T21:02:31.392952Z",
     "iopub.status.idle": "2023-08-16T21:02:32.280970Z",
     "shell.execute_reply": "2023-08-16T21:02:32.279889Z"
    },
    "papermill": {
     "duration": 0.899693,
     "end_time": "2023-08-16T21:02:32.284532",
     "exception": false,
     "start_time": "2023-08-16T21:02:31.384839",
     "status": "completed"
    },
    "tags": []
   },
   "outputs": [
    {
     "name": "stdout",
     "output_type": "stream",
     "text": [
      "(50425, 2)\n"
     ]
    },
    {
     "data": {
      "text/html": [
       "<div>\n",
       "<style scoped>\n",
       "    .dataframe tbody tr th:only-of-type {\n",
       "        vertical-align: middle;\n",
       "    }\n",
       "\n",
       "    .dataframe tbody tr th {\n",
       "        vertical-align: top;\n",
       "    }\n",
       "\n",
       "    .dataframe thead th {\n",
       "        text-align: right;\n",
       "    }\n",
       "</style>\n",
       "<table border=\"1\" class=\"dataframe\">\n",
       "  <thead>\n",
       "    <tr style=\"text-align: right;\">\n",
       "      <th></th>\n",
       "      <th>category</th>\n",
       "      <th>description</th>\n",
       "    </tr>\n",
       "  </thead>\n",
       "  <tbody>\n",
       "    <tr>\n",
       "      <th>0</th>\n",
       "      <td>Household</td>\n",
       "      <td>Paper Plane Design Framed Wall Hanging Motivat...</td>\n",
       "    </tr>\n",
       "    <tr>\n",
       "      <th>1</th>\n",
       "      <td>Household</td>\n",
       "      <td>SAF 'Floral' Framed Painting (Wood, 30 inch x ...</td>\n",
       "    </tr>\n",
       "    <tr>\n",
       "      <th>2</th>\n",
       "      <td>Household</td>\n",
       "      <td>SAF 'UV Textured Modern Art Print Framed' Pain...</td>\n",
       "    </tr>\n",
       "  </tbody>\n",
       "</table>\n",
       "</div>"
      ],
      "text/plain": [
       "    category                                        description\n",
       "0  Household  Paper Plane Design Framed Wall Hanging Motivat...\n",
       "1  Household  SAF 'Floral' Framed Painting (Wood, 30 inch x ...\n",
       "2  Household  SAF 'UV Textured Modern Art Print Framed' Pain..."
      ]
     },
     "execution_count": 1,
     "metadata": {},
     "output_type": "execute_result"
    }
   ],
   "source": [
    "import pandas as pd\n",
    "\n",
    "df= pd.read_csv(\"/kaggle/input/ecommerce-data-set/ecommerce_dataset.csv\", names=[\"category\", \"description\"], header=None)\n",
    "print(df.shape)\n",
    "df.head(3)"
   ]
  },
  {
   "cell_type": "markdown",
   "id": "1daf059a",
   "metadata": {
    "papermill": {
     "duration": 0.006669,
     "end_time": "2023-08-16T21:02:32.298492",
     "exception": false,
     "start_time": "2023-08-16T21:02:32.291823",
     "status": "completed"
    },
    "tags": []
   },
   "source": [
    "**Drop NA values**"
   ]
  },
  {
   "cell_type": "code",
   "execution_count": 2,
   "id": "cfa48546",
   "metadata": {
    "execution": {
     "iopub.execute_input": "2023-08-16T21:02:32.314849Z",
     "iopub.status.busy": "2023-08-16T21:02:32.313996Z",
     "iopub.status.idle": "2023-08-16T21:02:32.360701Z",
     "shell.execute_reply": "2023-08-16T21:02:32.359360Z"
    },
    "papermill": {
     "duration": 0.057287,
     "end_time": "2023-08-16T21:02:32.363097",
     "exception": false,
     "start_time": "2023-08-16T21:02:32.305810",
     "status": "completed"
    },
    "tags": []
   },
   "outputs": [
    {
     "data": {
      "text/plain": [
       "(50424, 2)"
      ]
     },
     "execution_count": 2,
     "metadata": {},
     "output_type": "execute_result"
    }
   ],
   "source": [
    "df.dropna(inplace=True)\n",
    "df.shape"
   ]
  },
  {
   "cell_type": "code",
   "execution_count": 3,
   "id": "aa98a7c4",
   "metadata": {
    "execution": {
     "iopub.execute_input": "2023-08-16T21:02:32.379280Z",
     "iopub.status.busy": "2023-08-16T21:02:32.378930Z",
     "iopub.status.idle": "2023-08-16T21:02:32.391937Z",
     "shell.execute_reply": "2023-08-16T21:02:32.390868Z"
    },
    "papermill": {
     "duration": 0.023289,
     "end_time": "2023-08-16T21:02:32.393983",
     "exception": false,
     "start_time": "2023-08-16T21:02:32.370694",
     "status": "completed"
    },
    "tags": []
   },
   "outputs": [
    {
     "data": {
      "text/plain": [
       "array(['Household', 'Books', 'Clothing & Accessories', 'Electronics'],\n",
       "      dtype=object)"
      ]
     },
     "execution_count": 3,
     "metadata": {},
     "output_type": "execute_result"
    }
   ],
   "source": [
    "df.category.unique()"
   ]
  },
  {
   "cell_type": "code",
   "execution_count": 4,
   "id": "d8d41577",
   "metadata": {
    "execution": {
     "iopub.execute_input": "2023-08-16T21:02:32.410951Z",
     "iopub.status.busy": "2023-08-16T21:02:32.410199Z",
     "iopub.status.idle": "2023-08-16T21:02:32.417837Z",
     "shell.execute_reply": "2023-08-16T21:02:32.417119Z"
    },
    "papermill": {
     "duration": 0.018118,
     "end_time": "2023-08-16T21:02:32.419532",
     "exception": false,
     "start_time": "2023-08-16T21:02:32.401414",
     "status": "completed"
    },
    "scrolled": true,
    "tags": []
   },
   "outputs": [],
   "source": [
    "df.category.replace(\"Clothing & Accessories\", \"Clothing_Accessories\", inplace=True)"
   ]
  },
  {
   "cell_type": "code",
   "execution_count": 5,
   "id": "67da0148",
   "metadata": {
    "execution": {
     "iopub.execute_input": "2023-08-16T21:02:32.437002Z",
     "iopub.status.busy": "2023-08-16T21:02:32.436377Z",
     "iopub.status.idle": "2023-08-16T21:02:32.446660Z",
     "shell.execute_reply": "2023-08-16T21:02:32.445753Z"
    },
    "papermill": {
     "duration": 0.021646,
     "end_time": "2023-08-16T21:02:32.448720",
     "exception": false,
     "start_time": "2023-08-16T21:02:32.427074",
     "status": "completed"
    },
    "tags": []
   },
   "outputs": [
    {
     "data": {
      "text/plain": [
       "array(['Household', 'Books', 'Clothing_Accessories', 'Electronics'],\n",
       "      dtype=object)"
      ]
     },
     "execution_count": 5,
     "metadata": {},
     "output_type": "execute_result"
    }
   ],
   "source": [
    "df.category.unique()"
   ]
  },
  {
   "cell_type": "markdown",
   "id": "cf95e6af",
   "metadata": {
    "papermill": {
     "duration": 0.007332,
     "end_time": "2023-08-16T21:02:32.463597",
     "exception": false,
     "start_time": "2023-08-16T21:02:32.456265",
     "status": "completed"
    },
    "tags": []
   },
   "source": [
    "When you train a fasttext model, it expects labels to be specified with __label__ prefix. We will just create a third column in the dataframe that has __label__ as well as the product description"
   ]
  },
  {
   "cell_type": "code",
   "execution_count": 6,
   "id": "deeb47c7",
   "metadata": {
    "execution": {
     "iopub.execute_input": "2023-08-16T21:02:32.480025Z",
     "iopub.status.busy": "2023-08-16T21:02:32.479695Z",
     "iopub.status.idle": "2023-08-16T21:02:32.500960Z",
     "shell.execute_reply": "2023-08-16T21:02:32.499800Z"
    },
    "papermill": {
     "duration": 0.032027,
     "end_time": "2023-08-16T21:02:32.503216",
     "exception": false,
     "start_time": "2023-08-16T21:02:32.471189",
     "status": "completed"
    },
    "scrolled": true,
    "tags": []
   },
   "outputs": [
    {
     "data": {
      "text/html": [
       "<div>\n",
       "<style scoped>\n",
       "    .dataframe tbody tr th:only-of-type {\n",
       "        vertical-align: middle;\n",
       "    }\n",
       "\n",
       "    .dataframe tbody tr th {\n",
       "        vertical-align: top;\n",
       "    }\n",
       "\n",
       "    .dataframe thead th {\n",
       "        text-align: right;\n",
       "    }\n",
       "</style>\n",
       "<table border=\"1\" class=\"dataframe\">\n",
       "  <thead>\n",
       "    <tr style=\"text-align: right;\">\n",
       "      <th></th>\n",
       "      <th>category</th>\n",
       "      <th>description</th>\n",
       "    </tr>\n",
       "  </thead>\n",
       "  <tbody>\n",
       "    <tr>\n",
       "      <th>0</th>\n",
       "      <td>__label__Household</td>\n",
       "      <td>Paper Plane Design Framed Wall Hanging Motivat...</td>\n",
       "    </tr>\n",
       "    <tr>\n",
       "      <th>1</th>\n",
       "      <td>__label__Household</td>\n",
       "      <td>SAF 'Floral' Framed Painting (Wood, 30 inch x ...</td>\n",
       "    </tr>\n",
       "    <tr>\n",
       "      <th>2</th>\n",
       "      <td>__label__Household</td>\n",
       "      <td>SAF 'UV Textured Modern Art Print Framed' Pain...</td>\n",
       "    </tr>\n",
       "    <tr>\n",
       "      <th>3</th>\n",
       "      <td>__label__Household</td>\n",
       "      <td>SAF Flower Print Framed Painting (Synthetic, 1...</td>\n",
       "    </tr>\n",
       "    <tr>\n",
       "      <th>4</th>\n",
       "      <td>__label__Household</td>\n",
       "      <td>Incredible Gifts India Wooden Happy Birthday U...</td>\n",
       "    </tr>\n",
       "  </tbody>\n",
       "</table>\n",
       "</div>"
      ],
      "text/plain": [
       "             category                                        description\n",
       "0  __label__Household  Paper Plane Design Framed Wall Hanging Motivat...\n",
       "1  __label__Household  SAF 'Floral' Framed Painting (Wood, 30 inch x ...\n",
       "2  __label__Household  SAF 'UV Textured Modern Art Print Framed' Pain...\n",
       "3  __label__Household  SAF Flower Print Framed Painting (Synthetic, 1...\n",
       "4  __label__Household  Incredible Gifts India Wooden Happy Birthday U..."
      ]
     },
     "execution_count": 6,
     "metadata": {},
     "output_type": "execute_result"
    }
   ],
   "source": [
    "df['category'] = '__label__' + df['category'].astype(str)\n",
    "df.head(5)"
   ]
  },
  {
   "cell_type": "code",
   "execution_count": 7,
   "id": "9eb7e690",
   "metadata": {
    "execution": {
     "iopub.execute_input": "2023-08-16T21:02:32.520458Z",
     "iopub.status.busy": "2023-08-16T21:02:32.520104Z",
     "iopub.status.idle": "2023-08-16T21:02:32.584609Z",
     "shell.execute_reply": "2023-08-16T21:02:32.583807Z"
    },
    "papermill": {
     "duration": 0.075456,
     "end_time": "2023-08-16T21:02:32.586639",
     "exception": false,
     "start_time": "2023-08-16T21:02:32.511183",
     "status": "completed"
    },
    "tags": []
   },
   "outputs": [
    {
     "data": {
      "text/html": [
       "<div>\n",
       "<style scoped>\n",
       "    .dataframe tbody tr th:only-of-type {\n",
       "        vertical-align: middle;\n",
       "    }\n",
       "\n",
       "    .dataframe tbody tr th {\n",
       "        vertical-align: top;\n",
       "    }\n",
       "\n",
       "    .dataframe thead th {\n",
       "        text-align: right;\n",
       "    }\n",
       "</style>\n",
       "<table border=\"1\" class=\"dataframe\">\n",
       "  <thead>\n",
       "    <tr style=\"text-align: right;\">\n",
       "      <th></th>\n",
       "      <th>category</th>\n",
       "      <th>description</th>\n",
       "      <th>category_description</th>\n",
       "    </tr>\n",
       "  </thead>\n",
       "  <tbody>\n",
       "    <tr>\n",
       "      <th>0</th>\n",
       "      <td>__label__Household</td>\n",
       "      <td>Paper Plane Design Framed Wall Hanging Motivat...</td>\n",
       "      <td>__label__Household Paper Plane Design Framed W...</td>\n",
       "    </tr>\n",
       "    <tr>\n",
       "      <th>1</th>\n",
       "      <td>__label__Household</td>\n",
       "      <td>SAF 'Floral' Framed Painting (Wood, 30 inch x ...</td>\n",
       "      <td>__label__Household SAF 'Floral' Framed Paintin...</td>\n",
       "    </tr>\n",
       "    <tr>\n",
       "      <th>2</th>\n",
       "      <td>__label__Household</td>\n",
       "      <td>SAF 'UV Textured Modern Art Print Framed' Pain...</td>\n",
       "      <td>__label__Household SAF 'UV Textured Modern Art...</td>\n",
       "    </tr>\n",
       "  </tbody>\n",
       "</table>\n",
       "</div>"
      ],
      "text/plain": [
       "             category                                        description  \\\n",
       "0  __label__Household  Paper Plane Design Framed Wall Hanging Motivat...   \n",
       "1  __label__Household  SAF 'Floral' Framed Painting (Wood, 30 inch x ...   \n",
       "2  __label__Household  SAF 'UV Textured Modern Art Print Framed' Pain...   \n",
       "\n",
       "                                category_description  \n",
       "0  __label__Household Paper Plane Design Framed W...  \n",
       "1  __label__Household SAF 'Floral' Framed Paintin...  \n",
       "2  __label__Household SAF 'UV Textured Modern Art...  "
      ]
     },
     "execution_count": 7,
     "metadata": {},
     "output_type": "execute_result"
    }
   ],
   "source": [
    "df['category_description'] = df['category'] + ' ' + df['description']\n",
    "df.head(3)"
   ]
  },
  {
   "cell_type": "markdown",
   "id": "0059d291",
   "metadata": {
    "papermill": {
     "duration": 0.007956,
     "end_time": "2023-08-16T21:02:32.602444",
     "exception": false,
     "start_time": "2023-08-16T21:02:32.594488",
     "status": "completed"
    },
    "tags": []
   },
   "source": [
    "**Pre-procesing**\n",
    "1. Remove punctuation\n",
    "2. Remove extra space\n",
    "3. Make the entire sentence lower case"
   ]
  },
  {
   "cell_type": "code",
   "execution_count": 8,
   "id": "0064d19a",
   "metadata": {
    "execution": {
     "iopub.execute_input": "2023-08-16T21:02:32.620795Z",
     "iopub.status.busy": "2023-08-16T21:02:32.620415Z",
     "iopub.status.idle": "2023-08-16T21:02:32.628061Z",
     "shell.execute_reply": "2023-08-16T21:02:32.627096Z"
    },
    "papermill": {
     "duration": 0.019591,
     "end_time": "2023-08-16T21:02:32.630066",
     "exception": false,
     "start_time": "2023-08-16T21:02:32.610475",
     "status": "completed"
    },
    "tags": []
   },
   "outputs": [
    {
     "data": {
      "text/plain": [
       "\"viki's bookcase bookshelf 3 shelf shelve white hi\""
      ]
     },
     "execution_count": 8,
     "metadata": {},
     "output_type": "execute_result"
    }
   ],
   "source": [
    "import re\n",
    "\n",
    "text = \"  VIKI's | Bookcase/Bookshelf (3-Shelf/Shelve, White) | ? . hi\"\n",
    "text = re.sub(r'[^\\w\\s\\']',' ', text)\n",
    "text = re.sub(' +', ' ', text)\n",
    "text.strip().lower()"
   ]
  },
  {
   "cell_type": "code",
   "execution_count": 9,
   "id": "5970b684",
   "metadata": {
    "execution": {
     "iopub.execute_input": "2023-08-16T21:02:32.648541Z",
     "iopub.status.busy": "2023-08-16T21:02:32.648156Z",
     "iopub.status.idle": "2023-08-16T21:02:32.653386Z",
     "shell.execute_reply": "2023-08-16T21:02:32.652424Z"
    },
    "papermill": {
     "duration": 0.016956,
     "end_time": "2023-08-16T21:02:32.655398",
     "exception": false,
     "start_time": "2023-08-16T21:02:32.638442",
     "status": "completed"
    },
    "tags": []
   },
   "outputs": [],
   "source": [
    "def preprocess(text):\n",
    "    text = re.sub(r'[^\\w\\s\\']',' ', text)\n",
    "    text = re.sub(' +', ' ', text)\n",
    "    return text.strip().lower() "
   ]
  },
  {
   "cell_type": "code",
   "execution_count": 10,
   "id": "6c577755",
   "metadata": {
    "execution": {
     "iopub.execute_input": "2023-08-16T21:02:32.674119Z",
     "iopub.status.busy": "2023-08-16T21:02:32.673786Z",
     "iopub.status.idle": "2023-08-16T21:02:37.130921Z",
     "shell.execute_reply": "2023-08-16T21:02:37.129684Z"
    },
    "papermill": {
     "duration": 4.469467,
     "end_time": "2023-08-16T21:02:37.133334",
     "exception": false,
     "start_time": "2023-08-16T21:02:32.663867",
     "status": "completed"
    },
    "tags": []
   },
   "outputs": [
    {
     "data": {
      "text/html": [
       "<div>\n",
       "<style scoped>\n",
       "    .dataframe tbody tr th:only-of-type {\n",
       "        vertical-align: middle;\n",
       "    }\n",
       "\n",
       "    .dataframe tbody tr th {\n",
       "        vertical-align: top;\n",
       "    }\n",
       "\n",
       "    .dataframe thead th {\n",
       "        text-align: right;\n",
       "    }\n",
       "</style>\n",
       "<table border=\"1\" class=\"dataframe\">\n",
       "  <thead>\n",
       "    <tr style=\"text-align: right;\">\n",
       "      <th></th>\n",
       "      <th>category</th>\n",
       "      <th>description</th>\n",
       "      <th>category_description</th>\n",
       "    </tr>\n",
       "  </thead>\n",
       "  <tbody>\n",
       "    <tr>\n",
       "      <th>0</th>\n",
       "      <td>__label__Household</td>\n",
       "      <td>Paper Plane Design Framed Wall Hanging Motivat...</td>\n",
       "      <td>__label__household paper plane design framed w...</td>\n",
       "    </tr>\n",
       "    <tr>\n",
       "      <th>1</th>\n",
       "      <td>__label__Household</td>\n",
       "      <td>SAF 'Floral' Framed Painting (Wood, 30 inch x ...</td>\n",
       "      <td>__label__household saf 'floral' framed paintin...</td>\n",
       "    </tr>\n",
       "    <tr>\n",
       "      <th>2</th>\n",
       "      <td>__label__Household</td>\n",
       "      <td>SAF 'UV Textured Modern Art Print Framed' Pain...</td>\n",
       "      <td>__label__household saf 'uv textured modern art...</td>\n",
       "    </tr>\n",
       "    <tr>\n",
       "      <th>3</th>\n",
       "      <td>__label__Household</td>\n",
       "      <td>SAF Flower Print Framed Painting (Synthetic, 1...</td>\n",
       "      <td>__label__household saf flower print framed pai...</td>\n",
       "    </tr>\n",
       "    <tr>\n",
       "      <th>4</th>\n",
       "      <td>__label__Household</td>\n",
       "      <td>Incredible Gifts India Wooden Happy Birthday U...</td>\n",
       "      <td>__label__household incredible gifts india wood...</td>\n",
       "    </tr>\n",
       "  </tbody>\n",
       "</table>\n",
       "</div>"
      ],
      "text/plain": [
       "             category                                        description  \\\n",
       "0  __label__Household  Paper Plane Design Framed Wall Hanging Motivat...   \n",
       "1  __label__Household  SAF 'Floral' Framed Painting (Wood, 30 inch x ...   \n",
       "2  __label__Household  SAF 'UV Textured Modern Art Print Framed' Pain...   \n",
       "3  __label__Household  SAF Flower Print Framed Painting (Synthetic, 1...   \n",
       "4  __label__Household  Incredible Gifts India Wooden Happy Birthday U...   \n",
       "\n",
       "                                category_description  \n",
       "0  __label__household paper plane design framed w...  \n",
       "1  __label__household saf 'floral' framed paintin...  \n",
       "2  __label__household saf 'uv textured modern art...  \n",
       "3  __label__household saf flower print framed pai...  \n",
       "4  __label__household incredible gifts india wood...  "
      ]
     },
     "execution_count": 10,
     "metadata": {},
     "output_type": "execute_result"
    }
   ],
   "source": [
    "df['category_description'] = df['category_description'].map(preprocess)\n",
    "df.head()"
   ]
  },
  {
   "cell_type": "markdown",
   "id": "98830e9f",
   "metadata": {
    "papermill": {
     "duration": 0.00912,
     "end_time": "2023-08-16T21:02:37.151859",
     "exception": false,
     "start_time": "2023-08-16T21:02:37.142739",
     "status": "completed"
    },
    "tags": []
   },
   "source": [
    "**Train Test Split**"
   ]
  },
  {
   "cell_type": "code",
   "execution_count": 11,
   "id": "137ae6d0",
   "metadata": {
    "execution": {
     "iopub.execute_input": "2023-08-16T21:02:37.171922Z",
     "iopub.status.busy": "2023-08-16T21:02:37.171515Z",
     "iopub.status.idle": "2023-08-16T21:02:38.325863Z",
     "shell.execute_reply": "2023-08-16T21:02:38.324729Z"
    },
    "papermill": {
     "duration": 1.167506,
     "end_time": "2023-08-16T21:02:38.328561",
     "exception": false,
     "start_time": "2023-08-16T21:02:37.161055",
     "status": "completed"
    },
    "tags": []
   },
   "outputs": [
    {
     "name": "stderr",
     "output_type": "stream",
     "text": [
      "/opt/conda/lib/python3.10/site-packages/scipy/__init__.py:146: UserWarning: A NumPy version >=1.16.5 and <1.23.0 is required for this version of SciPy (detected version 1.23.5\n",
      "  warnings.warn(f\"A NumPy version >={np_minversion} and <{np_maxversion}\"\n"
     ]
    }
   ],
   "source": [
    "from sklearn.model_selection import train_test_split\n",
    "\n",
    "train, test = train_test_split(df, test_size=0.2)"
   ]
  },
  {
   "cell_type": "code",
   "execution_count": 12,
   "id": "7903b01e",
   "metadata": {
    "execution": {
     "iopub.execute_input": "2023-08-16T21:02:38.349149Z",
     "iopub.status.busy": "2023-08-16T21:02:38.348761Z",
     "iopub.status.idle": "2023-08-16T21:02:38.355291Z",
     "shell.execute_reply": "2023-08-16T21:02:38.354321Z"
    },
    "papermill": {
     "duration": 0.019308,
     "end_time": "2023-08-16T21:02:38.357304",
     "exception": false,
     "start_time": "2023-08-16T21:02:38.337996",
     "status": "completed"
    },
    "tags": []
   },
   "outputs": [
    {
     "data": {
      "text/plain": [
       "((40339, 3), (10085, 3))"
      ]
     },
     "execution_count": 12,
     "metadata": {},
     "output_type": "execute_result"
    }
   ],
   "source": [
    "train.shape, test.shape"
   ]
  },
  {
   "cell_type": "code",
   "execution_count": 13,
   "id": "4438fc98",
   "metadata": {
    "execution": {
     "iopub.execute_input": "2023-08-16T21:02:38.379079Z",
     "iopub.status.busy": "2023-08-16T21:02:38.378701Z",
     "iopub.status.idle": "2023-08-16T21:02:40.144415Z",
     "shell.execute_reply": "2023-08-16T21:02:40.143269Z"
    },
    "papermill": {
     "duration": 1.779108,
     "end_time": "2023-08-16T21:02:40.147034",
     "exception": false,
     "start_time": "2023-08-16T21:02:38.367926",
     "status": "completed"
    },
    "tags": []
   },
   "outputs": [],
   "source": [
    "train.to_csv(\"ecommerce.train\", columns=[\"category_description\"], index=False, header=False)\n",
    "test.to_csv(\"ecommerce.test\", columns=[\"category_description\"], index=False, header=False)"
   ]
  },
  {
   "cell_type": "markdown",
   "id": "69e6180f",
   "metadata": {
    "papermill": {
     "duration": 0.009445,
     "end_time": "2023-08-16T21:02:40.166277",
     "exception": false,
     "start_time": "2023-08-16T21:02:40.156832",
     "status": "completed"
    },
    "tags": []
   },
   "source": [
    "**Train the model and evaluate performance**"
   ]
  },
  {
   "cell_type": "code",
   "execution_count": 14,
   "id": "8afd5bea",
   "metadata": {
    "execution": {
     "iopub.execute_input": "2023-08-16T21:02:40.186202Z",
     "iopub.status.busy": "2023-08-16T21:02:40.185831Z",
     "iopub.status.idle": "2023-08-16T21:02:44.983466Z",
     "shell.execute_reply": "2023-08-16T21:02:44.982435Z"
    },
    "papermill": {
     "duration": 4.810278,
     "end_time": "2023-08-16T21:02:44.985701",
     "exception": false,
     "start_time": "2023-08-16T21:02:40.175423",
     "status": "completed"
    },
    "tags": []
   },
   "outputs": [
    {
     "name": "stderr",
     "output_type": "stream",
     "text": [
      "Read 4M words\n",
      "Number of words:  79645\n",
      "Number of labels: 4\n",
      "Progress: 100.0% words/sec/thread: 2164093 lr:  0.000000 avg.loss:  0.167256 ETA:   0h 0m 0s\n"
     ]
    },
    {
     "data": {
      "text/plain": [
       "(10085, 0.9656916212196331, 0.9656916212196331)"
      ]
     },
     "execution_count": 14,
     "metadata": {},
     "output_type": "execute_result"
    }
   ],
   "source": [
    "import fasttext\n",
    "\n",
    "model = fasttext.train_supervised(input=\"ecommerce.train\")\n",
    "model.test(\"ecommerce.test\")"
   ]
  },
  {
   "cell_type": "markdown",
   "id": "db39cb06",
   "metadata": {
    "papermill": {
     "duration": 0.010882,
     "end_time": "2023-08-16T21:02:45.007502",
     "exception": false,
     "start_time": "2023-08-16T21:02:44.996620",
     "status": "completed"
    },
    "tags": []
   },
   "source": [
    "First parameter (10084) is test size. Second and third parameters are precision and recall respectively. You can see we are getting around 96% precision which is pretty good"
   ]
  },
  {
   "cell_type": "markdown",
   "id": "1767cb8f",
   "metadata": {
    "papermill": {
     "duration": 0.010652,
     "end_time": "2023-08-16T21:02:45.028880",
     "exception": false,
     "start_time": "2023-08-16T21:02:45.018228",
     "status": "completed"
    },
    "tags": []
   },
   "source": [
    "**Now let's do prediction for few product descriptions**"
   ]
  },
  {
   "cell_type": "code",
   "execution_count": 15,
   "id": "e1598a6b",
   "metadata": {
    "execution": {
     "iopub.execute_input": "2023-08-16T21:02:45.052602Z",
     "iopub.status.busy": "2023-08-16T21:02:45.051753Z",
     "iopub.status.idle": "2023-08-16T21:02:45.057760Z",
     "shell.execute_reply": "2023-08-16T21:02:45.057085Z"
    },
    "papermill": {
     "duration": 0.020107,
     "end_time": "2023-08-16T21:02:45.059626",
     "exception": false,
     "start_time": "2023-08-16T21:02:45.039519",
     "status": "completed"
    },
    "tags": []
   },
   "outputs": [
    {
     "data": {
      "text/plain": [
       "(('__label__electronics',), array([0.99794859]))"
      ]
     },
     "execution_count": 15,
     "metadata": {},
     "output_type": "execute_result"
    }
   ],
   "source": [
    "model.predict(\"wintech assemble desktop pc cpu 500 gb sata hdd 4 gb ram intel c2d processor 3\")"
   ]
  },
  {
   "cell_type": "code",
   "execution_count": 16,
   "id": "c1bdb85f",
   "metadata": {
    "execution": {
     "iopub.execute_input": "2023-08-16T21:02:45.083389Z",
     "iopub.status.busy": "2023-08-16T21:02:45.082834Z",
     "iopub.status.idle": "2023-08-16T21:02:45.088309Z",
     "shell.execute_reply": "2023-08-16T21:02:45.087621Z"
    },
    "papermill": {
     "duration": 0.019314,
     "end_time": "2023-08-16T21:02:45.090132",
     "exception": false,
     "start_time": "2023-08-16T21:02:45.070818",
     "status": "completed"
    },
    "tags": []
   },
   "outputs": [
    {
     "data": {
      "text/plain": [
       "(('__label__clothing_accessories',), array([1.00001001]))"
      ]
     },
     "execution_count": 16,
     "metadata": {},
     "output_type": "execute_result"
    }
   ],
   "source": [
    "model.predict(\"ockey men's cotton t shirt fabric details 80 cotton 20 polyester super combed cotton rich fabric\")"
   ]
  },
  {
   "cell_type": "code",
   "execution_count": 17,
   "id": "9689e5ea",
   "metadata": {
    "execution": {
     "iopub.execute_input": "2023-08-16T21:02:45.114751Z",
     "iopub.status.busy": "2023-08-16T21:02:45.114214Z",
     "iopub.status.idle": "2023-08-16T21:02:45.119334Z",
     "shell.execute_reply": "2023-08-16T21:02:45.118669Z"
    },
    "papermill": {
     "duration": 0.020234,
     "end_time": "2023-08-16T21:02:45.121305",
     "exception": false,
     "start_time": "2023-08-16T21:02:45.101071",
     "status": "completed"
    },
    "scrolled": true,
    "tags": []
   },
   "outputs": [
    {
     "data": {
      "text/plain": [
       "(('__label__books',), array([1.00000989]))"
      ]
     },
     "execution_count": 17,
     "metadata": {},
     "output_type": "execute_result"
    }
   ],
   "source": [
    "model.predict(\"think and grow rich deluxe edition\")"
   ]
  },
  {
   "cell_type": "code",
   "execution_count": 18,
   "id": "3a2d01c2",
   "metadata": {
    "execution": {
     "iopub.execute_input": "2023-08-16T21:02:45.147878Z",
     "iopub.status.busy": "2023-08-16T21:02:45.147190Z",
     "iopub.status.idle": "2023-08-16T21:02:45.257067Z",
     "shell.execute_reply": "2023-08-16T21:02:45.256075Z"
    },
    "papermill": {
     "duration": 0.126528,
     "end_time": "2023-08-16T21:02:45.259228",
     "exception": false,
     "start_time": "2023-08-16T21:02:45.132700",
     "status": "completed"
    },
    "tags": []
   },
   "outputs": [
    {
     "data": {
      "text/plain": [
       "[(0.9988889098167419, 'productmade'),\n",
       " (0.9988681077957153, 'moustache'),\n",
       " (0.9988579750061035, 'projectspackage'),\n",
       " (0.9988576769828796, 'sweetheart'),\n",
       " (0.9988559484481812, 'backncook'),\n",
       " (0.9988514184951782, '8t'),\n",
       " (0.9988510012626648, 'futureindia'),\n",
       " (0.9988510012626648, 'rimer'),\n",
       " (0.9988508820533752, 'rdw'),\n",
       " (0.9988508820533752, 'tlrdw')]"
      ]
     },
     "execution_count": 18,
     "metadata": {},
     "output_type": "execute_result"
    }
   ],
   "source": [
    "model.get_nearest_neighbors(\"painting\")"
   ]
  },
  {
   "cell_type": "code",
   "execution_count": 19,
   "id": "903b18e7",
   "metadata": {
    "execution": {
     "iopub.execute_input": "2023-08-16T21:02:45.284706Z",
     "iopub.status.busy": "2023-08-16T21:02:45.284371Z",
     "iopub.status.idle": "2023-08-16T21:02:45.304552Z",
     "shell.execute_reply": "2023-08-16T21:02:45.303581Z"
    },
    "papermill": {
     "duration": 0.035509,
     "end_time": "2023-08-16T21:02:45.306875",
     "exception": false,
     "start_time": "2023-08-16T21:02:45.271366",
     "status": "completed"
    },
    "tags": []
   },
   "outputs": [
    {
     "data": {
      "text/plain": [
       "[(0.9994404315948486, 'warrranty'),\n",
       " (0.9994304180145264, 'playbuilt'),\n",
       " (0.9994304180145264, 'broandband'),\n",
       " (0.9994304180145264, 'designcompact'),\n",
       " (0.9994304180145264, 'broadbandthe'),\n",
       " (0.9994261860847473, 'registers'),\n",
       " (0.999422550201416, '0ptimum'),\n",
       " (0.999422550201416, 'proscans'),\n",
       " (0.999422550201416, 'slowdown'),\n",
       " (0.999422550201416, 'lmproved')]"
      ]
     },
     "execution_count": 19,
     "metadata": {},
     "output_type": "execute_result"
    }
   ],
   "source": [
    "model.get_nearest_neighbors(\"sony\")"
   ]
  },
  {
   "cell_type": "code",
   "execution_count": 20,
   "id": "35755bad",
   "metadata": {
    "execution": {
     "iopub.execute_input": "2023-08-16T21:02:45.332756Z",
     "iopub.status.busy": "2023-08-16T21:02:45.332144Z",
     "iopub.status.idle": "2023-08-16T21:02:45.363388Z",
     "shell.execute_reply": "2023-08-16T21:02:45.362366Z"
    },
    "papermill": {
     "duration": 0.046901,
     "end_time": "2023-08-16T21:02:45.365759",
     "exception": false,
     "start_time": "2023-08-16T21:02:45.318858",
     "status": "completed"
    },
    "tags": []
   },
   "outputs": [
    {
     "data": {
      "text/plain": [
       "[(0.0, 'to'),\n",
       " (0.0, 'and'),\n",
       " (0.0, 'a'),\n",
       " (0.0, 'with'),\n",
       " (0.0, 'for'),\n",
       " (0.0, 'is'),\n",
       " (0.0, '</s>'),\n",
       " (0.0, 'mahadevpet'),\n",
       " (0.0, 'steenhuis'),\n",
       " (0.0, 'thoughtfullness')]"
      ]
     },
     "execution_count": 20,
     "metadata": {},
     "output_type": "execute_result"
    }
   ],
   "source": [
    "model.get_nearest_neighbors(\"banglore\")"
   ]
  }
 ],
 "metadata": {
  "kernelspec": {
   "display_name": "Python 3",
   "language": "python",
   "name": "python3"
  },
  "language_info": {
   "codemirror_mode": {
    "name": "ipython",
    "version": 3
   },
   "file_extension": ".py",
   "mimetype": "text/x-python",
   "name": "python",
   "nbconvert_exporter": "python",
   "pygments_lexer": "ipython3",
   "version": "3.10.12"
  },
  "papermill": {
   "default_parameters": {},
   "duration": 25.108045,
   "end_time": "2023-08-16T21:02:46.299247",
   "environment_variables": {},
   "exception": null,
   "input_path": "__notebook__.ipynb",
   "output_path": "__notebook__.ipynb",
   "parameters": {},
   "start_time": "2023-08-16T21:02:21.191202",
   "version": "2.4.0"
  }
 },
 "nbformat": 4,
 "nbformat_minor": 5
}
