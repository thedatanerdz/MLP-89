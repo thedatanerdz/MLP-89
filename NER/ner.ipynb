{
 "cells": [
  {
   "cell_type": "markdown",
   "id": "fd198120",
   "metadata": {
    "papermill": {
     "duration": 0.006175,
     "end_time": "2023-08-15T11:09:37.025936",
     "exception": false,
     "start_time": "2023-08-15T11:09:37.019761",
     "status": "completed"
    },
    "tags": []
   },
   "source": [
    "<h2 align='center'>NLP Tutorial: Named Entity Recognition (NER)</h2>"
   ]
  },
  {
   "cell_type": "code",
   "execution_count": 1,
   "id": "9fc4ebdd",
   "metadata": {
    "execution": {
     "iopub.execute_input": "2023-08-15T11:09:37.040599Z",
     "iopub.status.busy": "2023-08-15T11:09:37.040097Z",
     "iopub.status.idle": "2023-08-15T11:09:50.586813Z",
     "shell.execute_reply": "2023-08-15T11:09:50.585627Z"
    },
    "papermill": {
     "duration": 13.556803,
     "end_time": "2023-08-15T11:09:50.589551",
     "exception": false,
     "start_time": "2023-08-15T11:09:37.032748",
     "status": "completed"
    },
    "tags": []
   },
   "outputs": [
    {
     "name": "stderr",
     "output_type": "stream",
     "text": [
      "/opt/conda/lib/python3.10/site-packages/scipy/__init__.py:146: UserWarning: A NumPy version >=1.16.5 and <1.23.0 is required for this version of SciPy (detected version 1.23.5\n",
      "  warnings.warn(f\"A NumPy version >={np_minversion} and <{np_maxversion}\"\n",
      "/opt/conda/lib/python3.10/site-packages/tensorflow_io/python/ops/__init__.py:98: UserWarning: unable to load libtensorflow_io_plugins.so: unable to open file: libtensorflow_io_plugins.so, from paths: ['/opt/conda/lib/python3.10/site-packages/tensorflow_io/python/ops/libtensorflow_io_plugins.so']\n",
      "caused by: ['/opt/conda/lib/python3.10/site-packages/tensorflow_io/python/ops/libtensorflow_io_plugins.so: undefined symbol: _ZN3tsl6StatusC1EN10tensorflow5error4CodeESt17basic_string_viewIcSt11char_traitsIcEENS_14SourceLocationE']\n",
      "  warnings.warn(f\"unable to load libtensorflow_io_plugins.so: {e}\")\n",
      "/opt/conda/lib/python3.10/site-packages/tensorflow_io/python/ops/__init__.py:104: UserWarning: file system plugins are not loaded: unable to open file: libtensorflow_io.so, from paths: ['/opt/conda/lib/python3.10/site-packages/tensorflow_io/python/ops/libtensorflow_io.so']\n",
      "caused by: ['/opt/conda/lib/python3.10/site-packages/tensorflow_io/python/ops/libtensorflow_io.so: undefined symbol: _ZTVN10tensorflow13GcsFileSystemE']\n",
      "  warnings.warn(f\"file system plugins are not loaded: {e}\")\n"
     ]
    }
   ],
   "source": [
    "import spacy"
   ]
  },
  {
   "cell_type": "code",
   "execution_count": 2,
   "id": "45d6aa4f",
   "metadata": {
    "execution": {
     "iopub.execute_input": "2023-08-15T11:09:50.603892Z",
     "iopub.status.busy": "2023-08-15T11:09:50.603192Z",
     "iopub.status.idle": "2023-08-15T11:09:51.928381Z",
     "shell.execute_reply": "2023-08-15T11:09:51.927558Z"
    },
    "papermill": {
     "duration": 1.33466,
     "end_time": "2023-08-15T11:09:51.930642",
     "exception": false,
     "start_time": "2023-08-15T11:09:50.595982",
     "status": "completed"
    },
    "tags": []
   },
   "outputs": [
    {
     "data": {
      "text/plain": [
       "['tok2vec', 'tagger', 'parser', 'attribute_ruler', 'lemmatizer', 'ner']"
      ]
     },
     "execution_count": 2,
     "metadata": {},
     "output_type": "execute_result"
    }
   ],
   "source": [
    "nlp = spacy.load(\"en_core_web_sm\")\n",
    "nlp.pipe_names"
   ]
  },
  {
   "cell_type": "code",
   "execution_count": 3,
   "id": "ab57ca00",
   "metadata": {
    "execution": {
     "iopub.execute_input": "2023-08-15T11:09:51.944889Z",
     "iopub.status.busy": "2023-08-15T11:09:51.943769Z",
     "iopub.status.idle": "2023-08-15T11:09:51.978211Z",
     "shell.execute_reply": "2023-08-15T11:09:51.976876Z"
    },
    "papermill": {
     "duration": 0.044004,
     "end_time": "2023-08-15T11:09:51.980824",
     "exception": false,
     "start_time": "2023-08-15T11:09:51.936820",
     "status": "completed"
    },
    "tags": []
   },
   "outputs": [
    {
     "name": "stdout",
     "output_type": "stream",
     "text": [
      "Tesla Inc  |  ORG  |  Companies, agencies, institutions, etc.\n",
      "$45 billion  |  MONEY  |  Monetary values, including unit\n"
     ]
    }
   ],
   "source": [
    "doc = nlp(\"Tesla Inc is going to acquire twitter for $45 billion\")\n",
    "for ent in doc.ents:\n",
    "    print(ent.text, \" | \", ent.label_, \" | \", spacy.explain(ent.label_))"
   ]
  },
  {
   "cell_type": "code",
   "execution_count": 4,
   "id": "b465f087",
   "metadata": {
    "execution": {
     "iopub.execute_input": "2023-08-15T11:09:51.994132Z",
     "iopub.status.busy": "2023-08-15T11:09:51.993753Z",
     "iopub.status.idle": "2023-08-15T11:09:52.002698Z",
     "shell.execute_reply": "2023-08-15T11:09:52.001712Z"
    },
    "papermill": {
     "duration": 0.018285,
     "end_time": "2023-08-15T11:09:52.005082",
     "exception": false,
     "start_time": "2023-08-15T11:09:51.986797",
     "status": "completed"
    },
    "scrolled": true,
    "tags": []
   },
   "outputs": [
    {
     "data": {
      "text/html": [
       "<span class=\"tex2jax_ignore\"><div class=\"entities\" style=\"line-height: 2.5; direction: ltr\">\n",
       "<mark class=\"entity\" style=\"background: #7aecec; padding: 0.45em 0.6em; margin: 0 0.25em; line-height: 1; border-radius: 0.35em;\">\n",
       "    Tesla Inc\n",
       "    <span style=\"font-size: 0.8em; font-weight: bold; line-height: 1; border-radius: 0.35em; vertical-align: middle; margin-left: 0.5rem\">ORG</span>\n",
       "</mark>\n",
       " is going to acquire twitter for \n",
       "<mark class=\"entity\" style=\"background: #e4e7d2; padding: 0.45em 0.6em; margin: 0 0.25em; line-height: 1; border-radius: 0.35em;\">\n",
       "    $45 billion\n",
       "    <span style=\"font-size: 0.8em; font-weight: bold; line-height: 1; border-radius: 0.35em; vertical-align: middle; margin-left: 0.5rem\">MONEY</span>\n",
       "</mark>\n",
       "</div></span>"
      ],
      "text/plain": [
       "<IPython.core.display.HTML object>"
      ]
     },
     "metadata": {},
     "output_type": "display_data"
    }
   ],
   "source": [
    "from spacy import displacy\n",
    "\n",
    "displacy.render(doc, style=\"ent\")"
   ]
  },
  {
   "cell_type": "markdown",
   "id": "dff3a0b5",
   "metadata": {
    "papermill": {
     "duration": 0.005763,
     "end_time": "2023-08-15T11:09:52.016997",
     "exception": false,
     "start_time": "2023-08-15T11:09:52.011234",
     "status": "completed"
    },
    "tags": []
   },
   "source": [
    "<h3>List down all the entities</h3>"
   ]
  },
  {
   "cell_type": "code",
   "execution_count": 5,
   "id": "d31e7ee6",
   "metadata": {
    "execution": {
     "iopub.execute_input": "2023-08-15T11:09:52.030418Z",
     "iopub.status.busy": "2023-08-15T11:09:52.030033Z",
     "iopub.status.idle": "2023-08-15T11:09:52.037495Z",
     "shell.execute_reply": "2023-08-15T11:09:52.036586Z"
    },
    "papermill": {
     "duration": 0.01682,
     "end_time": "2023-08-15T11:09:52.039748",
     "exception": false,
     "start_time": "2023-08-15T11:09:52.022928",
     "status": "completed"
    },
    "scrolled": true,
    "tags": []
   },
   "outputs": [
    {
     "data": {
      "text/plain": [
       "['CARDINAL',\n",
       " 'DATE',\n",
       " 'EVENT',\n",
       " 'FAC',\n",
       " 'GPE',\n",
       " 'LANGUAGE',\n",
       " 'LAW',\n",
       " 'LOC',\n",
       " 'MONEY',\n",
       " 'NORP',\n",
       " 'ORDINAL',\n",
       " 'ORG',\n",
       " 'PERCENT',\n",
       " 'PERSON',\n",
       " 'PRODUCT',\n",
       " 'QUANTITY',\n",
       " 'TIME',\n",
       " 'WORK_OF_ART']"
      ]
     },
     "execution_count": 5,
     "metadata": {},
     "output_type": "execute_result"
    }
   ],
   "source": [
    "nlp.pipe_labels['ner']"
   ]
  },
  {
   "cell_type": "markdown",
   "id": "4f6b99a8",
   "metadata": {
    "papermill": {
     "duration": 0.006204,
     "end_time": "2023-08-15T11:09:52.052342",
     "exception": false,
     "start_time": "2023-08-15T11:09:52.046138",
     "status": "completed"
    },
    "tags": []
   },
   "source": [
    "List of entities are also documented on this page: https://spacy.io/models/en"
   ]
  },
  {
   "cell_type": "code",
   "execution_count": 6,
   "id": "878e3612",
   "metadata": {
    "execution": {
     "iopub.execute_input": "2023-08-15T11:09:52.066357Z",
     "iopub.status.busy": "2023-08-15T11:09:52.065995Z",
     "iopub.status.idle": "2023-08-15T11:09:52.080878Z",
     "shell.execute_reply": "2023-08-15T11:09:52.079684Z"
    },
    "papermill": {
     "duration": 0.024406,
     "end_time": "2023-08-15T11:09:52.083044",
     "exception": false,
     "start_time": "2023-08-15T11:09:52.058638",
     "status": "completed"
    },
    "tags": []
   },
   "outputs": [
    {
     "name": "stdout",
     "output_type": "stream",
     "text": [
      "Michael Bloomberg | PERSON | People, including fictional\n",
      "Bloomberg | PERSON | People, including fictional\n",
      "1982 | DATE | Absolute or relative dates or periods\n"
     ]
    }
   ],
   "source": [
    "doc = nlp(\"Michael Bloomberg founded Bloomberg in 1982\")\n",
    "for ent in doc.ents:\n",
    "    print(ent.text, \"|\", ent.label_, \"|\", spacy.explain(ent.label_))"
   ]
  },
  {
   "cell_type": "markdown",
   "id": "688969a1",
   "metadata": {
    "papermill": {
     "duration": 0.006269,
     "end_time": "2023-08-15T11:09:52.095861",
     "exception": false,
     "start_time": "2023-08-15T11:09:52.089592",
     "status": "completed"
    },
    "tags": []
   },
   "source": [
    "Above it made a mistake in identifying Bloomberg the company. Let's try hugging face for this now.\n",
    "\n",
    "https://huggingface.co/dslim/bert-base-NER?text=Michael+Bloomberg+founded+Bloomberg+in+1982\n",
    "\n",
    "Here also go through 3 sample examples for NER "
   ]
  },
  {
   "cell_type": "code",
   "execution_count": 7,
   "id": "d4e5e081",
   "metadata": {
    "execution": {
     "iopub.execute_input": "2023-08-15T11:09:52.112800Z",
     "iopub.status.busy": "2023-08-15T11:09:52.112393Z",
     "iopub.status.idle": "2023-08-15T11:09:52.127949Z",
     "shell.execute_reply": "2023-08-15T11:09:52.126835Z"
    },
    "papermill": {
     "duration": 0.025202,
     "end_time": "2023-08-15T11:09:52.130031",
     "exception": false,
     "start_time": "2023-08-15T11:09:52.104829",
     "status": "completed"
    },
    "tags": []
   },
   "outputs": [
    {
     "name": "stdout",
     "output_type": "stream",
     "text": [
      "Tesla Inc  |  ORG  |  0 | 9\n",
      "Twitter Inc  |  ORG  |  30 | 41\n",
      "$45 billion  |  MONEY  |  46 | 57\n"
     ]
    }
   ],
   "source": [
    "doc = nlp(\"Tesla Inc is going to acquire Twitter Inc for $45 billion\")\n",
    "for ent in doc.ents:\n",
    "    print(ent.text, \" | \", ent.label_, \" | \", ent.start_char, \"|\", ent.end_char)"
   ]
  },
  {
   "cell_type": "markdown",
   "id": "0feca23e",
   "metadata": {
    "papermill": {
     "duration": 0.006264,
     "end_time": "2023-08-15T11:09:52.142993",
     "exception": false,
     "start_time": "2023-08-15T11:09:52.136729",
     "status": "completed"
    },
    "tags": []
   },
   "source": [
    "<h3>Setting custom entities</h3>"
   ]
  },
  {
   "cell_type": "code",
   "execution_count": 8,
   "id": "1feb0102",
   "metadata": {
    "execution": {
     "iopub.execute_input": "2023-08-15T11:09:52.157712Z",
     "iopub.status.busy": "2023-08-15T11:09:52.157328Z",
     "iopub.status.idle": "2023-08-15T11:09:52.172156Z",
     "shell.execute_reply": "2023-08-15T11:09:52.170944Z"
    },
    "papermill": {
     "duration": 0.025037,
     "end_time": "2023-08-15T11:09:52.174513",
     "exception": false,
     "start_time": "2023-08-15T11:09:52.149476",
     "status": "completed"
    },
    "tags": []
   },
   "outputs": [
    {
     "name": "stdout",
     "output_type": "stream",
     "text": [
      "Tesla  |  ORG\n",
      "Twitter  |  PRODUCT\n",
      "$45 billion  |  MONEY\n"
     ]
    }
   ],
   "source": [
    "doc = nlp(\"Tesla is going to acquire Twitter for $45 billion\")\n",
    "for ent in doc.ents:\n",
    "    print(ent.text, \" | \", ent.label_)"
   ]
  },
  {
   "cell_type": "code",
   "execution_count": 9,
   "id": "003b31c8",
   "metadata": {
    "execution": {
     "iopub.execute_input": "2023-08-15T11:09:52.189402Z",
     "iopub.status.busy": "2023-08-15T11:09:52.188741Z",
     "iopub.status.idle": "2023-08-15T11:09:52.195420Z",
     "shell.execute_reply": "2023-08-15T11:09:52.194422Z"
    },
    "papermill": {
     "duration": 0.016536,
     "end_time": "2023-08-15T11:09:52.197684",
     "exception": false,
     "start_time": "2023-08-15T11:09:52.181148",
     "status": "completed"
    },
    "tags": []
   },
   "outputs": [
    {
     "data": {
      "text/plain": [
       "going to acquire"
      ]
     },
     "execution_count": 9,
     "metadata": {},
     "output_type": "execute_result"
    }
   ],
   "source": [
    "s = doc[2:5]\n",
    "s"
   ]
  },
  {
   "cell_type": "code",
   "execution_count": 10,
   "id": "55f6f180",
   "metadata": {
    "execution": {
     "iopub.execute_input": "2023-08-15T11:09:52.213931Z",
     "iopub.status.busy": "2023-08-15T11:09:52.213579Z",
     "iopub.status.idle": "2023-08-15T11:09:52.219772Z",
     "shell.execute_reply": "2023-08-15T11:09:52.218790Z"
    },
    "papermill": {
     "duration": 0.01666,
     "end_time": "2023-08-15T11:09:52.221983",
     "exception": false,
     "start_time": "2023-08-15T11:09:52.205323",
     "status": "completed"
    },
    "tags": []
   },
   "outputs": [
    {
     "data": {
      "text/plain": [
       "spacy.tokens.span.Span"
      ]
     },
     "execution_count": 10,
     "metadata": {},
     "output_type": "execute_result"
    }
   ],
   "source": [
    "type(s)"
   ]
  },
  {
   "cell_type": "code",
   "execution_count": 11,
   "id": "6964450b",
   "metadata": {
    "execution": {
     "iopub.execute_input": "2023-08-15T11:09:52.237437Z",
     "iopub.status.busy": "2023-08-15T11:09:52.237074Z",
     "iopub.status.idle": "2023-08-15T11:09:52.242379Z",
     "shell.execute_reply": "2023-08-15T11:09:52.241253Z"
    },
    "papermill": {
     "duration": 0.015809,
     "end_time": "2023-08-15T11:09:52.244645",
     "exception": false,
     "start_time": "2023-08-15T11:09:52.228836",
     "status": "completed"
    },
    "tags": []
   },
   "outputs": [],
   "source": [
    "from spacy.tokens import Span\n",
    "\n",
    "s1 = Span(doc, 0, 1, label=\"ORG\")\n",
    "s2 = Span(doc, 5, 6, label=\"ORG\")\n",
    "\n",
    "doc.set_ents([s1, s2], default=\"unmodified\")"
   ]
  },
  {
   "cell_type": "code",
   "execution_count": 12,
   "id": "8e0ce6af",
   "metadata": {
    "execution": {
     "iopub.execute_input": "2023-08-15T11:09:52.260336Z",
     "iopub.status.busy": "2023-08-15T11:09:52.259485Z",
     "iopub.status.idle": "2023-08-15T11:09:52.265182Z",
     "shell.execute_reply": "2023-08-15T11:09:52.264103Z"
    },
    "papermill": {
     "duration": 0.015742,
     "end_time": "2023-08-15T11:09:52.267209",
     "exception": false,
     "start_time": "2023-08-15T11:09:52.251467",
     "status": "completed"
    },
    "scrolled": true,
    "tags": []
   },
   "outputs": [
    {
     "name": "stdout",
     "output_type": "stream",
     "text": [
      "Tesla  |  ORG\n",
      "Twitter  |  ORG\n",
      "$45 billion  |  MONEY\n"
     ]
    }
   ],
   "source": [
    "for ent in doc.ents:\n",
    "    print(ent.text, \" | \", ent.label_)"
   ]
  }
 ],
 "metadata": {
  "kernelspec": {
   "display_name": "Python 3",
   "language": "python",
   "name": "python3"
  },
  "language_info": {
   "codemirror_mode": {
    "name": "ipython",
    "version": 3
   },
   "file_extension": ".py",
   "mimetype": "text/x-python",
   "name": "python",
   "nbconvert_exporter": "python",
   "pygments_lexer": "ipython3",
   "version": "3.10.12"
  },
  "papermill": {
   "default_parameters": {},
   "duration": 28.604023,
   "end_time": "2023-08-15T11:09:55.053934",
   "environment_variables": {},
   "exception": null,
   "input_path": "__notebook__.ipynb",
   "output_path": "__notebook__.ipynb",
   "parameters": {},
   "start_time": "2023-08-15T11:09:26.449911",
   "version": "2.4.0"
  }
 },
 "nbformat": 4,
 "nbformat_minor": 5
}
