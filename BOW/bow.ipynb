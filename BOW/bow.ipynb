{
 "cells": [
  {
   "cell_type": "markdown",
   "id": "6d8c82d9",
   "metadata": {
    "papermill": {
     "duration": 0.01145,
     "end_time": "2023-08-15T12:28:04.964210",
     "exception": false,
     "start_time": "2023-08-15T12:28:04.952760",
     "status": "completed"
    },
    "tags": []
   },
   "source": [
    "<h2 align='center'>NLP Tutorial: Text Representation - Bag Of Words (BOW)</h2>"
   ]
  },
  {
   "cell_type": "code",
   "execution_count": 1,
   "id": "ac1123ab",
   "metadata": {
    "execution": {
     "iopub.execute_input": "2023-08-15T12:28:04.989998Z",
     "iopub.status.busy": "2023-08-15T12:28:04.989600Z",
     "iopub.status.idle": "2023-08-15T12:28:05.003541Z",
     "shell.execute_reply": "2023-08-15T12:28:05.001543Z"
    },
    "papermill": {
     "duration": 0.030519,
     "end_time": "2023-08-15T12:28:05.007037",
     "exception": false,
     "start_time": "2023-08-15T12:28:04.976518",
     "status": "completed"
    },
    "tags": []
   },
   "outputs": [],
   "source": [
    "import pandas as pd\n",
    "import numpy as np"
   ]
  },
  {
   "cell_type": "code",
   "execution_count": 2,
   "id": "b699738e",
   "metadata": {
    "execution": {
     "iopub.execute_input": "2023-08-15T12:28:05.036084Z",
     "iopub.status.busy": "2023-08-15T12:28:05.035661Z",
     "iopub.status.idle": "2023-08-15T12:28:05.109151Z",
     "shell.execute_reply": "2023-08-15T12:28:05.107985Z"
    },
    "papermill": {
     "duration": 0.092389,
     "end_time": "2023-08-15T12:28:05.112471",
     "exception": false,
     "start_time": "2023-08-15T12:28:05.020082",
     "status": "completed"
    },
    "tags": []
   },
   "outputs": [
    {
     "data": {
      "text/html": [
       "<div>\n",
       "<style scoped>\n",
       "    .dataframe tbody tr th:only-of-type {\n",
       "        vertical-align: middle;\n",
       "    }\n",
       "\n",
       "    .dataframe tbody tr th {\n",
       "        vertical-align: top;\n",
       "    }\n",
       "\n",
       "    .dataframe thead th {\n",
       "        text-align: right;\n",
       "    }\n",
       "</style>\n",
       "<table border=\"1\" class=\"dataframe\">\n",
       "  <thead>\n",
       "    <tr style=\"text-align: right;\">\n",
       "      <th></th>\n",
       "      <th>Category</th>\n",
       "      <th>Message</th>\n",
       "    </tr>\n",
       "  </thead>\n",
       "  <tbody>\n",
       "    <tr>\n",
       "      <th>0</th>\n",
       "      <td>ham</td>\n",
       "      <td>Go until jurong point, crazy.. Available only ...</td>\n",
       "    </tr>\n",
       "    <tr>\n",
       "      <th>1</th>\n",
       "      <td>ham</td>\n",
       "      <td>Ok lar... Joking wif u oni...</td>\n",
       "    </tr>\n",
       "    <tr>\n",
       "      <th>2</th>\n",
       "      <td>spam</td>\n",
       "      <td>Free entry in 2 a wkly comp to win FA Cup fina...</td>\n",
       "    </tr>\n",
       "    <tr>\n",
       "      <th>3</th>\n",
       "      <td>ham</td>\n",
       "      <td>U dun say so early hor... U c already then say...</td>\n",
       "    </tr>\n",
       "    <tr>\n",
       "      <th>4</th>\n",
       "      <td>ham</td>\n",
       "      <td>Nah I don't think he goes to usf, he lives aro...</td>\n",
       "    </tr>\n",
       "  </tbody>\n",
       "</table>\n",
       "</div>"
      ],
      "text/plain": [
       "  Category                                            Message\n",
       "0      ham  Go until jurong point, crazy.. Available only ...\n",
       "1      ham                      Ok lar... Joking wif u oni...\n",
       "2     spam  Free entry in 2 a wkly comp to win FA Cup fina...\n",
       "3      ham  U dun say so early hor... U c already then say...\n",
       "4      ham  Nah I don't think he goes to usf, he lives aro..."
      ]
     },
     "execution_count": 2,
     "metadata": {},
     "output_type": "execute_result"
    }
   ],
   "source": [
    "df = pd.read_csv(\"/kaggle/input/spam-file/spam.csv\")\n",
    "df.head()"
   ]
  },
  {
   "cell_type": "code",
   "execution_count": 3,
   "id": "7f4ef83b",
   "metadata": {
    "execution": {
     "iopub.execute_input": "2023-08-15T12:28:05.139867Z",
     "iopub.status.busy": "2023-08-15T12:28:05.139448Z",
     "iopub.status.idle": "2023-08-15T12:28:05.158598Z",
     "shell.execute_reply": "2023-08-15T12:28:05.157141Z"
    },
    "papermill": {
     "duration": 0.036195,
     "end_time": "2023-08-15T12:28:05.161279",
     "exception": false,
     "start_time": "2023-08-15T12:28:05.125084",
     "status": "completed"
    },
    "tags": []
   },
   "outputs": [
    {
     "data": {
      "text/plain": [
       "ham     4825\n",
       "spam     747\n",
       "Name: Category, dtype: int64"
      ]
     },
     "execution_count": 3,
     "metadata": {},
     "output_type": "execute_result"
    }
   ],
   "source": [
    "df.Category.value_counts()"
   ]
  },
  {
   "cell_type": "code",
   "execution_count": 4,
   "id": "7d462f1e",
   "metadata": {
    "execution": {
     "iopub.execute_input": "2023-08-15T12:28:05.188538Z",
     "iopub.status.busy": "2023-08-15T12:28:05.187784Z",
     "iopub.status.idle": "2023-08-15T12:28:05.199050Z",
     "shell.execute_reply": "2023-08-15T12:28:05.197527Z"
    },
    "papermill": {
     "duration": 0.028246,
     "end_time": "2023-08-15T12:28:05.203044",
     "exception": false,
     "start_time": "2023-08-15T12:28:05.174798",
     "status": "completed"
    },
    "tags": []
   },
   "outputs": [],
   "source": [
    "df['spam'] = df['Category'].apply(lambda x: 1 if x =='spam' else 0)"
   ]
  },
  {
   "cell_type": "code",
   "execution_count": 5,
   "id": "834eef57",
   "metadata": {
    "execution": {
     "iopub.execute_input": "2023-08-15T12:28:05.230189Z",
     "iopub.status.busy": "2023-08-15T12:28:05.229746Z",
     "iopub.status.idle": "2023-08-15T12:28:05.237591Z",
     "shell.execute_reply": "2023-08-15T12:28:05.236068Z"
    },
    "papermill": {
     "duration": 0.025206,
     "end_time": "2023-08-15T12:28:05.240429",
     "exception": false,
     "start_time": "2023-08-15T12:28:05.215223",
     "status": "completed"
    },
    "tags": []
   },
   "outputs": [
    {
     "data": {
      "text/plain": [
       "(5572, 3)"
      ]
     },
     "execution_count": 5,
     "metadata": {},
     "output_type": "execute_result"
    }
   ],
   "source": [
    "df.shape"
   ]
  },
  {
   "cell_type": "code",
   "execution_count": 6,
   "id": "d9c91c05",
   "metadata": {
    "execution": {
     "iopub.execute_input": "2023-08-15T12:28:05.267688Z",
     "iopub.status.busy": "2023-08-15T12:28:05.266754Z",
     "iopub.status.idle": "2023-08-15T12:28:05.280870Z",
     "shell.execute_reply": "2023-08-15T12:28:05.279188Z"
    },
    "papermill": {
     "duration": 0.030699,
     "end_time": "2023-08-15T12:28:05.283658",
     "exception": false,
     "start_time": "2023-08-15T12:28:05.252959",
     "status": "completed"
    },
    "scrolled": true,
    "tags": []
   },
   "outputs": [
    {
     "data": {
      "text/html": [
       "<div>\n",
       "<style scoped>\n",
       "    .dataframe tbody tr th:only-of-type {\n",
       "        vertical-align: middle;\n",
       "    }\n",
       "\n",
       "    .dataframe tbody tr th {\n",
       "        vertical-align: top;\n",
       "    }\n",
       "\n",
       "    .dataframe thead th {\n",
       "        text-align: right;\n",
       "    }\n",
       "</style>\n",
       "<table border=\"1\" class=\"dataframe\">\n",
       "  <thead>\n",
       "    <tr style=\"text-align: right;\">\n",
       "      <th></th>\n",
       "      <th>Category</th>\n",
       "      <th>Message</th>\n",
       "      <th>spam</th>\n",
       "    </tr>\n",
       "  </thead>\n",
       "  <tbody>\n",
       "    <tr>\n",
       "      <th>0</th>\n",
       "      <td>ham</td>\n",
       "      <td>Go until jurong point, crazy.. Available only ...</td>\n",
       "      <td>0</td>\n",
       "    </tr>\n",
       "    <tr>\n",
       "      <th>1</th>\n",
       "      <td>ham</td>\n",
       "      <td>Ok lar... Joking wif u oni...</td>\n",
       "      <td>0</td>\n",
       "    </tr>\n",
       "    <tr>\n",
       "      <th>2</th>\n",
       "      <td>spam</td>\n",
       "      <td>Free entry in 2 a wkly comp to win FA Cup fina...</td>\n",
       "      <td>1</td>\n",
       "    </tr>\n",
       "    <tr>\n",
       "      <th>3</th>\n",
       "      <td>ham</td>\n",
       "      <td>U dun say so early hor... U c already then say...</td>\n",
       "      <td>0</td>\n",
       "    </tr>\n",
       "    <tr>\n",
       "      <th>4</th>\n",
       "      <td>ham</td>\n",
       "      <td>Nah I don't think he goes to usf, he lives aro...</td>\n",
       "      <td>0</td>\n",
       "    </tr>\n",
       "  </tbody>\n",
       "</table>\n",
       "</div>"
      ],
      "text/plain": [
       "  Category                                            Message  spam\n",
       "0      ham  Go until jurong point, crazy.. Available only ...     0\n",
       "1      ham                      Ok lar... Joking wif u oni...     0\n",
       "2     spam  Free entry in 2 a wkly comp to win FA Cup fina...     1\n",
       "3      ham  U dun say so early hor... U c already then say...     0\n",
       "4      ham  Nah I don't think he goes to usf, he lives aro...     0"
      ]
     },
     "execution_count": 6,
     "metadata": {},
     "output_type": "execute_result"
    }
   ],
   "source": [
    "df.head()"
   ]
  },
  {
   "cell_type": "markdown",
   "id": "67c9bf22",
   "metadata": {
    "papermill": {
     "duration": 0.012602,
     "end_time": "2023-08-15T12:28:05.309338",
     "exception": false,
     "start_time": "2023-08-15T12:28:05.296736",
     "status": "completed"
    },
    "tags": []
   },
   "source": [
    "<h3>Train test split</h3>"
   ]
  },
  {
   "cell_type": "code",
   "execution_count": 7,
   "id": "2c426d35",
   "metadata": {
    "execution": {
     "iopub.execute_input": "2023-08-15T12:28:05.339343Z",
     "iopub.status.busy": "2023-08-15T12:28:05.338879Z",
     "iopub.status.idle": "2023-08-15T12:28:06.879206Z",
     "shell.execute_reply": "2023-08-15T12:28:06.877668Z"
    },
    "papermill": {
     "duration": 1.558612,
     "end_time": "2023-08-15T12:28:06.882698",
     "exception": false,
     "start_time": "2023-08-15T12:28:05.324086",
     "status": "completed"
    },
    "tags": []
   },
   "outputs": [
    {
     "name": "stderr",
     "output_type": "stream",
     "text": [
      "/opt/conda/lib/python3.10/site-packages/scipy/__init__.py:146: UserWarning: A NumPy version >=1.16.5 and <1.23.0 is required for this version of SciPy (detected version 1.23.5\n",
      "  warnings.warn(f\"A NumPy version >={np_minversion} and <{np_maxversion}\"\n"
     ]
    }
   ],
   "source": [
    "from sklearn.model_selection import train_test_split\n",
    "\n",
    "X_train, X_test, y_train, y_test = train_test_split(df.Message, df.spam, test_size=0.2)"
   ]
  },
  {
   "cell_type": "code",
   "execution_count": 8,
   "id": "0ba3ef27",
   "metadata": {
    "execution": {
     "iopub.execute_input": "2023-08-15T12:28:06.909491Z",
     "iopub.status.busy": "2023-08-15T12:28:06.909039Z",
     "iopub.status.idle": "2023-08-15T12:28:06.917302Z",
     "shell.execute_reply": "2023-08-15T12:28:06.915921Z"
    },
    "papermill": {
     "duration": 0.024893,
     "end_time": "2023-08-15T12:28:06.919893",
     "exception": false,
     "start_time": "2023-08-15T12:28:06.895000",
     "status": "completed"
    },
    "tags": []
   },
   "outputs": [
    {
     "data": {
      "text/plain": [
       "(4457,)"
      ]
     },
     "execution_count": 8,
     "metadata": {},
     "output_type": "execute_result"
    }
   ],
   "source": [
    "X_train.shape"
   ]
  },
  {
   "cell_type": "code",
   "execution_count": 9,
   "id": "18102a2e",
   "metadata": {
    "execution": {
     "iopub.execute_input": "2023-08-15T12:28:06.948100Z",
     "iopub.status.busy": "2023-08-15T12:28:06.947683Z",
     "iopub.status.idle": "2023-08-15T12:28:06.956852Z",
     "shell.execute_reply": "2023-08-15T12:28:06.955353Z"
    },
    "papermill": {
     "duration": 0.027503,
     "end_time": "2023-08-15T12:28:06.960224",
     "exception": false,
     "start_time": "2023-08-15T12:28:06.932721",
     "status": "completed"
    },
    "tags": []
   },
   "outputs": [
    {
     "data": {
      "text/plain": [
       "(1115,)"
      ]
     },
     "execution_count": 9,
     "metadata": {},
     "output_type": "execute_result"
    }
   ],
   "source": [
    "X_test.shape"
   ]
  },
  {
   "cell_type": "code",
   "execution_count": 10,
   "id": "7a5e1f60",
   "metadata": {
    "execution": {
     "iopub.execute_input": "2023-08-15T12:28:06.988462Z",
     "iopub.status.busy": "2023-08-15T12:28:06.988015Z",
     "iopub.status.idle": "2023-08-15T12:28:06.996963Z",
     "shell.execute_reply": "2023-08-15T12:28:06.995359Z"
    },
    "papermill": {
     "duration": 0.027608,
     "end_time": "2023-08-15T12:28:07.000430",
     "exception": false,
     "start_time": "2023-08-15T12:28:06.972822",
     "status": "completed"
    },
    "tags": []
   },
   "outputs": [
    {
     "data": {
      "text/plain": [
       "pandas.core.series.Series"
      ]
     },
     "execution_count": 10,
     "metadata": {},
     "output_type": "execute_result"
    }
   ],
   "source": [
    "type(X_train)"
   ]
  },
  {
   "cell_type": "code",
   "execution_count": 11,
   "id": "f4f0eb81",
   "metadata": {
    "execution": {
     "iopub.execute_input": "2023-08-15T12:28:07.031105Z",
     "iopub.status.busy": "2023-08-15T12:28:07.030691Z",
     "iopub.status.idle": "2023-08-15T12:28:07.042729Z",
     "shell.execute_reply": "2023-08-15T12:28:07.040852Z"
    },
    "papermill": {
     "duration": 0.031132,
     "end_time": "2023-08-15T12:28:07.045957",
     "exception": false,
     "start_time": "2023-08-15T12:28:07.014825",
     "status": "completed"
    },
    "tags": []
   },
   "outputs": [
    {
     "data": {
      "text/plain": [
       "4691                                           Ok no prob\n",
       "365     Good afternoon sunshine! How dawns that day ? ...\n",
       "2627        Unni thank you dear for the recharge..Rakhesh\n",
       "2630    Hey there! Glad u r better now. I hear u treat...\n",
       "Name: Message, dtype: object"
      ]
     },
     "execution_count": 11,
     "metadata": {},
     "output_type": "execute_result"
    }
   ],
   "source": [
    "X_train[:4]"
   ]
  },
  {
   "cell_type": "code",
   "execution_count": 12,
   "id": "9f98d453",
   "metadata": {
    "execution": {
     "iopub.execute_input": "2023-08-15T12:28:07.074378Z",
     "iopub.status.busy": "2023-08-15T12:28:07.073928Z",
     "iopub.status.idle": "2023-08-15T12:28:07.081366Z",
     "shell.execute_reply": "2023-08-15T12:28:07.080053Z"
    },
    "papermill": {
     "duration": 0.024488,
     "end_time": "2023-08-15T12:28:07.083957",
     "exception": false,
     "start_time": "2023-08-15T12:28:07.059469",
     "status": "completed"
    },
    "tags": []
   },
   "outputs": [
    {
     "data": {
      "text/plain": [
       "pandas.core.series.Series"
      ]
     },
     "execution_count": 12,
     "metadata": {},
     "output_type": "execute_result"
    }
   ],
   "source": [
    "type(y_train)"
   ]
  },
  {
   "cell_type": "code",
   "execution_count": 13,
   "id": "84940260",
   "metadata": {
    "execution": {
     "iopub.execute_input": "2023-08-15T12:28:07.112868Z",
     "iopub.status.busy": "2023-08-15T12:28:07.112466Z",
     "iopub.status.idle": "2023-08-15T12:28:07.121868Z",
     "shell.execute_reply": "2023-08-15T12:28:07.120410Z"
    },
    "papermill": {
     "duration": 0.027488,
     "end_time": "2023-08-15T12:28:07.124686",
     "exception": false,
     "start_time": "2023-08-15T12:28:07.097198",
     "status": "completed"
    },
    "tags": []
   },
   "outputs": [
    {
     "data": {
      "text/plain": [
       "4691    0\n",
       "365     0\n",
       "2627    0\n",
       "2630    0\n",
       "Name: spam, dtype: int64"
      ]
     },
     "execution_count": 13,
     "metadata": {},
     "output_type": "execute_result"
    }
   ],
   "source": [
    "y_train[:4]"
   ]
  },
  {
   "cell_type": "code",
   "execution_count": 14,
   "id": "e65aa474",
   "metadata": {
    "execution": {
     "iopub.execute_input": "2023-08-15T12:28:07.154981Z",
     "iopub.status.busy": "2023-08-15T12:28:07.154058Z",
     "iopub.status.idle": "2023-08-15T12:28:07.161790Z",
     "shell.execute_reply": "2023-08-15T12:28:07.160778Z"
    },
    "papermill": {
     "duration": 0.026037,
     "end_time": "2023-08-15T12:28:07.164301",
     "exception": false,
     "start_time": "2023-08-15T12:28:07.138264",
     "status": "completed"
    },
    "scrolled": true,
    "tags": []
   },
   "outputs": [
    {
     "data": {
      "text/plain": [
       "numpy.ndarray"
      ]
     },
     "execution_count": 14,
     "metadata": {},
     "output_type": "execute_result"
    }
   ],
   "source": [
    "type(X_train.values)"
   ]
  },
  {
   "cell_type": "markdown",
   "id": "945a81bb",
   "metadata": {
    "papermill": {
     "duration": 0.012957,
     "end_time": "2023-08-15T12:28:07.190770",
     "exception": false,
     "start_time": "2023-08-15T12:28:07.177813",
     "status": "completed"
    },
    "tags": []
   },
   "source": [
    "<h3>Create bag of words representation using CountVectorizer</h3>"
   ]
  },
  {
   "cell_type": "code",
   "execution_count": 15,
   "id": "1de943df",
   "metadata": {
    "execution": {
     "iopub.execute_input": "2023-08-15T12:28:07.219597Z",
     "iopub.status.busy": "2023-08-15T12:28:07.218772Z",
     "iopub.status.idle": "2023-08-15T12:28:07.380572Z",
     "shell.execute_reply": "2023-08-15T12:28:07.379202Z"
    },
    "papermill": {
     "duration": 0.179083,
     "end_time": "2023-08-15T12:28:07.383465",
     "exception": false,
     "start_time": "2023-08-15T12:28:07.204382",
     "status": "completed"
    },
    "tags": []
   },
   "outputs": [
    {
     "data": {
      "text/plain": [
       "<4457x7730 sparse matrix of type '<class 'numpy.int64'>'\n",
       "\twith 59184 stored elements in Compressed Sparse Row format>"
      ]
     },
     "execution_count": 15,
     "metadata": {},
     "output_type": "execute_result"
    }
   ],
   "source": [
    "from sklearn.feature_extraction.text import CountVectorizer\n",
    "\n",
    "v = CountVectorizer()\n",
    "\n",
    "X_train_cv = v.fit_transform(X_train.values)\n",
    "X_train_cv"
   ]
  },
  {
   "cell_type": "code",
   "execution_count": 16,
   "id": "3b8c07a4",
   "metadata": {
    "execution": {
     "iopub.execute_input": "2023-08-15T12:28:07.415820Z",
     "iopub.status.busy": "2023-08-15T12:28:07.415397Z",
     "iopub.status.idle": "2023-08-15T12:28:07.540131Z",
     "shell.execute_reply": "2023-08-15T12:28:07.538443Z"
    },
    "papermill": {
     "duration": 0.145642,
     "end_time": "2023-08-15T12:28:07.543059",
     "exception": false,
     "start_time": "2023-08-15T12:28:07.397417",
     "status": "completed"
    },
    "tags": []
   },
   "outputs": [
    {
     "data": {
      "text/plain": [
       "array([0, 0, 0, ..., 0, 0, 0])"
      ]
     },
     "execution_count": 16,
     "metadata": {},
     "output_type": "execute_result"
    }
   ],
   "source": [
    "X_train_cv.toarray()[:2][0]"
   ]
  },
  {
   "cell_type": "code",
   "execution_count": 17,
   "id": "f474dccf",
   "metadata": {
    "execution": {
     "iopub.execute_input": "2023-08-15T12:28:07.574271Z",
     "iopub.status.busy": "2023-08-15T12:28:07.573834Z",
     "iopub.status.idle": "2023-08-15T12:28:07.582444Z",
     "shell.execute_reply": "2023-08-15T12:28:07.581093Z"
    },
    "papermill": {
     "duration": 0.026079,
     "end_time": "2023-08-15T12:28:07.585055",
     "exception": false,
     "start_time": "2023-08-15T12:28:07.558976",
     "status": "completed"
    },
    "tags": []
   },
   "outputs": [
    {
     "data": {
      "text/plain": [
       "(4457, 7730)"
      ]
     },
     "execution_count": 17,
     "metadata": {},
     "output_type": "execute_result"
    }
   ],
   "source": [
    "X_train_cv.shape"
   ]
  },
  {
   "cell_type": "code",
   "execution_count": 18,
   "id": "d6ef6561",
   "metadata": {
    "execution": {
     "iopub.execute_input": "2023-08-15T12:28:07.614996Z",
     "iopub.status.busy": "2023-08-15T12:28:07.614602Z",
     "iopub.status.idle": "2023-08-15T12:28:07.628554Z",
     "shell.execute_reply": "2023-08-15T12:28:07.627153Z"
    },
    "papermill": {
     "duration": 0.032439,
     "end_time": "2023-08-15T12:28:07.631540",
     "exception": false,
     "start_time": "2023-08-15T12:28:07.599101",
     "status": "completed"
    },
    "tags": []
   },
   "outputs": [
    {
     "data": {
      "text/plain": [
       "'chill'"
      ]
     },
     "execution_count": 18,
     "metadata": {},
     "output_type": "execute_result"
    }
   ],
   "source": [
    "v.get_feature_names_out()[1771]"
   ]
  },
  {
   "cell_type": "code",
   "execution_count": 19,
   "id": "a82f6a8f",
   "metadata": {
    "execution": {
     "iopub.execute_input": "2023-08-15T12:28:07.662105Z",
     "iopub.status.busy": "2023-08-15T12:28:07.661726Z",
     "iopub.status.idle": "2023-08-15T12:28:07.707814Z",
     "shell.execute_reply": "2023-08-15T12:28:07.706620Z"
    },
    "papermill": {
     "duration": 0.065235,
     "end_time": "2023-08-15T12:28:07.711091",
     "exception": false,
     "start_time": "2023-08-15T12:28:07.645856",
     "status": "completed"
    },
    "tags": []
   },
   "outputs": [
    {
     "data": {
      "text/plain": [
       "{'ok': 4923,\n",
       " 'no': 4799,\n",
       " 'prob': 5440,\n",
       " 'good': 3168,\n",
       " 'afternoon': 838,\n",
       " 'sunshine': 6587,\n",
       " 'how': 3505,\n",
       " 'dawns': 2158,\n",
       " 'that': 6787,\n",
       " 'day': 2159,\n",
       " 'are': 1030,\n",
       " 'we': 7396,\n",
       " 'refreshed': 5667,\n",
       " 'and': 939,\n",
       " 'happy': 3321,\n",
       " 'to': 6908,\n",
       " 'be': 1259,\n",
       " 'alive': 892,\n",
       " 'do': 2355,\n",
       " 'breathe': 1483,\n",
       " 'in': 3630,\n",
       " 'the': 6791,\n",
       " 'air': 865,\n",
       " 'smile': 6246,\n",
       " 'think': 6821,\n",
       " 'of': 4898,\n",
       " 'you': 7693,\n",
       " 'my': 4671,\n",
       " 'love': 4229,\n",
       " 'as': 1063,\n",
       " 'always': 910,\n",
       " 'unni': 7148,\n",
       " 'thank': 6780,\n",
       " 'dear': 2170,\n",
       " 'for': 2918,\n",
       " 'recharge': 5644,\n",
       " 'rakhesh': 5573,\n",
       " 'hey': 3410,\n",
       " 'there': 6809,\n",
       " 'glad': 3133,\n",
       " 'better': 1320,\n",
       " 'now': 4850,\n",
       " 'hear': 3365,\n",
       " 'treated': 7009,\n",
       " 'urself': 7190,\n",
       " 'digi': 2299,\n",
       " 'cam': 1606,\n",
       " 'is': 3739,\n",
       " 'it': 3751,\n",
       " 'off': 4899,\n",
       " 'at': 1097,\n",
       " '9pm': 728,\n",
       " 'have': 3343,\n",
       " 'fab': 2717,\n",
       " 'new': 4761,\n",
       " 'year': 7666,\n",
       " 'coupla': 2014,\n",
       " 'wks': 7544,\n",
       " 'ugh': 7093,\n",
       " 'can': 1612,\n",
       " 'just': 3873,\n",
       " 'apologize': 994,\n",
       " 'admit': 808,\n",
       " 'were': 7443,\n",
       " 'wrong': 7613,\n",
       " 'ask': 1073,\n",
       " 'me': 4412,\n",
       " 'take': 6670,\n",
       " 'back': 1178,\n",
       " 'dice': 2279,\n",
       " 'art': 1058,\n",
       " 'class': 1813,\n",
       " 'thru': 6857,\n",
       " 'thanks': 6781,\n",
       " 'though': 6840,\n",
       " 'any': 971,\n",
       " 'idea': 3577,\n",
       " 'what': 7457,\n",
       " 'time': 6876,\n",
       " 'should': 6124,\n",
       " 'come': 1891,\n",
       " 'tomorrow': 6936,\n",
       " 'couldn': 2008,\n",
       " 'say': 5925,\n",
       " 'he': 3353,\n",
       " 'dying': 2478,\n",
       " 'man': 4341,\n",
       " 'feel': 2780,\n",
       " 'sad': 5870,\n",
       " 'him': 3423,\n",
       " 'so': 6278,\n",
       " 'will': 7500,\n",
       " 'go': 3148,\n",
       " 'wanted': 7358,\n",
       " 'know': 3963,\n",
       " 'would': 7596,\n",
       " 'probably': 5441,\n",
       " 'gone': 3165,\n",
       " 'late': 4028,\n",
       " 'into': 3708,\n",
       " 'your': 7698,\n",
       " 'night': 4781,\n",
       " 'okay': 4924,\n",
       " 'problem': 5442,\n",
       " 'thanx': 6785,\n",
       " 'fine': 2833,\n",
       " 'absolutly': 751,\n",
       " 'on': 4942,\n",
       " 'da': 2118,\n",
       " 'bus': 1554,\n",
       " 'going': 3159,\n",
       " 'home': 3463,\n",
       " 'well': 7435,\n",
       " 'done': 2391,\n",
       " 'costa': 1999,\n",
       " 'del': 2207,\n",
       " 'sol': 6287,\n",
       " 'holiday': 3458,\n",
       " 'or': 4981,\n",
       " '5000': 521,\n",
       " 'await': 1147,\n",
       " 'collection': 1879,\n",
       " 'call': 1590,\n",
       " '09050090044': 160,\n",
       " 'toclaim': 6914,\n",
       " 'sae': 5871,\n",
       " 'tcs': 6709,\n",
       " 'pobox334': 5285,\n",
       " 'stockport': 6475,\n",
       " 'sk38xh': 6197,\n",
       " 'cost': 1998,\n",
       " '50': 519,\n",
       " 'pm': 5276,\n",
       " 'max10mins': 4401,\n",
       " 'darren': 2145,\n",
       " 'was': 7369,\n",
       " 'saying': 5928,\n",
       " 'dat': 2149,\n",
       " 'if': 3587,\n",
       " 'meeting': 4432,\n",
       " 'ge': 3079,\n",
       " 'den': 2221,\n",
       " 'dun': 2468,\n",
       " 'meet': 4430,\n",
       " 'dinner': 2310,\n",
       " 'cos': 1996,\n",
       " 'later': 4031,\n",
       " 'leave': 4066,\n",
       " 'xy': 7648,\n",
       " 'awkward': 1154,\n",
       " 'lunch': 4264,\n",
       " 'lor': 4208,\n",
       " 'dude': 2460,\n",
       " 'while': 7473,\n",
       " 'makin': 4334,\n",
       " 'those': 6837,\n",
       " 'weirdy': 7431,\n",
       " 'brownies': 1518,\n",
       " 'sister': 6185,\n",
       " 'made': 4308,\n",
       " 'awesome': 1153,\n",
       " 'cookies': 1982,\n",
       " 'took': 6950,\n",
       " 'pics': 5213,\n",
       " 'pls': 5268,\n",
       " 'send': 6012,\n",
       " 'mail': 4323,\n",
       " 'all': 893,\n",
       " 'about': 747,\n",
       " 'relatives': 5684,\n",
       " 'coming': 1897,\n",
       " 'deliver': 2214,\n",
       " 'here': 3400,\n",
       " 'costs': 2001,\n",
       " 'risks': 5796,\n",
       " 'benefits': 1312,\n",
       " 'anything': 980,\n",
       " 'else': 2545,\n",
       " 'xmas': 7636,\n",
       " 'prize': 5436,\n",
       " 'draws': 2424,\n",
       " 'trying': 7035,\n",
       " 'contact': 1962,\n",
       " 'todays': 6916,\n",
       " 'draw': 2423,\n",
       " 'shows': 6134,\n",
       " 'won': 7557,\n",
       " '2000': 329,\n",
       " 'guaranteed': 3247,\n",
       " '09058094565': 167,\n",
       " 'from': 2998,\n",
       " 'land': 4008,\n",
       " 'line': 4129,\n",
       " 'valid': 7222,\n",
       " '12hrs': 273,\n",
       " 'only': 4953,\n",
       " 'hi': 3413,\n",
       " 'hw': 3555,\n",
       " 'realy': 5623,\n",
       " 'mising': 4516,\n",
       " 'today': 6915,\n",
       " 'yup': 7717,\n",
       " 'but': 1560,\n",
       " 'not': 4835,\n",
       " 'studying': 6524,\n",
       " 'surfing': 6608,\n",
       " 'lazy': 4047,\n",
       " 'mode': 4561,\n",
       " 'paragon': 5083,\n",
       " 'havent': 3346,\n",
       " 'decided': 2179,\n",
       " 'whether': 7471,\n",
       " 'cut': 2107,\n",
       " 'yet': 7680,\n",
       " 'hee': 3376,\n",
       " 'please': 5260,\n",
       " '08712402779': 101,\n",
       " 'immediately': 3615,\n",
       " 'an': 934,\n",
       " 'urgent': 7181,\n",
       " 'message': 4463,\n",
       " 'waiting': 7334,\n",
       " 'want': 7356,\n",
       " 'video': 7263,\n",
       " 'phone750': 5195,\n",
       " 'anytime': 982,\n",
       " 'network': 4752,\n",
       " 'mins': 4505,\n",
       " '150': 285,\n",
       " 'text': 6766,\n",
       " 'five': 2853,\n",
       " 'pounds': 5355,\n",
       " 'per': 5150,\n",
       " 'week': 7419,\n",
       " '08000776320': 45,\n",
       " 'reply': 5723,\n",
       " 'delivery': 2217,\n",
       " 'bognor': 1403,\n",
       " 'splendid': 6384,\n",
       " 'this': 6829,\n",
       " 'thats': 6790,\n",
       " 'cool': 1984,\n",
       " 'sometimes': 6301,\n",
       " 'slow': 6232,\n",
       " 'gentle': 3090,\n",
       " 'sonetimes': 6308,\n",
       " 'rough': 5827,\n",
       " 'hard': 3322,\n",
       " 'lol': 4187,\n",
       " 'grins': 3228,\n",
       " 'babe': 1170,\n",
       " 'thinking': 6824,\n",
       " 'dont': 2393,\n",
       " 'again': 843,\n",
       " 'oh': 4918,\n",
       " 'relieved': 5687,\n",
       " 'westonzoyland': 7452,\n",
       " 'plan': 5243,\n",
       " 'end': 2565,\n",
       " 'too': 6949,\n",
       " 'double': 2406,\n",
       " '1000': 245,\n",
       " 'txts': 7078,\n",
       " 'orange': 4984,\n",
       " 'tariffs': 6689,\n",
       " 'latest': 4032,\n",
       " 'motorola': 4607,\n",
       " 'sonyericsson': 6312,\n",
       " 'nokia': 4807,\n",
       " 'with': 7530,\n",
       " 'bluetooth': 1393,\n",
       " 'free': 2962,\n",
       " 'mobileupd8': 4555,\n",
       " '08000839402': 46,\n",
       " 'call2optout': 1592,\n",
       " 'hf8': 3411,\n",
       " 'looked': 4200,\n",
       " 'up': 7159,\n",
       " 'addie': 800,\n",
       " 'goes': 3156,\n",
       " 'monday': 4576,\n",
       " 'sucks': 6557,\n",
       " 'her': 3399,\n",
       " 'guess': 3253,\n",
       " 'they': 6816,\n",
       " 'both': 1431,\n",
       " 'got': 3185,\n",
       " 'screwd': 5961,\n",
       " 'found': 2944,\n",
       " 'diff': 2291,\n",
       " 'farm': 2754,\n",
       " 'shop': 6111,\n",
       " 'buy': 1564,\n",
       " 'some': 6292,\n",
       " 'cheese': 1747,\n",
       " 'way': 7391,\n",
       " 'case': 1655,\n",
       " 'wake': 7335,\n",
       " 'wondering': 7562,\n",
       " 'where': 7468,\n",
       " 'am': 912,\n",
       " 'forgot': 2931,\n",
       " 'care': 1634,\n",
       " 'something': 6299,\n",
       " 'grandma': 3206,\n",
       " 'before': 1286,\n",
       " 'parade': 5082,\n",
       " 'sis': 6184,\n",
       " 'catching': 1668,\n",
       " 'show': 6129,\n",
       " 'watching': 7380,\n",
       " 'wan': 7352,\n",
       " 'watch': 7376,\n",
       " 'tmr': 6904,\n",
       " 'lt': 4252,\n",
       " 'gt': 3243,\n",
       " 'reunion': 5768,\n",
       " 'decide': 2178,\n",
       " 'part': 5096,\n",
       " 'nottingham': 4845,\n",
       " 'hrs': 3517,\n",
       " '63miles': 568,\n",
       " 'thing': 6819,\n",
       " 'much': 4642,\n",
       " 'doing': 2381,\n",
       " '40mph': 464,\n",
       " 'ho': 3447,\n",
       " 'last': 4025,\n",
       " 'ever': 2646,\n",
       " 'hurt': 3548,\n",
       " 'didn': 2284,\n",
       " 'laugh': 4035,\n",
       " 'embarassed': 2551,\n",
       " 'delete': 2210,\n",
       " 'tag': 6663,\n",
       " 'keep': 3907,\n",
       " 'far': 2753,\n",
       " 'knew': 3959,\n",
       " 'wasn': 7371,\n",
       " 'even': 2641,\n",
       " 'fact': 2722,\n",
       " 'felt': 2790,\n",
       " 'like': 4115,\n",
       " 'really': 5621,\n",
       " 'don': 2389,\n",
       " 'messy': 4468,\n",
       " 'wednesday': 7415,\n",
       " 'bad': 1181,\n",
       " 'clean': 1818,\n",
       " 'choose': 1785,\n",
       " 'skype': 6208,\n",
       " 'pictures': 5216,\n",
       " 'sleep': 6214,\n",
       " 'out': 5016,\n",
       " 'mind': 4493,\n",
       " 'few': 2796,\n",
       " 'things': 6820,\n",
       " 'when': 7464,\n",
       " 'make': 4331,\n",
       " 'bed': 1274,\n",
       " 'throw': 6852,\n",
       " 'laundry': 4039,\n",
       " 'top': 6957,\n",
       " 'friend': 2983,\n",
       " 'house': 3501,\n",
       " 'because': 1269,\n",
       " 'underwear': 7123,\n",
       " 'bras': 1470,\n",
       " 'strewn': 6505,\n",
       " 'pillows': 5225,\n",
       " 'floor': 2880,\n",
       " 'used': 7196,\n",
       " 'least': 4064,\n",
       " 'making': 4335,\n",
       " 'cant': 1622,\n",
       " 'anyone': 975,\n",
       " 'spare': 6350,\n",
       " 'room': 5819,\n",
       " 'head': 3354,\n",
       " 'winner': 7513,\n",
       " 'valued': 7226,\n",
       " 'customer': 2104,\n",
       " 'hvae': 3554,\n",
       " 'been': 1280,\n",
       " 'selected': 5998,\n",
       " 'receive': 5636,\n",
       " '900': 711,\n",
       " 'reward': 5775,\n",
       " 'collect': 1876,\n",
       " '09061701444': 181,\n",
       " '24': 345,\n",
       " 'hours': 3500,\n",
       " 'acl03530150pm': 778,\n",
       " 'll': 4163,\n",
       " 'see': 5984,\n",
       " 'campus': 1611,\n",
       " 'lodge': 4179,\n",
       " 'address': 802,\n",
       " 'apples': 1002,\n",
       " 'pairs': 5064,\n",
       " 'malarky': 4337,\n",
       " 'get': 3100,\n",
       " 'unless': 7143,\n",
       " 'guys': 3266,\n",
       " 'sooner': 6315,\n",
       " 'bbq': 1246,\n",
       " 'sat': 5908,\n",
       " 'mine': 4496,\n",
       " '6ish': 589,\n",
       " 'ur': 7177,\n",
       " 'welcome': 7433,\n",
       " 'shanil': 6068,\n",
       " 'exchanged': 2673,\n",
       " 'uncut': 7117,\n",
       " 'diamond': 2276,\n",
       " 'stuff': 6526,\n",
       " 'leaving': 4068,\n",
       " 'excellent': 2671,\n",
       " 'service': 6032,\n",
       " 'by': 1575,\n",
       " 'dino': 2311,\n",
       " 'prem': 5390,\n",
       " 'ate': 1098,\n",
       " 'natalja': 4707,\n",
       " '25': 348,\n",
       " 'inviting': 3718,\n",
       " 'yes': 7677,\n",
       " '440': 475,\n",
       " 'www': 7626,\n",
       " 'sms': 6258,\n",
       " 'ac': 757,\n",
       " 'nat27081980': 4706,\n",
       " 'stop': 6481,\n",
       " 'frnd': 2990,\n",
       " '62468': 565,\n",
       " 'friday': 2980,\n",
       " 'stuffed': 6528,\n",
       " 'myself': 4676,\n",
       " 'pig': 5221,\n",
       " 'yesterday': 7679,\n",
       " 'bleh': 1374,\n",
       " 'its': 3758,\n",
       " 'writhing': 7607,\n",
       " 'pain': 5060,\n",
       " 'kind': 3940,\n",
       " 'many': 4355,\n",
       " 'people': 5149,\n",
       " 'seems': 5991,\n",
       " 'special': 6356,\n",
       " 'first': 2847,\n",
       " 'sight': 6154,\n",
       " 'very': 7252,\n",
       " 'remain': 5691,\n",
       " 'till': 6874,\n",
       " 'maintain': 4328,\n",
       " 'them': 6799,\n",
       " 'life': 4106,\n",
       " 'ends': 2571,\n",
       " 'sh': 6051,\n",
       " 'jas': 3792,\n",
       " '10': 243,\n",
       " 'min': 4490,\n",
       " 'cbe': 1674,\n",
       " 'chennai': 1750,\n",
       " '09066350750': 210,\n",
       " 'landline': 4009,\n",
       " 'complimentary': 1921,\n",
       " 'ibiza': 3564,\n",
       " '000': 1,\n",
       " 'cash': 1656,\n",
       " 'cs': 2069,\n",
       " 'po': 5278,\n",
       " 'box': 1441,\n",
       " '434': 473,\n",
       " 'sk3': 6196,\n",
       " '8wp': 710,\n",
       " 'ppm': 5364,\n",
       " '18': 302,\n",
       " 'wearing': 7402,\n",
       " 'also': 905,\n",
       " 'tell': 6733,\n",
       " 'said': 5876,\n",
       " 'birthday': 1355,\n",
       " 'face': 2719,\n",
       " 'test': 6760,\n",
       " 'select': 5997,\n",
       " 'number': 4864,\n",
       " 'astrology': 1093,\n",
       " 'quick': 5541,\n",
       " 'txt': 7070,\n",
       " 'price': 5420,\n",
       " 'linerental': 4132,\n",
       " 'mobiles': 4553,\n",
       " 'offers': 4907,\n",
       " 'lf56': 4095,\n",
       " 'she': 6075,\n",
       " 'bedroom': 1277,\n",
       " 'minute': 4507,\n",
       " 'sed': 5983,\n",
       " 'sexy': 6047,\n",
       " 'mood': 4589,\n",
       " 'came': 1608,\n",
       " 'minuts': 4509,\n",
       " 'latr': 4034,\n",
       " 'wid': 7490,\n",
       " 'cake': 1582,\n",
       " 'wife': 7492,\n",
       " 'yeah': 7665,\n",
       " 'imma': 3613,\n",
       " 'over': 5033,\n",
       " 'cause': 1671,\n",
       " 'jay': 3795,\n",
       " 'wants': 7360,\n",
       " 'drugs': 2448,\n",
       " 'mean': 4415,\n",
       " 'texting': 6772,\n",
       " 'sorry': 6321,\n",
       " 'tape': 6688,\n",
       " 'pple': 5363,\n",
       " 'type': 7084,\n",
       " 'help': 3388,\n",
       " 'noe': 4803,\n",
       " 'infernal': 3660,\n",
       " 'affairs': 828,\n",
       " 'along': 900,\n",
       " 'asking': 1077,\n",
       " 'shuhui': 6142,\n",
       " 'oso': 5004,\n",
       " 'crucify': 2063,\n",
       " 'told': 6925,\n",
       " 'earlier': 2484,\n",
       " 'jade': 3778,\n",
       " 'paul': 5121,\n",
       " 'remember': 5694,\n",
       " 'barmed': 1218,\n",
       " 'talk': 6677,\n",
       " 'try': 7033,\n",
       " 'invention': 3712,\n",
       " 'fly': 2890,\n",
       " 'joking': 3843,\n",
       " 'nobody': 4802,\n",
       " 'eat': 2496,\n",
       " 'dad': 2122,\n",
       " 'chinese': 1776,\n",
       " 'taught': 6698,\n",
       " 'ranjith': 5585,\n",
       " 'sir': 6183,\n",
       " 'called': 1596,\n",
       " 'becaus': 1268,\n",
       " 'hes': 3405,\n",
       " 'verifying': 7249,\n",
       " 'project': 5461,\n",
       " 'prabu': 5368,\n",
       " 'pa': 5049,\n",
       " 'mistake': 4528,\n",
       " 're': 5604,\n",
       " 'mu': 4641,\n",
       " 'table': 6657,\n",
       " 'lambda': 4004,\n",
       " 'wat': 7375,\n",
       " 'lk': 4161,\n",
       " 'tt': 7043,\n",
       " 'one': 4947,\n",
       " 'cine': 1800,\n",
       " 'yogasana': 7690,\n",
       " 'saw': 5924,\n",
       " 'parked': 5093,\n",
       " 'car': 1629,\n",
       " 'sunroof': 6586,\n",
       " 'popped': 5325,\n",
       " 'sux': 6617,\n",
       " 'has': 3331,\n",
       " 'issues': 3749,\n",
       " 'right': 5783,\n",
       " 'ill': 3601,\n",
       " 'fix': 2854,\n",
       " 'alrite': 904,\n",
       " 'sam': 5887,\n",
       " 'nic': 4773,\n",
       " 'checkin': 1738,\n",
       " 'grumpy': 3240,\n",
       " 'old': 4935,\n",
       " 'mom': 4571,\n",
       " 'lying': 4277,\n",
       " 'then': 6803,\n",
       " 'play': 5252,\n",
       " 'jokes': 3841,\n",
       " 'private': 5434,\n",
       " '2003': 330,\n",
       " 'account': 772,\n",
       " 'statement': 6443,\n",
       " '800': 625,\n",
       " 'un': 7105,\n",
       " 'redeemed': 5657,\n",
       " 'points': 5300,\n",
       " '08715203685': 123,\n",
       " 'identifier': 3581,\n",
       " 'code': 1863,\n",
       " '4xx26': 518,\n",
       " 'expires': 2697,\n",
       " '13': 275,\n",
       " '04': 14,\n",
       " 'macho': 4300,\n",
       " 'budget': 1534,\n",
       " 'bb': 1243,\n",
       " 'bold': 1404,\n",
       " 'dollars': 2386,\n",
       " 'financial': 2830,\n",
       " 'whatsup': 7460,\n",
       " 'mostly': 4601,\n",
       " 'sports': 6396,\n",
       " 'lyk': 4278,\n",
       " 'footbl': 2914,\n",
       " 'crckt': 2040,\n",
       " 'pick': 5209,\n",
       " 'rayan': 5595,\n",
       " 'macleran': 4302,\n",
       " 'tessy': 6759,\n",
       " 'favor': 2769,\n",
       " 'convey': 1978,\n",
       " 'wishes': 7524,\n",
       " 'nimya': 4789,\n",
       " 'dnt': 2354,\n",
       " 'forget': 2926,\n",
       " 'shijas': 6088,\n",
       " 'why': 7485,\n",
       " 'keeping': 3908,\n",
       " 'away': 1152,\n",
       " 'did': 2282,\n",
       " 'somebody': 6294,\n",
       " 'named': 4693,\n",
       " 'tampa': 6685,\n",
       " 'appt': 1018,\n",
       " 'fault': 2766,\n",
       " 'listen': 4144,\n",
       " 'twice': 7064,\n",
       " 'laptop': 4018,\n",
       " 'aww': 1155,\n",
       " 'missed': 4519,\n",
       " 'without': 7534,\n",
       " 'asked': 1075,\n",
       " 'anna': 948,\n",
       " 'nagar': 4683,\n",
       " 'msg': 4626,\n",
       " 'yar': 7657,\n",
       " 'poor': 5320,\n",
       " 'brand': 1468,\n",
       " 'swimming': 6638,\n",
       " 'pool': 5318,\n",
       " 'jacuzzi': 3776,\n",
       " 'nothing': 4840,\n",
       " 'sunday': 6581,\n",
       " 'work': 7574,\n",
       " 'member': 4444,\n",
       " 'aunt': 1123,\n",
       " 'flow': 2882,\n",
       " 'visit': 7283,\n",
       " 'months': 4588,\n",
       " 'developed': 2260,\n",
       " 'ovarian': 5032,\n",
       " 'cysts': 2117,\n",
       " 'bc': 1247,\n",
       " 'shrink': 6137,\n",
       " 'hello': 3385,\n",
       " 'moving': 4618,\n",
       " 'flat': 2864,\n",
       " 'need': 4730,\n",
       " 'arrange': 1052,\n",
       " 'lamp': 4006,\n",
       " 'etc': 2631,\n",
       " 'caroline': 1649,\n",
       " 'matter': 4395,\n",
       " 'other': 5006,\n",
       " 'rose': 5825,\n",
       " 'red': 5656,\n",
       " 'blood': 1386,\n",
       " 'heart': 3368,\n",
       " 'tis': 6890,\n",
       " 'friends': 2984,\n",
       " 'including': 3639,\n",
       " 'relation': 5682,\n",
       " 'support': 6599,\n",
       " 'some1': 6293,\n",
       " 'luvs': 4270,\n",
       " 'praying': 5383,\n",
       " 'god': 3154,\n",
       " 'marry': 4373,\n",
       " 'down': 2411,\n",
       " 'gandhipuram': 3051,\n",
       " 'walk': 7339,\n",
       " 'cross': 2059,\n",
       " 'road': 5800,\n",
       " 'side': 6151,\n",
       " 'street': 6500,\n",
       " 'turn': 7055,\n",
       " 'goodnight': 3174,\n",
       " 'thangam': 6779,\n",
       " 'miss': 4517,\n",
       " 'which': 7472,\n",
       " 'place': 5238,\n",
       " 'hiding': 3417,\n",
       " 'stranger': 6498,\n",
       " 'accidentally': 765,\n",
       " 'left': 4072,\n",
       " 'phone': 5194,\n",
       " 'silent': 6161,\n",
       " 'check': 1736,\n",
       " 'til': 6873,\n",
       " 'use': 7195,\n",
       " 'hook': 3473,\n",
       " 'boltblue': 1406,\n",
       " 'tones': 6939,\n",
       " '150p': 287,\n",
       " 'poly': 5307,\n",
       " 'mono': 4582,\n",
       " 'eg': 2524,\n",
       " 'poly3': 5308,\n",
       " 'cha': 1695,\n",
       " 'slide': 6223,\n",
       " 'jamz': 3783,\n",
       " 'toxic': 6979,\n",
       " 'more': 4592,\n",
       " 'his': 3428,\n",
       " 'frens': 2974,\n",
       " 'alone': 899,\n",
       " 'wif': 7491,\n",
       " 'mum': 4650,\n",
       " 'letter': 4092,\n",
       " 'hope': 3477,\n",
       " 'boytoy': 1461,\n",
       " 'loyalty': 4246,\n",
       " 'offer': 4904,\n",
       " 'nokia6650': 4809,\n",
       " 'mobile': 4552,\n",
       " 'txtauction': 7074,\n",
       " 'word': 7572,\n",
       " 'start': 6435,\n",
       " '81151': 640,\n",
       " 'yours': 7701,\n",
       " '4t': 509,\n",
       " 'ctxt': 2082,\n",
       " 'tc': 6707,\n",
       " 'mtmsg': 4638,\n",
       " 'beautiful': 1265,\n",
       " 've': 7239,\n",
       " 'kinda': 3941,\n",
       " 'ad': 794,\n",
       " 'row': 5832,\n",
       " 'wiv': 7536,\n",
       " 'walked': 7341,\n",
       " 'pub': 5500,\n",
       " 'weekly': 7423,\n",
       " 'mob': 4550,\n",
       " 'ready': 5615,\n",
       " 'download': 2412,\n",
       " 'weeks': 7424,\n",
       " 'include': 3637,\n",
       " 'crazy': 2039,\n",
       " 'frog': 2997,\n",
       " 'axel': 1158,\n",
       " 'akon': 876,\n",
       " 'lonely': 4193,\n",
       " 'black': 1363,\n",
       " 'eyed': 2713,\n",
       " 'info': 3662,\n",
       " 'aight': 862,\n",
       " 'let': 4090,\n",
       " 'gonna': 3166,\n",
       " 'around': 1049,\n",
       " 'usf': 7201,\n",
       " 'bit': 1357,\n",
       " 'bored': 1423,\n",
       " 'early': 2486,\n",
       " 'could': 2007,\n",
       " 'excuse': 2676,\n",
       " '08714712388': 115,\n",
       " 'between': 1323,\n",
       " '10am': 252,\n",
       " '7pm': 620,\n",
       " '10p': 254,\n",
       " 'wont': 7564,\n",
       " 'sliding': 6224,\n",
       " 'after': 836,\n",
       " 'midnight': 4478,\n",
       " 'invite': 3716,\n",
       " 'miiiiiiissssssssss': 4481,\n",
       " 'crave': 2036,\n",
       " 'geeee': 3081,\n",
       " 'intrude': 3710,\n",
       " 'tuition': 7048,\n",
       " 'paid': 5059,\n",
       " 'semester': 6008,\n",
       " 'green': 3224,\n",
       " 'quote': 5551,\n",
       " 'jerry': 3814,\n",
       " 'cartoon': 1654,\n",
       " 'person': 5167,\n",
       " 'who': 7477,\n",
       " 'irritates': 3735,\n",
       " 'loves': 4237,\n",
       " 'vry': 7307,\n",
       " 'fails': 2730,\n",
       " 'express': 2705,\n",
       " 'gud': 3249,\n",
       " 'nyt': 4880,\n",
       " 'years': 7667,\n",
       " 'melody': 4442,\n",
       " 'networking': 4753,\n",
       " 'technical': 6724,\n",
       " 'associate': 1086,\n",
       " 'somewhere': 6304,\n",
       " 'fredericksburg': 2961,\n",
       " 'having': 3349,\n",
       " 'fun': 3021,\n",
       " 'jess': 3816,\n",
       " 'joy': 3854,\n",
       " 'father': 2763,\n",
       " 'john': 3836,\n",
       " 'name': 4690,\n",
       " 'mandan': 4348,\n",
       " 'ring': 5786,\n",
       " 'tone': 6938,\n",
       " 'polys': 5313,\n",
       " '87131': 682,\n",
       " 'every': 2647,\n",
       " '0870737910216yrs': 82,\n",
       " 'wk': 7538,\n",
       " 'uploaded': 7169,\n",
       " 'facebook': 2720,\n",
       " 'give': 3129,\n",
       " 'flying': 2891,\n",
       " 'monkeys': 4581,\n",
       " 'wot': 7592,\n",
       " 'certainly': 1694,\n",
       " 'b4': 1163,\n",
       " 'thursday': 6863,\n",
       " 'sexychat': 6048,\n",
       " 'girls': 3126,\n",
       " 'great': 3219,\n",
       " 'chatting': 1730,\n",
       " 'wipro': 7518,\n",
       " 'interview': 3704,\n",
       " 'physics': 5206,\n",
       " 'detail': 2252,\n",
       " 'transfer': 6994,\n",
       " 'acc': 758,\n",
       " 'enough': 2587,\n",
       " '2mrw': 387,\n",
       " 'ninish': 4790,\n",
       " 'icky': 3574,\n",
       " 'american': 916,\n",
       " 'freek': 2966,\n",
       " 'callin': 1601,\n",
       " 'jen': 3808,\n",
       " 'eh': 2528,\n",
       " 'calls': 1603,\n",
       " 'treadmill': 7006,\n",
       " 'sure': 6606,\n",
       " 'working': 7578,\n",
       " 'craigslist': 2030,\n",
       " 'selling': 6005,\n",
       " 'must': 4665,\n",
       " 'catch': 1666,\n",
       " 'babes': 1171,\n",
       " 'brolly': 1510,\n",
       " 'english': 2581,\n",
       " 'wil': 7496,\n",
       " 'bring': 1498,\n",
       " 'luv': 4268,\n",
       " 'franxx': 2956,\n",
       " 'our': 5013,\n",
       " 'tonight': 6945,\n",
       " 'cancel': 1616,\n",
       " 'cheyyamo': 1757,\n",
       " 'money': 4577,\n",
       " 'saturday': 5916,\n",
       " 'tomo': 6934,\n",
       " 'smth': 6263,\n",
       " 'already': 902,\n",
       " 'sleeping': 6216,\n",
       " 'maaaan': 4292,\n",
       " 'missing': 4521,\n",
       " 'lined': 4131,\n",
       " 'us': 7191,\n",
       " 'forwarding': 2943,\n",
       " 'proof': 5472,\n",
       " 'hot': 3494,\n",
       " 'live': 4155,\n",
       " 'fantasies': 2750,\n",
       " '08707509020': 84,\n",
       " '20p': 336,\n",
       " 'ntt': 4858,\n",
       " 'ltd': 4253,\n",
       " '1327': 276,\n",
       " 'croydon': 2062,\n",
       " 'cr9': 2027,\n",
       " '5wb': 551,\n",
       " '0870': 65,\n",
       " 'had': 3277,\n",
       " 'askd': 1074,\n",
       " 'question': 5538,\n",
       " 'answer': 961,\n",
       " '11mths': 264,\n",
       " 'update': 7164,\n",
       " 'oranges': 4985,\n",
       " 'colour': 1882,\n",
       " 'camera': 1609,\n",
       " 'unlimited': 7145,\n",
       " 'weekend': 7421,\n",
       " 'upd8': 7162,\n",
       " 'freefone': 2965,\n",
       " '2stoptxt': 397,\n",
       " 'kent': 3913,\n",
       " 'vale': 7219,\n",
       " 'wait': 7331,\n",
       " 'ar': 1025,\n",
       " 'sathya': 5911,\n",
       " 'dint': 2312,\n",
       " 'single': 6177,\n",
       " 'situation': 6191,\n",
       " 'fantasy': 2752,\n",
       " 'football': 2913,\n",
       " 'tv': 7060,\n",
       " 'sky': 6207,\n",
       " 'gamestar': 3050,\n",
       " 'active': 789,\n",
       " '250k': 350,\n",
       " 'dream': 2426,\n",
       " 'team': 6717,\n",
       " 'scoring': 5948,\n",
       " 'starts': 6438,\n",
       " 'register': 5675,\n",
       " 'opt': 4977,\n",
       " '88088': 690,\n",
       " 'once': 4945,\n",
       " 'fishrman': 2850,\n",
       " 'woke': 7552,\n",
       " 'mrng': 4623,\n",
       " 'dark': 2138,\n",
       " 'waited': 7332,\n",
       " 'amp': 927,\n",
       " 'sack': 5867,\n",
       " 'ful': 3016,\n",
       " 'stones': 6479,\n",
       " 'strtd': 6515,\n",
       " 'throwin': 6853,\n",
       " 'thm': 6832,\n",
       " 'in2': 3631,\n",
       " 'sea': 5967,\n",
       " 'pass': 5105,\n",
       " 'atlast': 1101,\n",
       " 'jus': 3872,\n",
       " '1stone': 320,\n",
       " 'sun': 6580,\n",
       " 'tht': 6859,\n",
       " 'nt': 4856,\n",
       " 'diamonds': 2277,\n",
       " 'moral': 4591,\n",
       " 'nah': 4684,\n",
       " 'im': 3604,\n",
       " 'goin': 3158,\n",
       " 'wrks': 7611,\n",
       " 'bout': 1438,\n",
       " 'little': 4154,\n",
       " 'pocy': 5295,\n",
       " 'bell': 1300,\n",
       " 'enjoy': 2582,\n",
       " 'castor': 1663,\n",
       " 'email': 2549,\n",
       " 'times': 6877,\n",
       " 'definitely': 2200,\n",
       " 'module': 4564,\n",
       " 'humanities': 3534,\n",
       " 'dis': 2321,\n",
       " 'sem': 6007,\n",
       " 'izzit': 3769,\n",
       " 'modules': 4565,\n",
       " '1st': 317,\n",
       " 'dom': 2388,\n",
       " 'roger': 5812,\n",
       " 'touch': 6973,\n",
       " 'morning': 4596,\n",
       " 'feeling': 2782,\n",
       " 'cal': 1584,\n",
       " 'drpd': 2445,\n",
       " 'deeraj': 2195,\n",
       " 'deepak': 2192,\n",
       " '5min': 546,\n",
       " 'hold': 3454,\n",
       " 'hour': 3498,\n",
       " 'doesn': 2369,\n",
       " 'believe': 1298,\n",
       " 'serious': 6028,\n",
       " 'completely': 1918,\n",
       " 'form': 2933,\n",
       " 'clark': 1811,\n",
       " 'utter': 7209,\n",
       " 'waste': 7373,\n",
       " 'guy': 3265,\n",
       " 'breathing': 1485,\n",
       " ...}"
      ]
     },
     "execution_count": 19,
     "metadata": {},
     "output_type": "execute_result"
    }
   ],
   "source": [
    "v.vocabulary_"
   ]
  },
  {
   "cell_type": "code",
   "execution_count": 20,
   "id": "677f21d3",
   "metadata": {
    "execution": {
     "iopub.execute_input": "2023-08-15T12:28:07.743033Z",
     "iopub.status.busy": "2023-08-15T12:28:07.742633Z",
     "iopub.status.idle": "2023-08-15T12:28:07.861612Z",
     "shell.execute_reply": "2023-08-15T12:28:07.860318Z"
    },
    "papermill": {
     "duration": 0.138336,
     "end_time": "2023-08-15T12:28:07.864437",
     "exception": false,
     "start_time": "2023-08-15T12:28:07.726101",
     "status": "completed"
    },
    "tags": []
   },
   "outputs": [
    {
     "data": {
      "text/plain": [
       "array([0, 0, 0, ..., 0, 0, 0])"
      ]
     },
     "execution_count": 20,
     "metadata": {},
     "output_type": "execute_result"
    }
   ],
   "source": [
    "X_train_np = X_train_cv.toarray()\n",
    "X_train_np[0]"
   ]
  },
  {
   "cell_type": "code",
   "execution_count": 21,
   "id": "b2d6b1f9",
   "metadata": {
    "execution": {
     "iopub.execute_input": "2023-08-15T12:28:07.896422Z",
     "iopub.status.busy": "2023-08-15T12:28:07.895979Z",
     "iopub.status.idle": "2023-08-15T12:28:07.904441Z",
     "shell.execute_reply": "2023-08-15T12:28:07.903166Z"
    },
    "papermill": {
     "duration": 0.0277,
     "end_time": "2023-08-15T12:28:07.907468",
     "exception": false,
     "start_time": "2023-08-15T12:28:07.879768",
     "status": "completed"
    },
    "tags": []
   },
   "outputs": [
    {
     "data": {
      "text/plain": [
       "(array([4799, 4923, 5440]),)"
      ]
     },
     "execution_count": 21,
     "metadata": {},
     "output_type": "execute_result"
    }
   ],
   "source": [
    "np.where(X_train_np[0]!=0)"
   ]
  },
  {
   "cell_type": "code",
   "execution_count": 22,
   "id": "d44465b0",
   "metadata": {
    "execution": {
     "iopub.execute_input": "2023-08-15T12:28:07.941418Z",
     "iopub.status.busy": "2023-08-15T12:28:07.940998Z",
     "iopub.status.idle": "2023-08-15T12:28:07.946554Z",
     "shell.execute_reply": "2023-08-15T12:28:07.945338Z"
    },
    "papermill": {
     "duration": 0.026287,
     "end_time": "2023-08-15T12:28:07.949530",
     "exception": false,
     "start_time": "2023-08-15T12:28:07.923243",
     "status": "completed"
    },
    "tags": []
   },
   "outputs": [],
   "source": [
    "#X_train[:4][1579]"
   ]
  },
  {
   "cell_type": "code",
   "execution_count": 23,
   "id": "09571281",
   "metadata": {
    "execution": {
     "iopub.execute_input": "2023-08-15T12:28:07.983867Z",
     "iopub.status.busy": "2023-08-15T12:28:07.983409Z",
     "iopub.status.idle": "2023-08-15T12:28:07.991046Z",
     "shell.execute_reply": "2023-08-15T12:28:07.989869Z"
    },
    "papermill": {
     "duration": 0.0281,
     "end_time": "2023-08-15T12:28:07.993850",
     "exception": false,
     "start_time": "2023-08-15T12:28:07.965750",
     "status": "completed"
    },
    "scrolled": true,
    "tags": []
   },
   "outputs": [
    {
     "data": {
      "text/plain": [
       "0"
      ]
     },
     "execution_count": 23,
     "metadata": {},
     "output_type": "execute_result"
    }
   ],
   "source": [
    "X_train_np[0][1771]"
   ]
  },
  {
   "cell_type": "markdown",
   "id": "a390ccbe",
   "metadata": {
    "papermill": {
     "duration": 0.015426,
     "end_time": "2023-08-15T12:28:08.025606",
     "exception": false,
     "start_time": "2023-08-15T12:28:08.010180",
     "status": "completed"
    },
    "tags": []
   },
   "source": [
    "<h3>Train the naive bayes model</h3>"
   ]
  },
  {
   "cell_type": "code",
   "execution_count": 24,
   "id": "adbc5c5b",
   "metadata": {
    "execution": {
     "iopub.execute_input": "2023-08-15T12:28:08.059760Z",
     "iopub.status.busy": "2023-08-15T12:28:08.059349Z",
     "iopub.status.idle": "2023-08-15T12:28:08.090488Z",
     "shell.execute_reply": "2023-08-15T12:28:08.089199Z"
    },
    "papermill": {
     "duration": 0.050589,
     "end_time": "2023-08-15T12:28:08.093074",
     "exception": false,
     "start_time": "2023-08-15T12:28:08.042485",
     "status": "completed"
    },
    "tags": []
   },
   "outputs": [
    {
     "data": {
      "text/html": [
       "<style>#sk-container-id-1 {color: black;background-color: white;}#sk-container-id-1 pre{padding: 0;}#sk-container-id-1 div.sk-toggleable {background-color: white;}#sk-container-id-1 label.sk-toggleable__label {cursor: pointer;display: block;width: 100%;margin-bottom: 0;padding: 0.3em;box-sizing: border-box;text-align: center;}#sk-container-id-1 label.sk-toggleable__label-arrow:before {content: \"▸\";float: left;margin-right: 0.25em;color: #696969;}#sk-container-id-1 label.sk-toggleable__label-arrow:hover:before {color: black;}#sk-container-id-1 div.sk-estimator:hover label.sk-toggleable__label-arrow:before {color: black;}#sk-container-id-1 div.sk-toggleable__content {max-height: 0;max-width: 0;overflow: hidden;text-align: left;background-color: #f0f8ff;}#sk-container-id-1 div.sk-toggleable__content pre {margin: 0.2em;color: black;border-radius: 0.25em;background-color: #f0f8ff;}#sk-container-id-1 input.sk-toggleable__control:checked~div.sk-toggleable__content {max-height: 200px;max-width: 100%;overflow: auto;}#sk-container-id-1 input.sk-toggleable__control:checked~label.sk-toggleable__label-arrow:before {content: \"▾\";}#sk-container-id-1 div.sk-estimator input.sk-toggleable__control:checked~label.sk-toggleable__label {background-color: #d4ebff;}#sk-container-id-1 div.sk-label input.sk-toggleable__control:checked~label.sk-toggleable__label {background-color: #d4ebff;}#sk-container-id-1 input.sk-hidden--visually {border: 0;clip: rect(1px 1px 1px 1px);clip: rect(1px, 1px, 1px, 1px);height: 1px;margin: -1px;overflow: hidden;padding: 0;position: absolute;width: 1px;}#sk-container-id-1 div.sk-estimator {font-family: monospace;background-color: #f0f8ff;border: 1px dotted black;border-radius: 0.25em;box-sizing: border-box;margin-bottom: 0.5em;}#sk-container-id-1 div.sk-estimator:hover {background-color: #d4ebff;}#sk-container-id-1 div.sk-parallel-item::after {content: \"\";width: 100%;border-bottom: 1px solid gray;flex-grow: 1;}#sk-container-id-1 div.sk-label:hover label.sk-toggleable__label {background-color: #d4ebff;}#sk-container-id-1 div.sk-serial::before {content: \"\";position: absolute;border-left: 1px solid gray;box-sizing: border-box;top: 0;bottom: 0;left: 50%;z-index: 0;}#sk-container-id-1 div.sk-serial {display: flex;flex-direction: column;align-items: center;background-color: white;padding-right: 0.2em;padding-left: 0.2em;position: relative;}#sk-container-id-1 div.sk-item {position: relative;z-index: 1;}#sk-container-id-1 div.sk-parallel {display: flex;align-items: stretch;justify-content: center;background-color: white;position: relative;}#sk-container-id-1 div.sk-item::before, #sk-container-id-1 div.sk-parallel-item::before {content: \"\";position: absolute;border-left: 1px solid gray;box-sizing: border-box;top: 0;bottom: 0;left: 50%;z-index: -1;}#sk-container-id-1 div.sk-parallel-item {display: flex;flex-direction: column;z-index: 1;position: relative;background-color: white;}#sk-container-id-1 div.sk-parallel-item:first-child::after {align-self: flex-end;width: 50%;}#sk-container-id-1 div.sk-parallel-item:last-child::after {align-self: flex-start;width: 50%;}#sk-container-id-1 div.sk-parallel-item:only-child::after {width: 0;}#sk-container-id-1 div.sk-dashed-wrapped {border: 1px dashed gray;margin: 0 0.4em 0.5em 0.4em;box-sizing: border-box;padding-bottom: 0.4em;background-color: white;}#sk-container-id-1 div.sk-label label {font-family: monospace;font-weight: bold;display: inline-block;line-height: 1.2em;}#sk-container-id-1 div.sk-label-container {text-align: center;}#sk-container-id-1 div.sk-container {/* jupyter's `normalize.less` sets `[hidden] { display: none; }` but bootstrap.min.css set `[hidden] { display: none !important; }` so we also need the `!important` here to be able to override the default hidden behavior on the sphinx rendered scikit-learn.org. See: https://github.com/scikit-learn/scikit-learn/issues/21755 */display: inline-block !important;position: relative;}#sk-container-id-1 div.sk-text-repr-fallback {display: none;}</style><div id=\"sk-container-id-1\" class=\"sk-top-container\"><div class=\"sk-text-repr-fallback\"><pre>MultinomialNB()</pre><b>In a Jupyter environment, please rerun this cell to show the HTML representation or trust the notebook. <br />On GitHub, the HTML representation is unable to render, please try loading this page with nbviewer.org.</b></div><div class=\"sk-container\" hidden><div class=\"sk-item\"><div class=\"sk-estimator sk-toggleable\"><input class=\"sk-toggleable__control sk-hidden--visually\" id=\"sk-estimator-id-1\" type=\"checkbox\" checked><label for=\"sk-estimator-id-1\" class=\"sk-toggleable__label sk-toggleable__label-arrow\">MultinomialNB</label><div class=\"sk-toggleable__content\"><pre>MultinomialNB()</pre></div></div></div></div></div>"
      ],
      "text/plain": [
       "MultinomialNB()"
      ]
     },
     "execution_count": 24,
     "metadata": {},
     "output_type": "execute_result"
    }
   ],
   "source": [
    "from sklearn.naive_bayes import MultinomialNB\n",
    "\n",
    "model = MultinomialNB()\n",
    "model.fit(X_train_cv, y_train)"
   ]
  },
  {
   "cell_type": "code",
   "execution_count": 25,
   "id": "bf997ec8",
   "metadata": {
    "execution": {
     "iopub.execute_input": "2023-08-15T12:28:08.128502Z",
     "iopub.status.busy": "2023-08-15T12:28:08.128092Z",
     "iopub.status.idle": "2023-08-15T12:28:08.162603Z",
     "shell.execute_reply": "2023-08-15T12:28:08.161462Z"
    },
    "papermill": {
     "duration": 0.05615,
     "end_time": "2023-08-15T12:28:08.165547",
     "exception": false,
     "start_time": "2023-08-15T12:28:08.109397",
     "status": "completed"
    },
    "tags": []
   },
   "outputs": [],
   "source": [
    "X_test_cv = v.transform(X_test)"
   ]
  },
  {
   "cell_type": "markdown",
   "id": "6adf65f4",
   "metadata": {
    "papermill": {
     "duration": 0.015181,
     "end_time": "2023-08-15T12:28:08.196474",
     "exception": false,
     "start_time": "2023-08-15T12:28:08.181293",
     "status": "completed"
    },
    "tags": []
   },
   "source": [
    "<h3>Evaluate Performance</h3>"
   ]
  },
  {
   "cell_type": "code",
   "execution_count": 26,
   "id": "5d15b2c2",
   "metadata": {
    "execution": {
     "iopub.execute_input": "2023-08-15T12:28:08.229906Z",
     "iopub.status.busy": "2023-08-15T12:28:08.229513Z",
     "iopub.status.idle": "2023-08-15T12:28:08.248720Z",
     "shell.execute_reply": "2023-08-15T12:28:08.247302Z"
    },
    "papermill": {
     "duration": 0.038659,
     "end_time": "2023-08-15T12:28:08.251420",
     "exception": false,
     "start_time": "2023-08-15T12:28:08.212761",
     "status": "completed"
    },
    "tags": []
   },
   "outputs": [
    {
     "name": "stdout",
     "output_type": "stream",
     "text": [
      "              precision    recall  f1-score   support\n",
      "\n",
      "           0       0.98      1.00      0.99       962\n",
      "           1       0.98      0.90      0.94       153\n",
      "\n",
      "    accuracy                           0.98      1115\n",
      "   macro avg       0.98      0.95      0.96      1115\n",
      "weighted avg       0.98      0.98      0.98      1115\n",
      "\n"
     ]
    }
   ],
   "source": [
    "from sklearn.metrics import classification_report\n",
    "\n",
    "y_pred = model.predict(X_test_cv)\n",
    "\n",
    "print(classification_report(y_test, y_pred))"
   ]
  },
  {
   "cell_type": "code",
   "execution_count": 27,
   "id": "bc6e18e7",
   "metadata": {
    "execution": {
     "iopub.execute_input": "2023-08-15T12:28:08.285156Z",
     "iopub.status.busy": "2023-08-15T12:28:08.284717Z",
     "iopub.status.idle": "2023-08-15T12:28:08.293811Z",
     "shell.execute_reply": "2023-08-15T12:28:08.292524Z"
    },
    "papermill": {
     "duration": 0.02895,
     "end_time": "2023-08-15T12:28:08.296424",
     "exception": false,
     "start_time": "2023-08-15T12:28:08.267474",
     "status": "completed"
    },
    "scrolled": true,
    "tags": []
   },
   "outputs": [
    {
     "data": {
      "text/plain": [
       "array([0, 1])"
      ]
     },
     "execution_count": 27,
     "metadata": {},
     "output_type": "execute_result"
    }
   ],
   "source": [
    "emails = [\n",
    "    'Hey mohan, can we get together to watch footbal game tomorrow?',\n",
    "    'Upto 20% discount on parking, exclusive offer just for you. Dont miss this reward!'\n",
    "]\n",
    "\n",
    "emails_count = v.transform(emails)\n",
    "model.predict(emails_count)"
   ]
  },
  {
   "cell_type": "markdown",
   "id": "97ddd495",
   "metadata": {
    "papermill": {
     "duration": 0.015434,
     "end_time": "2023-08-15T12:28:08.327707",
     "exception": false,
     "start_time": "2023-08-15T12:28:08.312273",
     "status": "completed"
    },
    "tags": []
   },
   "source": [
    "<h3>Train the model using sklearn pipeline and reduce number of lines of code</h3>"
   ]
  },
  {
   "cell_type": "code",
   "execution_count": 28,
   "id": "e396631e",
   "metadata": {
    "execution": {
     "iopub.execute_input": "2023-08-15T12:28:08.361547Z",
     "iopub.status.busy": "2023-08-15T12:28:08.361153Z",
     "iopub.status.idle": "2023-08-15T12:28:08.374877Z",
     "shell.execute_reply": "2023-08-15T12:28:08.373666Z"
    },
    "papermill": {
     "duration": 0.034174,
     "end_time": "2023-08-15T12:28:08.377848",
     "exception": false,
     "start_time": "2023-08-15T12:28:08.343674",
     "status": "completed"
    },
    "tags": []
   },
   "outputs": [],
   "source": [
    "from sklearn.pipeline import Pipeline\n",
    "\n",
    "clf = Pipeline([\n",
    "    ('vectorizer', CountVectorizer()),\n",
    "    ('nb', MultinomialNB())\n",
    "])"
   ]
  },
  {
   "cell_type": "code",
   "execution_count": 29,
   "id": "1dc7fa37",
   "metadata": {
    "execution": {
     "iopub.execute_input": "2023-08-15T12:28:08.412989Z",
     "iopub.status.busy": "2023-08-15T12:28:08.412467Z",
     "iopub.status.idle": "2023-08-15T12:28:08.553700Z",
     "shell.execute_reply": "2023-08-15T12:28:08.552416Z"
    },
    "papermill": {
     "duration": 0.161897,
     "end_time": "2023-08-15T12:28:08.556334",
     "exception": false,
     "start_time": "2023-08-15T12:28:08.394437",
     "status": "completed"
    },
    "tags": []
   },
   "outputs": [
    {
     "data": {
      "text/html": [
       "<style>#sk-container-id-2 {color: black;background-color: white;}#sk-container-id-2 pre{padding: 0;}#sk-container-id-2 div.sk-toggleable {background-color: white;}#sk-container-id-2 label.sk-toggleable__label {cursor: pointer;display: block;width: 100%;margin-bottom: 0;padding: 0.3em;box-sizing: border-box;text-align: center;}#sk-container-id-2 label.sk-toggleable__label-arrow:before {content: \"▸\";float: left;margin-right: 0.25em;color: #696969;}#sk-container-id-2 label.sk-toggleable__label-arrow:hover:before {color: black;}#sk-container-id-2 div.sk-estimator:hover label.sk-toggleable__label-arrow:before {color: black;}#sk-container-id-2 div.sk-toggleable__content {max-height: 0;max-width: 0;overflow: hidden;text-align: left;background-color: #f0f8ff;}#sk-container-id-2 div.sk-toggleable__content pre {margin: 0.2em;color: black;border-radius: 0.25em;background-color: #f0f8ff;}#sk-container-id-2 input.sk-toggleable__control:checked~div.sk-toggleable__content {max-height: 200px;max-width: 100%;overflow: auto;}#sk-container-id-2 input.sk-toggleable__control:checked~label.sk-toggleable__label-arrow:before {content: \"▾\";}#sk-container-id-2 div.sk-estimator input.sk-toggleable__control:checked~label.sk-toggleable__label {background-color: #d4ebff;}#sk-container-id-2 div.sk-label input.sk-toggleable__control:checked~label.sk-toggleable__label {background-color: #d4ebff;}#sk-container-id-2 input.sk-hidden--visually {border: 0;clip: rect(1px 1px 1px 1px);clip: rect(1px, 1px, 1px, 1px);height: 1px;margin: -1px;overflow: hidden;padding: 0;position: absolute;width: 1px;}#sk-container-id-2 div.sk-estimator {font-family: monospace;background-color: #f0f8ff;border: 1px dotted black;border-radius: 0.25em;box-sizing: border-box;margin-bottom: 0.5em;}#sk-container-id-2 div.sk-estimator:hover {background-color: #d4ebff;}#sk-container-id-2 div.sk-parallel-item::after {content: \"\";width: 100%;border-bottom: 1px solid gray;flex-grow: 1;}#sk-container-id-2 div.sk-label:hover label.sk-toggleable__label {background-color: #d4ebff;}#sk-container-id-2 div.sk-serial::before {content: \"\";position: absolute;border-left: 1px solid gray;box-sizing: border-box;top: 0;bottom: 0;left: 50%;z-index: 0;}#sk-container-id-2 div.sk-serial {display: flex;flex-direction: column;align-items: center;background-color: white;padding-right: 0.2em;padding-left: 0.2em;position: relative;}#sk-container-id-2 div.sk-item {position: relative;z-index: 1;}#sk-container-id-2 div.sk-parallel {display: flex;align-items: stretch;justify-content: center;background-color: white;position: relative;}#sk-container-id-2 div.sk-item::before, #sk-container-id-2 div.sk-parallel-item::before {content: \"\";position: absolute;border-left: 1px solid gray;box-sizing: border-box;top: 0;bottom: 0;left: 50%;z-index: -1;}#sk-container-id-2 div.sk-parallel-item {display: flex;flex-direction: column;z-index: 1;position: relative;background-color: white;}#sk-container-id-2 div.sk-parallel-item:first-child::after {align-self: flex-end;width: 50%;}#sk-container-id-2 div.sk-parallel-item:last-child::after {align-self: flex-start;width: 50%;}#sk-container-id-2 div.sk-parallel-item:only-child::after {width: 0;}#sk-container-id-2 div.sk-dashed-wrapped {border: 1px dashed gray;margin: 0 0.4em 0.5em 0.4em;box-sizing: border-box;padding-bottom: 0.4em;background-color: white;}#sk-container-id-2 div.sk-label label {font-family: monospace;font-weight: bold;display: inline-block;line-height: 1.2em;}#sk-container-id-2 div.sk-label-container {text-align: center;}#sk-container-id-2 div.sk-container {/* jupyter's `normalize.less` sets `[hidden] { display: none; }` but bootstrap.min.css set `[hidden] { display: none !important; }` so we also need the `!important` here to be able to override the default hidden behavior on the sphinx rendered scikit-learn.org. See: https://github.com/scikit-learn/scikit-learn/issues/21755 */display: inline-block !important;position: relative;}#sk-container-id-2 div.sk-text-repr-fallback {display: none;}</style><div id=\"sk-container-id-2\" class=\"sk-top-container\"><div class=\"sk-text-repr-fallback\"><pre>Pipeline(steps=[(&#x27;vectorizer&#x27;, CountVectorizer()), (&#x27;nb&#x27;, MultinomialNB())])</pre><b>In a Jupyter environment, please rerun this cell to show the HTML representation or trust the notebook. <br />On GitHub, the HTML representation is unable to render, please try loading this page with nbviewer.org.</b></div><div class=\"sk-container\" hidden><div class=\"sk-item sk-dashed-wrapped\"><div class=\"sk-label-container\"><div class=\"sk-label sk-toggleable\"><input class=\"sk-toggleable__control sk-hidden--visually\" id=\"sk-estimator-id-2\" type=\"checkbox\" ><label for=\"sk-estimator-id-2\" class=\"sk-toggleable__label sk-toggleable__label-arrow\">Pipeline</label><div class=\"sk-toggleable__content\"><pre>Pipeline(steps=[(&#x27;vectorizer&#x27;, CountVectorizer()), (&#x27;nb&#x27;, MultinomialNB())])</pre></div></div></div><div class=\"sk-serial\"><div class=\"sk-item\"><div class=\"sk-estimator sk-toggleable\"><input class=\"sk-toggleable__control sk-hidden--visually\" id=\"sk-estimator-id-3\" type=\"checkbox\" ><label for=\"sk-estimator-id-3\" class=\"sk-toggleable__label sk-toggleable__label-arrow\">CountVectorizer</label><div class=\"sk-toggleable__content\"><pre>CountVectorizer()</pre></div></div></div><div class=\"sk-item\"><div class=\"sk-estimator sk-toggleable\"><input class=\"sk-toggleable__control sk-hidden--visually\" id=\"sk-estimator-id-4\" type=\"checkbox\" ><label for=\"sk-estimator-id-4\" class=\"sk-toggleable__label sk-toggleable__label-arrow\">MultinomialNB</label><div class=\"sk-toggleable__content\"><pre>MultinomialNB()</pre></div></div></div></div></div></div></div>"
      ],
      "text/plain": [
       "Pipeline(steps=[('vectorizer', CountVectorizer()), ('nb', MultinomialNB())])"
      ]
     },
     "execution_count": 29,
     "metadata": {},
     "output_type": "execute_result"
    }
   ],
   "source": [
    "clf.fit(X_train, y_train)"
   ]
  },
  {
   "cell_type": "code",
   "execution_count": 30,
   "id": "b8156f66",
   "metadata": {
    "execution": {
     "iopub.execute_input": "2023-08-15T12:28:08.591364Z",
     "iopub.status.busy": "2023-08-15T12:28:08.590936Z",
     "iopub.status.idle": "2023-08-15T12:28:08.636049Z",
     "shell.execute_reply": "2023-08-15T12:28:08.634467Z"
    },
    "papermill": {
     "duration": 0.065226,
     "end_time": "2023-08-15T12:28:08.638936",
     "exception": false,
     "start_time": "2023-08-15T12:28:08.573710",
     "status": "completed"
    },
    "tags": []
   },
   "outputs": [
    {
     "name": "stdout",
     "output_type": "stream",
     "text": [
      "              precision    recall  f1-score   support\n",
      "\n",
      "           0       0.98      1.00      0.99       962\n",
      "           1       0.98      0.90      0.94       153\n",
      "\n",
      "    accuracy                           0.98      1115\n",
      "   macro avg       0.98      0.95      0.96      1115\n",
      "weighted avg       0.98      0.98      0.98      1115\n",
      "\n"
     ]
    }
   ],
   "source": [
    "y_pred = clf.predict(X_test)\n",
    "\n",
    "print(classification_report(y_test, y_pred))"
   ]
  }
 ],
 "metadata": {
  "kernelspec": {
   "display_name": "Python 3",
   "language": "python",
   "name": "python3"
  },
  "language_info": {
   "codemirror_mode": {
    "name": "ipython",
    "version": 3
   },
   "file_extension": ".py",
   "mimetype": "text/x-python",
   "name": "python",
   "nbconvert_exporter": "python",
   "pygments_lexer": "ipython3",
   "version": "3.10.12"
  },
  "papermill": {
   "default_parameters": {},
   "duration": 17.432307,
   "end_time": "2023-08-15T12:28:09.679134",
   "environment_variables": {},
   "exception": null,
   "input_path": "__notebook__.ipynb",
   "output_path": "__notebook__.ipynb",
   "parameters": {},
   "start_time": "2023-08-15T12:27:52.246827",
   "version": "2.4.0"
  }
 },
 "nbformat": 4,
 "nbformat_minor": 5
}
