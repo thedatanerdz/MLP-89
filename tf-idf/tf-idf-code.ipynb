{
 "cells": [
  {
   "cell_type": "markdown",
   "id": "d305f5df",
   "metadata": {
    "papermill": {
     "duration": 0.010331,
     "end_time": "2023-08-15T15:48:13.523254",
     "exception": false,
     "start_time": "2023-08-15T15:48:13.512923",
     "status": "completed"
    },
    "tags": []
   },
   "source": [
    "<h2 align='center'>NLP Tutorial - Text Representation: TF-IDF</h2>"
   ]
  },
  {
   "cell_type": "markdown",
   "id": "345f48ce",
   "metadata": {
    "papermill": {
     "duration": 0.008081,
     "end_time": "2023-08-15T15:48:13.540825",
     "exception": false,
     "start_time": "2023-08-15T15:48:13.532744",
     "status": "completed"
    },
    "tags": []
   },
   "source": [
    "### What is TF-IDF?\n",
    "\n",
    "- TF stands for **Term Frequency** and denotes the ratio of  number of times a particular word appeared in a Document to total number of words in the document.\n",
    "          \n",
    "         Term Frequency(TF) = [number of times word appeared / total no of words in a document]\n",
    " \n",
    "- Term Frequency values ranges between 0 and 1. If a word occurs more number of times, then it's value will be close to 1.\n",
    "\n",
    "\n",
    "- IDF stands for **Inverse Document Frequency** and denotes the log of ratio of total number of documents/datapoints in the whole dataset to the number of documents that contains the particular word.\n",
    "\n",
    "         Inverse Document Frequency(IDF) = [log(Total number of documents / number of documents that contains the word)]\n",
    "        \n",
    "- In IDF, if a word occured in more number of documents and is common across all documents, then it's value will be less and ratio will approaches to 0. \n",
    "\n",
    "\n",
    "- Finally:\n",
    "         \n",
    "         TF-IDF = Term Frequency(TF) * Inverse Document Frequency(IDF)"
   ]
  },
  {
   "cell_type": "markdown",
   "id": "bf8ae403",
   "metadata": {
    "papermill": {
     "duration": 0.00914,
     "end_time": "2023-08-15T15:48:13.558899",
     "exception": false,
     "start_time": "2023-08-15T15:48:13.549759",
     "status": "completed"
    },
    "tags": []
   },
   "source": [
    "- **Let's see a Sample Demo**"
   ]
  },
  {
   "cell_type": "code",
   "execution_count": 1,
   "id": "38f4bd53",
   "metadata": {
    "execution": {
     "iopub.execute_input": "2023-08-15T15:48:13.577890Z",
     "iopub.status.busy": "2023-08-15T15:48:13.577362Z",
     "iopub.status.idle": "2023-08-15T15:48:14.772388Z",
     "shell.execute_reply": "2023-08-15T15:48:14.771490Z"
    },
    "papermill": {
     "duration": 1.207612,
     "end_time": "2023-08-15T15:48:14.774967",
     "exception": false,
     "start_time": "2023-08-15T15:48:13.567355",
     "status": "completed"
    },
    "tags": []
   },
   "outputs": [
    {
     "name": "stderr",
     "output_type": "stream",
     "text": [
      "/opt/conda/lib/python3.10/site-packages/scipy/__init__.py:146: UserWarning: A NumPy version >=1.16.5 and <1.23.0 is required for this version of SciPy (detected version 1.23.5\n",
      "  warnings.warn(f\"A NumPy version >={np_minversion} and <{np_maxversion}\"\n"
     ]
    }
   ],
   "source": [
    "from sklearn.feature_extraction.text import TfidfVectorizer\n",
    "\n",
    "corpus = [\n",
    "    \"Thor eating pizza, Loki is eating pizza, Ironman ate pizza already\",\n",
    "    \"Apple is announcing new iphone tomorrow\",\n",
    "    \"Tesla is announcing new model-3 tomorrow\",\n",
    "    \"Google is announcing new pixel-6 tomorrow\",\n",
    "    \"Microsoft is announcing new surface tomorrow\",\n",
    "    \"Amazon is announcing new eco-dot tomorrow\",\n",
    "    \"I am eating biryani and you are eating grapes\"\n",
    "]"
   ]
  },
  {
   "cell_type": "code",
   "execution_count": 2,
   "id": "cf4acfe4",
   "metadata": {
    "execution": {
     "iopub.execute_input": "2023-08-15T15:48:14.796658Z",
     "iopub.status.busy": "2023-08-15T15:48:14.795571Z",
     "iopub.status.idle": "2023-08-15T15:48:14.826086Z",
     "shell.execute_reply": "2023-08-15T15:48:14.824851Z"
    },
    "papermill": {
     "duration": 0.043978,
     "end_time": "2023-08-15T15:48:14.829209",
     "exception": false,
     "start_time": "2023-08-15T15:48:14.785231",
     "status": "completed"
    },
    "tags": []
   },
   "outputs": [],
   "source": [
    "#let's create the vectorizer and fit the corpus and transform them accordingly\n",
    "v = TfidfVectorizer()\n",
    "v.fit(corpus)\n",
    "transform_output = v.transform(corpus)"
   ]
  },
  {
   "cell_type": "code",
   "execution_count": 3,
   "id": "c5c39fdc",
   "metadata": {
    "execution": {
     "iopub.execute_input": "2023-08-15T15:48:14.849515Z",
     "iopub.status.busy": "2023-08-15T15:48:14.849127Z",
     "iopub.status.idle": "2023-08-15T15:48:14.856048Z",
     "shell.execute_reply": "2023-08-15T15:48:14.854072Z"
    },
    "papermill": {
     "duration": 0.019005,
     "end_time": "2023-08-15T15:48:14.858363",
     "exception": false,
     "start_time": "2023-08-15T15:48:14.839358",
     "status": "completed"
    },
    "tags": []
   },
   "outputs": [
    {
     "name": "stdout",
     "output_type": "stream",
     "text": [
      "{'thor': 25, 'eating': 10, 'pizza': 22, 'loki': 17, 'is': 16, 'ironman': 15, 'ate': 7, 'already': 0, 'apple': 5, 'announcing': 4, 'new': 20, 'iphone': 14, 'tomorrow': 26, 'tesla': 24, 'model': 19, 'google': 12, 'pixel': 21, 'microsoft': 18, 'surface': 23, 'amazon': 2, 'eco': 11, 'dot': 9, 'am': 1, 'biryani': 8, 'and': 3, 'you': 27, 'are': 6, 'grapes': 13}\n"
     ]
    }
   ],
   "source": [
    "#let's print the vocabulary\n",
    "\n",
    "print(v.vocabulary_)"
   ]
  },
  {
   "cell_type": "code",
   "execution_count": 4,
   "id": "fd6df5f8",
   "metadata": {
    "execution": {
     "iopub.execute_input": "2023-08-15T15:48:14.878098Z",
     "iopub.status.busy": "2023-08-15T15:48:14.877648Z",
     "iopub.status.idle": "2023-08-15T15:48:14.888110Z",
     "shell.execute_reply": "2023-08-15T15:48:14.886930Z"
    },
    "papermill": {
     "duration": 0.023837,
     "end_time": "2023-08-15T15:48:14.891063",
     "exception": false,
     "start_time": "2023-08-15T15:48:14.867226",
     "status": "completed"
    },
    "tags": []
   },
   "outputs": [
    {
     "name": "stdout",
     "output_type": "stream",
     "text": [
      "already : 2.386294361119891\n",
      "am : 2.386294361119891\n",
      "amazon : 2.386294361119891\n",
      "and : 2.386294361119891\n",
      "announcing : 1.2876820724517808\n",
      "apple : 2.386294361119891\n",
      "are : 2.386294361119891\n",
      "ate : 2.386294361119891\n",
      "biryani : 2.386294361119891\n",
      "dot : 2.386294361119891\n",
      "eating : 1.9808292530117262\n",
      "eco : 2.386294361119891\n",
      "google : 2.386294361119891\n",
      "grapes : 2.386294361119891\n",
      "iphone : 2.386294361119891\n",
      "ironman : 2.386294361119891\n",
      "is : 1.1335313926245225\n",
      "loki : 2.386294361119891\n",
      "microsoft : 2.386294361119891\n",
      "model : 2.386294361119891\n",
      "new : 1.2876820724517808\n",
      "pixel : 2.386294361119891\n",
      "pizza : 2.386294361119891\n",
      "surface : 2.386294361119891\n",
      "tesla : 2.386294361119891\n",
      "thor : 2.386294361119891\n",
      "tomorrow : 1.2876820724517808\n",
      "you : 2.386294361119891\n"
     ]
    }
   ],
   "source": [
    "#let's print the idf of each word:\n",
    "\n",
    "all_feature_names = v.get_feature_names_out()\n",
    "\n",
    "for word in all_feature_names:\n",
    "    \n",
    "    #let's get the index in the vocabulary\n",
    "    indx = v.vocabulary_.get(word)\n",
    "    \n",
    "    #get the score\n",
    "    idf_score = v.idf_[indx]\n",
    "    \n",
    "    print(f\"{word} : {idf_score}\")"
   ]
  },
  {
   "cell_type": "code",
   "execution_count": 5,
   "id": "47225736",
   "metadata": {
    "execution": {
     "iopub.execute_input": "2023-08-15T15:48:14.911687Z",
     "iopub.status.busy": "2023-08-15T15:48:14.910912Z",
     "iopub.status.idle": "2023-08-15T15:48:14.920787Z",
     "shell.execute_reply": "2023-08-15T15:48:14.919571Z"
    },
    "papermill": {
     "duration": 0.02309,
     "end_time": "2023-08-15T15:48:14.923157",
     "exception": false,
     "start_time": "2023-08-15T15:48:14.900067",
     "status": "completed"
    },
    "tags": []
   },
   "outputs": [
    {
     "name": "stdout",
     "output_type": "stream",
     "text": [
      "[[0.24266547 0.         0.         0.         0.         0.\n",
      "  0.         0.24266547 0.         0.         0.40286636 0.\n",
      "  0.         0.         0.         0.24266547 0.11527033 0.24266547\n",
      "  0.         0.         0.         0.         0.72799642 0.\n",
      "  0.         0.24266547 0.         0.        ]\n",
      " [0.         0.         0.         0.         0.30652086 0.5680354\n",
      "  0.         0.         0.         0.         0.         0.\n",
      "  0.         0.         0.5680354  0.         0.26982671 0.\n",
      "  0.         0.         0.30652086 0.         0.         0.\n",
      "  0.         0.         0.30652086 0.        ]\n",
      " [0.         0.         0.         0.         0.30652086 0.\n",
      "  0.         0.         0.         0.         0.         0.\n",
      "  0.         0.         0.         0.         0.26982671 0.\n",
      "  0.         0.5680354  0.30652086 0.         0.         0.\n",
      "  0.5680354  0.         0.30652086 0.        ]\n",
      " [0.         0.         0.         0.         0.30652086 0.\n",
      "  0.         0.         0.         0.         0.         0.\n",
      "  0.5680354  0.         0.         0.         0.26982671 0.\n",
      "  0.         0.         0.30652086 0.5680354  0.         0.\n",
      "  0.         0.         0.30652086 0.        ]\n",
      " [0.         0.         0.         0.         0.30652086 0.\n",
      "  0.         0.         0.         0.         0.         0.\n",
      "  0.         0.         0.         0.         0.26982671 0.\n",
      "  0.5680354  0.         0.30652086 0.         0.         0.5680354\n",
      "  0.         0.         0.30652086 0.        ]\n",
      " [0.         0.         0.49391316 0.         0.26652333 0.\n",
      "  0.         0.         0.         0.49391316 0.         0.49391316\n",
      "  0.         0.         0.         0.         0.23461736 0.\n",
      "  0.         0.         0.26652333 0.         0.         0.\n",
      "  0.         0.         0.26652333 0.        ]\n",
      " [0.         0.33794257 0.         0.33794257 0.         0.\n",
      "  0.33794257 0.         0.33794257 0.         0.56104271 0.\n",
      "  0.         0.33794257 0.         0.         0.         0.\n",
      "  0.         0.         0.         0.         0.         0.\n",
      "  0.         0.         0.         0.33794257]]\n"
     ]
    }
   ],
   "source": [
    "#let's print the transformed output from tf-idf\n",
    "print(transform_output.toarray())"
   ]
  },
  {
   "cell_type": "markdown",
   "id": "a118ea7d",
   "metadata": {
    "papermill": {
     "duration": 0.008456,
     "end_time": "2023-08-15T15:48:14.941166",
     "exception": false,
     "start_time": "2023-08-15T15:48:14.932710",
     "status": "completed"
    },
    "tags": []
   },
   "source": [
    "### Problem Statement: Given a description about a product sold on e-commerce website, classify it in one of the 4 categories\n",
    "\n",
    "Dataset Credits: https://www.kaggle.com/datasets/saurabhshahane/ecommerce-text-classification\n",
    "\n",
    "\n",
    "- This data consists of two columns.\n",
    "\n",
    "| Text | Label | \n",
    "| --- | --- |\n",
    "| Indira Designer Women's Art Mysore Silk Saree With Blouse Piece (Star-Red) This Saree Is Of Art Mysore Silk & Comes With Blouse Piece. | Clothing & Accessories | \n",
    "|IO Crest SY-PCI40010 PCI RAID Host Controller Card Brings new life to any old desktop PC. Connects up to 4 SATA II high speed SATA hard disk drives. Supports Windows 8 and Server 2012|Electronics|\n",
    "|Operating Systems in Depth About the Author Professor Doeppner is an associate professor of computer science at Brown University. His research interests include mobile computing in education, mobile and ubiquitous computing, operating systems and distribution systems, parallel computing, and security.|Books|\n",
    "\n",
    "- ***Text***: Description of an item sold on e-commerce website\n",
    "- ***Label***: Category of that item. Total 4 categories: \"Electronics\", \"Household\", \"Books\" and \"Clothing & Accessories\", which almost cover 80% of any E-commerce website.\n"
   ]
  },
  {
   "cell_type": "code",
   "execution_count": 6,
   "id": "c40968b5",
   "metadata": {
    "execution": {
     "iopub.execute_input": "2023-08-15T15:48:14.960421Z",
     "iopub.status.busy": "2023-08-15T15:48:14.959531Z",
     "iopub.status.idle": "2023-08-15T15:48:15.434431Z",
     "shell.execute_reply": "2023-08-15T15:48:15.432959Z"
    },
    "papermill": {
     "duration": 0.487711,
     "end_time": "2023-08-15T15:48:15.437429",
     "exception": false,
     "start_time": "2023-08-15T15:48:14.949718",
     "status": "completed"
    },
    "tags": []
   },
   "outputs": [
    {
     "name": "stdout",
     "output_type": "stream",
     "text": [
      "(24000, 2)\n"
     ]
    },
    {
     "data": {
      "text/html": [
       "<div>\n",
       "<style scoped>\n",
       "    .dataframe tbody tr th:only-of-type {\n",
       "        vertical-align: middle;\n",
       "    }\n",
       "\n",
       "    .dataframe tbody tr th {\n",
       "        vertical-align: top;\n",
       "    }\n",
       "\n",
       "    .dataframe thead th {\n",
       "        text-align: right;\n",
       "    }\n",
       "</style>\n",
       "<table border=\"1\" class=\"dataframe\">\n",
       "  <thead>\n",
       "    <tr style=\"text-align: right;\">\n",
       "      <th></th>\n",
       "      <th>Text</th>\n",
       "      <th>label</th>\n",
       "    </tr>\n",
       "  </thead>\n",
       "  <tbody>\n",
       "    <tr>\n",
       "      <th>0</th>\n",
       "      <td>Urban Ladder Eisner Low Back Study-Office Comp...</td>\n",
       "      <td>Household</td>\n",
       "    </tr>\n",
       "    <tr>\n",
       "      <th>1</th>\n",
       "      <td>Contrast living Wooden Decorative Box,Painted ...</td>\n",
       "      <td>Household</td>\n",
       "    </tr>\n",
       "    <tr>\n",
       "      <th>2</th>\n",
       "      <td>IO Crest SY-PCI40010 PCI RAID Host Controller ...</td>\n",
       "      <td>Electronics</td>\n",
       "    </tr>\n",
       "    <tr>\n",
       "      <th>3</th>\n",
       "      <td>ISAKAA Baby Socks from Just Born to 8 Years- P...</td>\n",
       "      <td>Clothing &amp; Accessories</td>\n",
       "    </tr>\n",
       "    <tr>\n",
       "      <th>4</th>\n",
       "      <td>Indira Designer Women's Art Mysore Silk Saree ...</td>\n",
       "      <td>Clothing &amp; Accessories</td>\n",
       "    </tr>\n",
       "  </tbody>\n",
       "</table>\n",
       "</div>"
      ],
      "text/plain": [
       "                                                Text                   label\n",
       "0  Urban Ladder Eisner Low Back Study-Office Comp...               Household\n",
       "1  Contrast living Wooden Decorative Box,Painted ...               Household\n",
       "2  IO Crest SY-PCI40010 PCI RAID Host Controller ...             Electronics\n",
       "3  ISAKAA Baby Socks from Just Born to 8 Years- P...  Clothing & Accessories\n",
       "4  Indira Designer Women's Art Mysore Silk Saree ...  Clothing & Accessories"
      ]
     },
     "execution_count": 6,
     "metadata": {},
     "output_type": "execute_result"
    }
   ],
   "source": [
    "import pandas as pd\n",
    "\n",
    "#read the data into a pandas dataframe\n",
    "df = pd.read_csv(\"/kaggle/input/ecommerce-data-text-classfication/Ecommerce_data.csv\")\n",
    "print(df.shape)\n",
    "df.head(5)"
   ]
  },
  {
   "cell_type": "code",
   "execution_count": 7,
   "id": "3412e06a",
   "metadata": {
    "execution": {
     "iopub.execute_input": "2023-08-15T15:48:15.459588Z",
     "iopub.status.busy": "2023-08-15T15:48:15.459209Z",
     "iopub.status.idle": "2023-08-15T15:48:15.472786Z",
     "shell.execute_reply": "2023-08-15T15:48:15.471652Z"
    },
    "papermill": {
     "duration": 0.027427,
     "end_time": "2023-08-15T15:48:15.475116",
     "exception": false,
     "start_time": "2023-08-15T15:48:15.447689",
     "status": "completed"
    },
    "scrolled": true,
    "tags": []
   },
   "outputs": [
    {
     "data": {
      "text/plain": [
       "Household                 6000\n",
       "Electronics               6000\n",
       "Clothing & Accessories    6000\n",
       "Books                     6000\n",
       "Name: label, dtype: int64"
      ]
     },
     "execution_count": 7,
     "metadata": {},
     "output_type": "execute_result"
    }
   ],
   "source": [
    "#check the distribution of labels \n",
    "df['label'].value_counts()"
   ]
  },
  {
   "cell_type": "markdown",
   "id": "a19f45a3",
   "metadata": {
    "papermill": {
     "duration": 0.008715,
     "end_time": "2023-08-15T15:48:15.493911",
     "exception": false,
     "start_time": "2023-08-15T15:48:15.485196",
     "status": "completed"
    },
    "tags": []
   },
   "source": [
    "- From the above, we can see that almost all the labels(classes) occured equal number of times and perfectly balanced. There is no problem of class imbalance and hence no need to apply any balancing techniques like undersampling, oversampling etc."
   ]
  },
  {
   "cell_type": "code",
   "execution_count": 8,
   "id": "3ab8e542",
   "metadata": {
    "execution": {
     "iopub.execute_input": "2023-08-15T15:48:15.514032Z",
     "iopub.status.busy": "2023-08-15T15:48:15.513360Z",
     "iopub.status.idle": "2023-08-15T15:48:15.533899Z",
     "shell.execute_reply": "2023-08-15T15:48:15.532788Z"
    },
    "papermill": {
     "duration": 0.033248,
     "end_time": "2023-08-15T15:48:15.536060",
     "exception": false,
     "start_time": "2023-08-15T15:48:15.502812",
     "status": "completed"
    },
    "tags": []
   },
   "outputs": [
    {
     "data": {
      "text/html": [
       "<div>\n",
       "<style scoped>\n",
       "    .dataframe tbody tr th:only-of-type {\n",
       "        vertical-align: middle;\n",
       "    }\n",
       "\n",
       "    .dataframe tbody tr th {\n",
       "        vertical-align: top;\n",
       "    }\n",
       "\n",
       "    .dataframe thead th {\n",
       "        text-align: right;\n",
       "    }\n",
       "</style>\n",
       "<table border=\"1\" class=\"dataframe\">\n",
       "  <thead>\n",
       "    <tr style=\"text-align: right;\">\n",
       "      <th></th>\n",
       "      <th>Text</th>\n",
       "      <th>label</th>\n",
       "      <th>label_num</th>\n",
       "    </tr>\n",
       "  </thead>\n",
       "  <tbody>\n",
       "    <tr>\n",
       "      <th>0</th>\n",
       "      <td>Urban Ladder Eisner Low Back Study-Office Comp...</td>\n",
       "      <td>Household</td>\n",
       "      <td>0</td>\n",
       "    </tr>\n",
       "    <tr>\n",
       "      <th>1</th>\n",
       "      <td>Contrast living Wooden Decorative Box,Painted ...</td>\n",
       "      <td>Household</td>\n",
       "      <td>0</td>\n",
       "    </tr>\n",
       "    <tr>\n",
       "      <th>2</th>\n",
       "      <td>IO Crest SY-PCI40010 PCI RAID Host Controller ...</td>\n",
       "      <td>Electronics</td>\n",
       "      <td>2</td>\n",
       "    </tr>\n",
       "    <tr>\n",
       "      <th>3</th>\n",
       "      <td>ISAKAA Baby Socks from Just Born to 8 Years- P...</td>\n",
       "      <td>Clothing &amp; Accessories</td>\n",
       "      <td>3</td>\n",
       "    </tr>\n",
       "    <tr>\n",
       "      <th>4</th>\n",
       "      <td>Indira Designer Women's Art Mysore Silk Saree ...</td>\n",
       "      <td>Clothing &amp; Accessories</td>\n",
       "      <td>3</td>\n",
       "    </tr>\n",
       "  </tbody>\n",
       "</table>\n",
       "</div>"
      ],
      "text/plain": [
       "                                                Text                   label  \\\n",
       "0  Urban Ladder Eisner Low Back Study-Office Comp...               Household   \n",
       "1  Contrast living Wooden Decorative Box,Painted ...               Household   \n",
       "2  IO Crest SY-PCI40010 PCI RAID Host Controller ...             Electronics   \n",
       "3  ISAKAA Baby Socks from Just Born to 8 Years- P...  Clothing & Accessories   \n",
       "4  Indira Designer Women's Art Mysore Silk Saree ...  Clothing & Accessories   \n",
       "\n",
       "   label_num  \n",
       "0          0  \n",
       "1          0  \n",
       "2          2  \n",
       "3          3  \n",
       "4          3  "
      ]
     },
     "execution_count": 8,
     "metadata": {},
     "output_type": "execute_result"
    }
   ],
   "source": [
    "#Add the new column which gives a unique number to each of these labels \n",
    "\n",
    "df['label_num'] = df['label'].map({\n",
    "    'Household' : 0, \n",
    "    'Books': 1, \n",
    "    'Electronics': 2, \n",
    "    'Clothing & Accessories': 3\n",
    "})\n",
    "\n",
    "#checking the results \n",
    "df.head(5)"
   ]
  },
  {
   "cell_type": "markdown",
   "id": "73c03bbc",
   "metadata": {
    "papermill": {
     "duration": 0.008759,
     "end_time": "2023-08-15T15:48:15.553912",
     "exception": false,
     "start_time": "2023-08-15T15:48:15.545153",
     "status": "completed"
    },
    "tags": []
   },
   "source": [
    "<h3>Train test split</h3>\n",
    "\n",
    "- Build a model with original text (no pre processing)"
   ]
  },
  {
   "cell_type": "code",
   "execution_count": 9,
   "id": "0d6abf79",
   "metadata": {
    "execution": {
     "iopub.execute_input": "2023-08-15T15:48:15.574548Z",
     "iopub.status.busy": "2023-08-15T15:48:15.574151Z",
     "iopub.status.idle": "2023-08-15T15:48:15.707210Z",
     "shell.execute_reply": "2023-08-15T15:48:15.706084Z"
    },
    "papermill": {
     "duration": 0.147075,
     "end_time": "2023-08-15T15:48:15.710001",
     "exception": false,
     "start_time": "2023-08-15T15:48:15.562926",
     "status": "completed"
    },
    "tags": []
   },
   "outputs": [],
   "source": [
    "from sklearn.model_selection import train_test_split\n",
    "\n",
    "X_train, X_test, y_train, y_test = train_test_split(\n",
    "    df.Text, \n",
    "    df.label_num, \n",
    "    test_size=0.2, # 20% samples will go to test dataset\n",
    "    random_state=2022,\n",
    "    stratify=df.label_num\n",
    ")"
   ]
  },
  {
   "cell_type": "code",
   "execution_count": 10,
   "id": "d3a52656",
   "metadata": {
    "execution": {
     "iopub.execute_input": "2023-08-15T15:48:15.731992Z",
     "iopub.status.busy": "2023-08-15T15:48:15.731522Z",
     "iopub.status.idle": "2023-08-15T15:48:15.737612Z",
     "shell.execute_reply": "2023-08-15T15:48:15.736408Z"
    },
    "papermill": {
     "duration": 0.019315,
     "end_time": "2023-08-15T15:48:15.739777",
     "exception": false,
     "start_time": "2023-08-15T15:48:15.720462",
     "status": "completed"
    },
    "tags": []
   },
   "outputs": [
    {
     "name": "stdout",
     "output_type": "stream",
     "text": [
      "Shape of X_train:  (19200,)\n",
      "Shape of X_test:  (4800,)\n"
     ]
    }
   ],
   "source": [
    "print(\"Shape of X_train: \", X_train.shape)\n",
    "print(\"Shape of X_test: \", X_test.shape)"
   ]
  },
  {
   "cell_type": "code",
   "execution_count": 11,
   "id": "9e4770af",
   "metadata": {
    "execution": {
     "iopub.execute_input": "2023-08-15T15:48:15.759822Z",
     "iopub.status.busy": "2023-08-15T15:48:15.759440Z",
     "iopub.status.idle": "2023-08-15T15:48:15.767322Z",
     "shell.execute_reply": "2023-08-15T15:48:15.766195Z"
    },
    "papermill": {
     "duration": 0.020425,
     "end_time": "2023-08-15T15:48:15.769486",
     "exception": false,
     "start_time": "2023-08-15T15:48:15.749061",
     "status": "completed"
    },
    "tags": []
   },
   "outputs": [
    {
     "data": {
      "text/plain": [
       "15820    IRIS Furniture Children Deluxe Spiderman Toddl...\n",
       "23224    Godox CB-09 Hard Carrying Storage Suitcase Car...\n",
       "4638     Ugreen All in 1 USB 3.0 Card Reader USB Memory...\n",
       "15245    Spread Spain Metallic Gold Bar Trolley/Kitchen...\n",
       "5378     Chromozome Men's Calf Socks (Pack of 3) (SX-3 ...\n",
       "Name: Text, dtype: object"
      ]
     },
     "execution_count": 11,
     "metadata": {},
     "output_type": "execute_result"
    }
   ],
   "source": [
    "X_train.head()"
   ]
  },
  {
   "cell_type": "code",
   "execution_count": 12,
   "id": "bbbc8297",
   "metadata": {
    "execution": {
     "iopub.execute_input": "2023-08-15T15:48:15.791320Z",
     "iopub.status.busy": "2023-08-15T15:48:15.790933Z",
     "iopub.status.idle": "2023-08-15T15:48:15.799528Z",
     "shell.execute_reply": "2023-08-15T15:48:15.798431Z"
    },
    "papermill": {
     "duration": 0.02277,
     "end_time": "2023-08-15T15:48:15.802017",
     "exception": false,
     "start_time": "2023-08-15T15:48:15.779247",
     "status": "completed"
    },
    "tags": []
   },
   "outputs": [
    {
     "data": {
      "text/plain": [
       "0    4800\n",
       "2    4800\n",
       "3    4800\n",
       "1    4800\n",
       "Name: label_num, dtype: int64"
      ]
     },
     "execution_count": 12,
     "metadata": {},
     "output_type": "execute_result"
    }
   ],
   "source": [
    "y_train.value_counts()"
   ]
  },
  {
   "cell_type": "code",
   "execution_count": 13,
   "id": "a389c99c",
   "metadata": {
    "execution": {
     "iopub.execute_input": "2023-08-15T15:48:15.823628Z",
     "iopub.status.busy": "2023-08-15T15:48:15.823219Z",
     "iopub.status.idle": "2023-08-15T15:48:15.831105Z",
     "shell.execute_reply": "2023-08-15T15:48:15.830299Z"
    },
    "papermill": {
     "duration": 0.021324,
     "end_time": "2023-08-15T15:48:15.833106",
     "exception": false,
     "start_time": "2023-08-15T15:48:15.811782",
     "status": "completed"
    },
    "tags": []
   },
   "outputs": [
    {
     "data": {
      "text/plain": [
       "0    1200\n",
       "2    1200\n",
       "3    1200\n",
       "1    1200\n",
       "Name: label_num, dtype: int64"
      ]
     },
     "execution_count": 13,
     "metadata": {},
     "output_type": "execute_result"
    }
   ],
   "source": [
    "y_test.value_counts()"
   ]
  },
  {
   "cell_type": "markdown",
   "id": "0e4974bd",
   "metadata": {
    "papermill": {
     "duration": 0.009143,
     "end_time": "2023-08-15T15:48:15.852243",
     "exception": false,
     "start_time": "2023-08-15T15:48:15.843100",
     "status": "completed"
    },
    "tags": []
   },
   "source": [
    "**Attempt 1** :\n",
    "\n",
    "1. using sklearn pipeline module create a classification pipeline to classify the Ecommerce Data.\n",
    "\n",
    "**Note:**\n",
    "- use TF-IDF for pre-processing the text.\n",
    "\n",
    "- use **KNN** as the classifier \n",
    "- print the classification report."
   ]
  },
  {
   "cell_type": "code",
   "execution_count": 14,
   "id": "5d6783f0",
   "metadata": {
    "execution": {
     "iopub.execute_input": "2023-08-15T15:48:15.874139Z",
     "iopub.status.busy": "2023-08-15T15:48:15.873726Z",
     "iopub.status.idle": "2023-08-15T15:51:34.064008Z",
     "shell.execute_reply": "2023-08-15T15:51:34.062843Z"
    },
    "papermill": {
     "duration": 198.212888,
     "end_time": "2023-08-15T15:51:34.075369",
     "exception": false,
     "start_time": "2023-08-15T15:48:15.862481",
     "status": "completed"
    },
    "tags": []
   },
   "outputs": [
    {
     "name": "stdout",
     "output_type": "stream",
     "text": [
      "              precision    recall  f1-score   support\n",
      "\n",
      "           0       0.95      0.96      0.95      1200\n",
      "           1       0.97      0.95      0.96      1200\n",
      "           2       0.97      0.97      0.97      1200\n",
      "           3       0.97      0.98      0.97      1200\n",
      "\n",
      "    accuracy                           0.96      4800\n",
      "   macro avg       0.96      0.96      0.96      4800\n",
      "weighted avg       0.96      0.96      0.96      4800\n",
      "\n"
     ]
    }
   ],
   "source": [
    "from sklearn.neighbors import KNeighborsClassifier\n",
    "from sklearn.pipeline import Pipeline\n",
    "from sklearn.metrics import classification_report\n",
    "\n",
    "#1. create a pipeline object\n",
    "clf = Pipeline([\n",
    "     ('vectorizer_tfidf',TfidfVectorizer()),    \n",
    "     ('KNN', KNeighborsClassifier())         \n",
    "])\n",
    "\n",
    "#2. fit with X_train and y_train\n",
    "clf.fit(X_train, y_train)\n",
    "\n",
    "\n",
    "#3. get the predictions for X_test and store it in y_pred\n",
    "y_pred = clf.predict(X_test)\n",
    "\n",
    "\n",
    "#4. print the classfication report\n",
    "print(classification_report(y_test, y_pred))"
   ]
  },
  {
   "cell_type": "code",
   "execution_count": 15,
   "id": "403e74a9",
   "metadata": {
    "execution": {
     "iopub.execute_input": "2023-08-15T15:51:34.095757Z",
     "iopub.status.busy": "2023-08-15T15:51:34.095399Z",
     "iopub.status.idle": "2023-08-15T15:51:34.103366Z",
     "shell.execute_reply": "2023-08-15T15:51:34.102032Z"
    },
    "papermill": {
     "duration": 0.020965,
     "end_time": "2023-08-15T15:51:34.105714",
     "exception": false,
     "start_time": "2023-08-15T15:51:34.084749",
     "status": "completed"
    },
    "scrolled": true,
    "tags": []
   },
   "outputs": [
    {
     "data": {
      "text/plain": [
       "20706    Lal Haveli Designer Handmade Patchwork Decorat...\n",
       "19166    GOTOTOP Classical Retro Cotton & PU Leather Ne...\n",
       "15209    FabSeasons Camouflage Polyester Multi Function...\n",
       "2462     Indian Superfoods: Change the Way You Eat Revi...\n",
       "6621     Milton Marvel Insulated Steel Casseroles, Juni...\n",
       "Name: Text, dtype: object"
      ]
     },
     "execution_count": 15,
     "metadata": {},
     "output_type": "execute_result"
    }
   ],
   "source": [
    "X_test[:5]"
   ]
  },
  {
   "cell_type": "code",
   "execution_count": 16,
   "id": "ce76c1b8",
   "metadata": {
    "execution": {
     "iopub.execute_input": "2023-08-15T15:51:34.127109Z",
     "iopub.status.busy": "2023-08-15T15:51:34.126537Z",
     "iopub.status.idle": "2023-08-15T15:51:34.135103Z",
     "shell.execute_reply": "2023-08-15T15:51:34.133654Z"
    },
    "papermill": {
     "duration": 0.021747,
     "end_time": "2023-08-15T15:51:34.137300",
     "exception": false,
     "start_time": "2023-08-15T15:51:34.115553",
     "status": "completed"
    },
    "tags": []
   },
   "outputs": [
    {
     "data": {
      "text/plain": [
       "20706    0\n",
       "19166    2\n",
       "15209    3\n",
       "2462     1\n",
       "6621     3\n",
       "Name: label_num, dtype: int64"
      ]
     },
     "execution_count": 16,
     "metadata": {},
     "output_type": "execute_result"
    }
   ],
   "source": [
    "y_test[:5]"
   ]
  },
  {
   "cell_type": "code",
   "execution_count": 17,
   "id": "ae5e5cb3",
   "metadata": {
    "execution": {
     "iopub.execute_input": "2023-08-15T15:51:34.158249Z",
     "iopub.status.busy": "2023-08-15T15:51:34.157845Z",
     "iopub.status.idle": "2023-08-15T15:51:34.164852Z",
     "shell.execute_reply": "2023-08-15T15:51:34.163777Z"
    },
    "papermill": {
     "duration": 0.020232,
     "end_time": "2023-08-15T15:51:34.167307",
     "exception": false,
     "start_time": "2023-08-15T15:51:34.147075",
     "status": "completed"
    },
    "tags": []
   },
   "outputs": [
    {
     "data": {
      "text/plain": [
       "array([0, 2, 3, 1, 0])"
      ]
     },
     "execution_count": 17,
     "metadata": {},
     "output_type": "execute_result"
    }
   ],
   "source": [
    "y_pred[:5]"
   ]
  },
  {
   "cell_type": "markdown",
   "id": "f66d4c66",
   "metadata": {
    "papermill": {
     "duration": 0.009391,
     "end_time": "2023-08-15T15:51:34.186593",
     "exception": false,
     "start_time": "2023-08-15T15:51:34.177202",
     "status": "completed"
    },
    "tags": []
   },
   "source": [
    "**Attempt 2** :\n",
    "\n",
    "1. using sklearn pipeline module create a classification pipeline to classify the Ecommerce Data.\n",
    "\n",
    "**Note:**\n",
    "- use TF-IDF for pre-processing the text.\n",
    "\n",
    "- use **MultinomialNB** as the classifier.\n",
    "- print the classification report.\n"
   ]
  },
  {
   "cell_type": "code",
   "execution_count": 18,
   "id": "2faab972",
   "metadata": {
    "execution": {
     "iopub.execute_input": "2023-08-15T15:51:34.209040Z",
     "iopub.status.busy": "2023-08-15T15:51:34.208488Z",
     "iopub.status.idle": "2023-08-15T15:51:36.781133Z",
     "shell.execute_reply": "2023-08-15T15:51:36.779620Z"
    },
    "papermill": {
     "duration": 2.586952,
     "end_time": "2023-08-15T15:51:36.783387",
     "exception": false,
     "start_time": "2023-08-15T15:51:34.196435",
     "status": "completed"
    },
    "tags": []
   },
   "outputs": [
    {
     "name": "stdout",
     "output_type": "stream",
     "text": [
      "              precision    recall  f1-score   support\n",
      "\n",
      "           0       0.92      0.96      0.94      1200\n",
      "           1       0.98      0.92      0.95      1200\n",
      "           2       0.97      0.97      0.97      1200\n",
      "           3       0.97      0.99      0.98      1200\n",
      "\n",
      "    accuracy                           0.96      4800\n",
      "   macro avg       0.96      0.96      0.96      4800\n",
      "weighted avg       0.96      0.96      0.96      4800\n",
      "\n"
     ]
    }
   ],
   "source": [
    "from sklearn.naive_bayes import MultinomialNB\n",
    "\n",
    "\n",
    "#1. create a pipeline object\n",
    "clf = Pipeline([\n",
    "     ('vectorizer_tfidf',TfidfVectorizer()),    \n",
    "     ('Multi NB', MultinomialNB())         \n",
    "])\n",
    "\n",
    "#2. fit with X_train and y_train\n",
    "clf.fit(X_train, y_train)\n",
    "\n",
    "\n",
    "#3. get the predictions for X_test and store it in y_pred\n",
    "y_pred = clf.predict(X_test)\n",
    "\n",
    "\n",
    "#4. print the classfication report\n",
    "print(classification_report(y_test, y_pred))"
   ]
  },
  {
   "cell_type": "markdown",
   "id": "44191f12",
   "metadata": {
    "papermill": {
     "duration": 0.009501,
     "end_time": "2023-08-15T15:51:36.803097",
     "exception": false,
     "start_time": "2023-08-15T15:51:36.793596",
     "status": "completed"
    },
    "tags": []
   },
   "source": [
    "**Attempt 3** :\n",
    "\n",
    "1. using sklearn pipeline module create a classification pipeline to classify the Ecommerce Data.\n",
    "\n",
    "**Note:**\n",
    "- use TF-IDF for pre-processing the text.\n",
    "\n",
    "- use **Random Forest** as the classifier.\n",
    "- print the classification report.\n"
   ]
  },
  {
   "cell_type": "code",
   "execution_count": 19,
   "id": "55f673d1",
   "metadata": {
    "execution": {
     "iopub.execute_input": "2023-08-15T15:51:36.824442Z",
     "iopub.status.busy": "2023-08-15T15:51:36.824074Z",
     "iopub.status.idle": "2023-08-15T15:52:15.153222Z",
     "shell.execute_reply": "2023-08-15T15:52:15.152084Z"
    },
    "papermill": {
     "duration": 38.354523,
     "end_time": "2023-08-15T15:52:15.167550",
     "exception": false,
     "start_time": "2023-08-15T15:51:36.813027",
     "status": "completed"
    },
    "tags": []
   },
   "outputs": [
    {
     "name": "stdout",
     "output_type": "stream",
     "text": [
      "              precision    recall  f1-score   support\n",
      "\n",
      "           0       0.95      0.96      0.96      1200\n",
      "           1       0.98      0.98      0.98      1200\n",
      "           2       0.98      0.96      0.97      1200\n",
      "           3       0.98      0.99      0.98      1200\n",
      "\n",
      "    accuracy                           0.97      4800\n",
      "   macro avg       0.97      0.97      0.97      4800\n",
      "weighted avg       0.97      0.97      0.97      4800\n",
      "\n"
     ]
    }
   ],
   "source": [
    "from sklearn.ensemble import RandomForestClassifier\n",
    "\n",
    "#1. create a pipeline object\n",
    "clf = Pipeline([\n",
    "     ('vectorizer_tfidf',TfidfVectorizer()),        #using the ngram_range parameter \n",
    "     ('Random Forest', RandomForestClassifier())         \n",
    "])\n",
    "\n",
    "#2. fit with X_train and y_train\n",
    "clf.fit(X_train, y_train)\n",
    "\n",
    "\n",
    "#3. get the predictions for X_test and store it in y_pred\n",
    "y_pred = clf.predict(X_test)\n",
    "\n",
    "\n",
    "#4. print the classfication report\n",
    "print(classification_report(y_test, y_pred))"
   ]
  },
  {
   "cell_type": "markdown",
   "id": "d881a82d",
   "metadata": {
    "papermill": {
     "duration": 0.00998,
     "end_time": "2023-08-15T15:52:15.188217",
     "exception": false,
     "start_time": "2023-08-15T15:52:15.178237",
     "status": "completed"
    },
    "tags": []
   },
   "source": [
    "<h3>Use text pre-processing to remove stop words, punctuations and apply lemmatization </h3>"
   ]
  },
  {
   "cell_type": "code",
   "execution_count": 20,
   "id": "25472155",
   "metadata": {
    "execution": {
     "iopub.execute_input": "2023-08-15T15:52:15.211237Z",
     "iopub.status.busy": "2023-08-15T15:52:15.210860Z",
     "iopub.status.idle": "2023-08-15T15:52:30.797040Z",
     "shell.execute_reply": "2023-08-15T15:52:30.796060Z"
    },
    "papermill": {
     "duration": 15.600163,
     "end_time": "2023-08-15T15:52:30.799621",
     "exception": false,
     "start_time": "2023-08-15T15:52:15.199458",
     "status": "completed"
    },
    "tags": []
   },
   "outputs": [
    {
     "name": "stderr",
     "output_type": "stream",
     "text": [
      "/opt/conda/lib/python3.10/site-packages/tensorflow_io/python/ops/__init__.py:98: UserWarning: unable to load libtensorflow_io_plugins.so: unable to open file: libtensorflow_io_plugins.so, from paths: ['/opt/conda/lib/python3.10/site-packages/tensorflow_io/python/ops/libtensorflow_io_plugins.so']\n",
      "caused by: ['/opt/conda/lib/python3.10/site-packages/tensorflow_io/python/ops/libtensorflow_io_plugins.so: undefined symbol: _ZN3tsl6StatusC1EN10tensorflow5error4CodeESt17basic_string_viewIcSt11char_traitsIcEENS_14SourceLocationE']\n",
      "  warnings.warn(f\"unable to load libtensorflow_io_plugins.so: {e}\")\n",
      "/opt/conda/lib/python3.10/site-packages/tensorflow_io/python/ops/__init__.py:104: UserWarning: file system plugins are not loaded: unable to open file: libtensorflow_io.so, from paths: ['/opt/conda/lib/python3.10/site-packages/tensorflow_io/python/ops/libtensorflow_io.so']\n",
      "caused by: ['/opt/conda/lib/python3.10/site-packages/tensorflow_io/python/ops/libtensorflow_io.so: undefined symbol: _ZTVN10tensorflow13GcsFileSystemE']\n",
      "  warnings.warn(f\"file system plugins are not loaded: {e}\")\n"
     ]
    }
   ],
   "source": [
    "### utlity function for pre-processing the text\n",
    "import spacy\n",
    "\n",
    "# load english language model and create nlp object from it\n",
    "nlp = spacy.load(\"en_core_web_sm\") \n",
    "\n",
    "def preprocess(text):\n",
    "    # remove stop words and lemmatize the text\n",
    "    doc = nlp(text)\n",
    "    filtered_tokens = []\n",
    "    for token in doc:\n",
    "        if token.is_stop or token.is_punct:\n",
    "            continue\n",
    "        filtered_tokens.append(token.lemma_)\n",
    "    \n",
    "    return \" \".join(filtered_tokens) "
   ]
  },
  {
   "cell_type": "code",
   "execution_count": 21,
   "id": "edbc7912",
   "metadata": {
    "execution": {
     "iopub.execute_input": "2023-08-15T15:52:30.822906Z",
     "iopub.status.busy": "2023-08-15T15:52:30.821574Z",
     "iopub.status.idle": "2023-08-15T16:01:45.543406Z",
     "shell.execute_reply": "2023-08-15T16:01:45.542301Z"
    },
    "papermill": {
     "duration": 554.73663,
     "end_time": "2023-08-15T16:01:45.546710",
     "exception": false,
     "start_time": "2023-08-15T15:52:30.810080",
     "status": "completed"
    },
    "tags": []
   },
   "outputs": [],
   "source": [
    "df['preprocessed_txt'] = df['Text'].apply(preprocess) "
   ]
  },
  {
   "cell_type": "code",
   "execution_count": 22,
   "id": "abc322af",
   "metadata": {
    "execution": {
     "iopub.execute_input": "2023-08-15T16:01:45.574645Z",
     "iopub.status.busy": "2023-08-15T16:01:45.574273Z",
     "iopub.status.idle": "2023-08-15T16:01:45.585783Z",
     "shell.execute_reply": "2023-08-15T16:01:45.584736Z"
    },
    "papermill": {
     "duration": 0.025169,
     "end_time": "2023-08-15T16:01:45.587880",
     "exception": false,
     "start_time": "2023-08-15T16:01:45.562711",
     "status": "completed"
    },
    "scrolled": true,
    "tags": []
   },
   "outputs": [
    {
     "data": {
      "text/html": [
       "<div>\n",
       "<style scoped>\n",
       "    .dataframe tbody tr th:only-of-type {\n",
       "        vertical-align: middle;\n",
       "    }\n",
       "\n",
       "    .dataframe tbody tr th {\n",
       "        vertical-align: top;\n",
       "    }\n",
       "\n",
       "    .dataframe thead th {\n",
       "        text-align: right;\n",
       "    }\n",
       "</style>\n",
       "<table border=\"1\" class=\"dataframe\">\n",
       "  <thead>\n",
       "    <tr style=\"text-align: right;\">\n",
       "      <th></th>\n",
       "      <th>Text</th>\n",
       "      <th>label</th>\n",
       "      <th>label_num</th>\n",
       "      <th>preprocessed_txt</th>\n",
       "    </tr>\n",
       "  </thead>\n",
       "  <tbody>\n",
       "    <tr>\n",
       "      <th>0</th>\n",
       "      <td>Urban Ladder Eisner Low Back Study-Office Comp...</td>\n",
       "      <td>Household</td>\n",
       "      <td>0</td>\n",
       "      <td>Urban Ladder Eisner low Study Office Computer ...</td>\n",
       "    </tr>\n",
       "    <tr>\n",
       "      <th>1</th>\n",
       "      <td>Contrast living Wooden Decorative Box,Painted ...</td>\n",
       "      <td>Household</td>\n",
       "      <td>0</td>\n",
       "      <td>contrast live Wooden Decorative Box Painted Bo...</td>\n",
       "    </tr>\n",
       "    <tr>\n",
       "      <th>2</th>\n",
       "      <td>IO Crest SY-PCI40010 PCI RAID Host Controller ...</td>\n",
       "      <td>Electronics</td>\n",
       "      <td>2</td>\n",
       "      <td>IO Crest SY PCI40010 PCI raid Host Controller ...</td>\n",
       "    </tr>\n",
       "    <tr>\n",
       "      <th>3</th>\n",
       "      <td>ISAKAA Baby Socks from Just Born to 8 Years- P...</td>\n",
       "      <td>Clothing &amp; Accessories</td>\n",
       "      <td>3</td>\n",
       "      <td>ISAKAA Baby Socks bear 8 Years- Pack 4 6 8 12 ...</td>\n",
       "    </tr>\n",
       "    <tr>\n",
       "      <th>4</th>\n",
       "      <td>Indira Designer Women's Art Mysore Silk Saree ...</td>\n",
       "      <td>Clothing &amp; Accessories</td>\n",
       "      <td>3</td>\n",
       "      <td>Indira Designer Women Art Mysore Silk Saree Bl...</td>\n",
       "    </tr>\n",
       "  </tbody>\n",
       "</table>\n",
       "</div>"
      ],
      "text/plain": [
       "                                                Text                   label  \\\n",
       "0  Urban Ladder Eisner Low Back Study-Office Comp...               Household   \n",
       "1  Contrast living Wooden Decorative Box,Painted ...               Household   \n",
       "2  IO Crest SY-PCI40010 PCI RAID Host Controller ...             Electronics   \n",
       "3  ISAKAA Baby Socks from Just Born to 8 Years- P...  Clothing & Accessories   \n",
       "4  Indira Designer Women's Art Mysore Silk Saree ...  Clothing & Accessories   \n",
       "\n",
       "   label_num                                   preprocessed_txt  \n",
       "0          0  Urban Ladder Eisner low Study Office Computer ...  \n",
       "1          0  contrast live Wooden Decorative Box Painted Bo...  \n",
       "2          2  IO Crest SY PCI40010 PCI raid Host Controller ...  \n",
       "3          3  ISAKAA Baby Socks bear 8 Years- Pack 4 6 8 12 ...  \n",
       "4          3  Indira Designer Women Art Mysore Silk Saree Bl...  "
      ]
     },
     "execution_count": 22,
     "metadata": {},
     "output_type": "execute_result"
    }
   ],
   "source": [
    "df.head()"
   ]
  },
  {
   "cell_type": "code",
   "execution_count": 23,
   "id": "24e209f1",
   "metadata": {
    "execution": {
     "iopub.execute_input": "2023-08-15T16:01:45.610870Z",
     "iopub.status.busy": "2023-08-15T16:01:45.610064Z",
     "iopub.status.idle": "2023-08-15T16:01:45.617059Z",
     "shell.execute_reply": "2023-08-15T16:01:45.616216Z"
    },
    "papermill": {
     "duration": 0.02047,
     "end_time": "2023-08-15T16:01:45.619104",
     "exception": false,
     "start_time": "2023-08-15T16:01:45.598634",
     "status": "completed"
    },
    "tags": []
   },
   "outputs": [
    {
     "data": {
      "text/plain": [
       "'Urban Ladder Eisner Low Back Study-Office Computer Chair(Black) A study in simple. The Eisner study chair has a firm foam cushion, which makes long hours at your desk comfortable. The flexible meshed back is designed for air-circulation and support when you lean back. The curved arms provide ergonomic forearm support. Adjust the height using the gas lift to find that comfortable position and the nylon castors make it easy to move around your space. Chrome legs refer to the images for dimension details any assembly required will be done by the UL team at the time of delivery indoor use only.'"
      ]
     },
     "execution_count": 23,
     "metadata": {},
     "output_type": "execute_result"
    }
   ],
   "source": [
    "df.Text[0]"
   ]
  },
  {
   "cell_type": "code",
   "execution_count": 24,
   "id": "c91c3464",
   "metadata": {
    "execution": {
     "iopub.execute_input": "2023-08-15T16:01:45.643090Z",
     "iopub.status.busy": "2023-08-15T16:01:45.642291Z",
     "iopub.status.idle": "2023-08-15T16:01:45.649213Z",
     "shell.execute_reply": "2023-08-15T16:01:45.648393Z"
    },
    "papermill": {
     "duration": 0.020679,
     "end_time": "2023-08-15T16:01:45.651329",
     "exception": false,
     "start_time": "2023-08-15T16:01:45.630650",
     "status": "completed"
    },
    "tags": []
   },
   "outputs": [
    {
     "data": {
      "text/plain": [
       "'Urban Ladder Eisner low Study Office Computer Chair(Black study simple Eisner study chair firm foam cushion make long hour desk comfortable flexible mesh design air circulation support lean curved arm provide ergonomic forearm support adjust height gas lift find comfortable position nylon castor easy space chrome leg refer image dimension detail assembly require UL team time delivery indoor use'"
      ]
     },
     "execution_count": 24,
     "metadata": {},
     "output_type": "execute_result"
    }
   ],
   "source": [
    "df.preprocessed_txt[0]"
   ]
  },
  {
   "cell_type": "markdown",
   "id": "3388b3d6",
   "metadata": {
    "papermill": {
     "duration": 0.010419,
     "end_time": "2023-08-15T16:01:45.672472",
     "exception": false,
     "start_time": "2023-08-15T16:01:45.662053",
     "status": "completed"
    },
    "tags": []
   },
   "source": [
    "**Build a model with pre processed text**"
   ]
  },
  {
   "cell_type": "code",
   "execution_count": 25,
   "id": "7642d4c3",
   "metadata": {
    "execution": {
     "iopub.execute_input": "2023-08-15T16:01:45.696627Z",
     "iopub.status.busy": "2023-08-15T16:01:45.695513Z",
     "iopub.status.idle": "2023-08-15T16:01:45.718565Z",
     "shell.execute_reply": "2023-08-15T16:01:45.717416Z"
    },
    "papermill": {
     "duration": 0.037939,
     "end_time": "2023-08-15T16:01:45.721523",
     "exception": false,
     "start_time": "2023-08-15T16:01:45.683584",
     "status": "completed"
    },
    "tags": []
   },
   "outputs": [],
   "source": [
    "X_train, X_test, y_train, y_test = train_test_split(\n",
    "    df.preprocessed_txt, \n",
    "    df.label_num,\n",
    "    test_size=0.2, # 20% samples will go to test dataset\n",
    "    random_state=2022,\n",
    "    stratify=df.label_num\n",
    ")"
   ]
  },
  {
   "cell_type": "markdown",
   "id": "7b6b9ba5",
   "metadata": {
    "papermill": {
     "duration": 0.010622,
     "end_time": "2023-08-15T16:01:45.749341",
     "exception": false,
     "start_time": "2023-08-15T16:01:45.738719",
     "status": "completed"
    },
    "tags": []
   },
   "source": [
    "**Let's check the scores with our best model till now**\n",
    "- Random Forest"
   ]
  },
  {
   "cell_type": "code",
   "execution_count": 26,
   "id": "37a2bc3b",
   "metadata": {
    "execution": {
     "iopub.execute_input": "2023-08-15T16:01:45.774874Z",
     "iopub.status.busy": "2023-08-15T16:01:45.774488Z",
     "iopub.status.idle": "2023-08-15T16:02:19.191406Z",
     "shell.execute_reply": "2023-08-15T16:02:19.190276Z"
    },
    "papermill": {
     "duration": 33.442294,
     "end_time": "2023-08-15T16:02:19.204769",
     "exception": false,
     "start_time": "2023-08-15T16:01:45.762475",
     "status": "completed"
    },
    "tags": []
   },
   "outputs": [
    {
     "name": "stdout",
     "output_type": "stream",
     "text": [
      "              precision    recall  f1-score   support\n",
      "\n",
      "           0       0.96      0.97      0.97      1200\n",
      "           1       0.98      0.98      0.98      1200\n",
      "           2       0.98      0.97      0.98      1200\n",
      "           3       0.98      0.99      0.99      1200\n",
      "\n",
      "    accuracy                           0.98      4800\n",
      "   macro avg       0.98      0.98      0.98      4800\n",
      "weighted avg       0.98      0.98      0.98      4800\n",
      "\n"
     ]
    }
   ],
   "source": [
    "#1. create a pipeline object\n",
    "clf = Pipeline([\n",
    "     ('vectorizer_tfidf',TfidfVectorizer()),        #using the ngram_range parameter \n",
    "     ('Random Forest', RandomForestClassifier())         \n",
    "])\n",
    "\n",
    "#2. fit with X_train and y_train\n",
    "clf.fit(X_train, y_train)\n",
    "\n",
    "\n",
    "#3. get the predictions for X_test and store it in y_pred\n",
    "y_pred = clf.predict(X_test)\n",
    "\n",
    "\n",
    "#4. print the classfication report\n",
    "print(classification_report(y_test, y_pred))"
   ]
  },
  {
   "cell_type": "markdown",
   "id": "373acb1a",
   "metadata": {
    "papermill": {
     "duration": 0.010528,
     "end_time": "2023-08-15T16:02:19.226236",
     "exception": false,
     "start_time": "2023-08-15T16:02:19.215708",
     "status": "completed"
    },
    "tags": []
   },
   "source": [
    "If you compare above classification report with respect to **RandomForest Model** with the one from unprocessed text, you will find some improvement in the model that uses preprocessed cleaned up text. The F1 score improved in the case of preprocessed data. Hence we can conclude that for this particular problem using preprocessing (removing stop words, lemmatization) is improving the performance of the model."
   ]
  },
  {
   "cell_type": "markdown",
   "id": "3ac542ca",
   "metadata": {
    "papermill": {
     "duration": 0.010565,
     "end_time": "2023-08-15T16:02:19.247671",
     "exception": false,
     "start_time": "2023-08-15T16:02:19.237106",
     "status": "completed"
    },
    "tags": []
   },
   "source": [
    "**Plot confusion matrix**"
   ]
  },
  {
   "cell_type": "code",
   "execution_count": 27,
   "id": "f37e1c8d",
   "metadata": {
    "execution": {
     "iopub.execute_input": "2023-08-15T16:02:19.271587Z",
     "iopub.status.busy": "2023-08-15T16:02:19.271218Z",
     "iopub.status.idle": "2023-08-15T16:02:19.280959Z",
     "shell.execute_reply": "2023-08-15T16:02:19.279854Z"
    },
    "papermill": {
     "duration": 0.024002,
     "end_time": "2023-08-15T16:02:19.283022",
     "exception": false,
     "start_time": "2023-08-15T16:02:19.259020",
     "status": "completed"
    },
    "tags": []
   },
   "outputs": [
    {
     "data": {
      "text/plain": [
       "array([[1161,    8,   18,   13],\n",
       "       [  19, 1173,    5,    3],\n",
       "       [  20,    7, 1169,    4],\n",
       "       [   6,    3,    1, 1190]])"
      ]
     },
     "execution_count": 27,
     "metadata": {},
     "output_type": "execute_result"
    }
   ],
   "source": [
    "from sklearn.metrics import confusion_matrix\n",
    "cm = confusion_matrix(y_test, y_pred)\n",
    "cm"
   ]
  },
  {
   "cell_type": "code",
   "execution_count": 28,
   "id": "bcb705c4",
   "metadata": {
    "execution": {
     "iopub.execute_input": "2023-08-15T16:02:19.308367Z",
     "iopub.status.busy": "2023-08-15T16:02:19.307035Z",
     "iopub.status.idle": "2023-08-15T16:02:20.134303Z",
     "shell.execute_reply": "2023-08-15T16:02:20.133180Z"
    },
    "papermill": {
     "duration": 0.842769,
     "end_time": "2023-08-15T16:02:20.136872",
     "exception": false,
     "start_time": "2023-08-15T16:02:19.294103",
     "status": "completed"
    },
    "tags": []
   },
   "outputs": [
    {
     "data": {
      "text/plain": [
       "Text(95.72222222222221, 0.5, 'Truth')"
      ]
     },
     "execution_count": 28,
     "metadata": {},
     "output_type": "execute_result"
    },
    {
     "data": {
      "image/png": "[encoded data removed]",
      "text/plain": [
       "<Figure size 1000x700 with 2 Axes>"
      ]
     },
     "metadata": {},
     "output_type": "display_data"
    }
   ],
   "source": [
    "from matplotlib import pyplot as plt\n",
    "import seaborn as sn\n",
    "plt.figure(figsize = (10,7))\n",
    "sn.heatmap(cm, annot=True, fmt='d')\n",
    "plt.xlabel('Prediction')\n",
    "plt.ylabel('Truth')"
   ]
  }
 ],
 "metadata": {
  "kernelspec": {
   "display_name": "Python 3",
   "language": "python",
   "name": "python3"
  },
  "language_info": {
   "codemirror_mode": {
    "name": "ipython",
    "version": 3
   },
   "file_extension": ".py",
   "mimetype": "text/x-python",
   "name": "python",
   "nbconvert_exporter": "python",
   "pygments_lexer": "ipython3",
   "version": "3.10.12"
  },
  "papermill": {
   "default_parameters": {},
   "duration": 859.987346,
   "end_time": "2023-08-15T16:02:23.403727",
   "environment_variables": {},
   "exception": null,
   "input_path": "__notebook__.ipynb",
   "output_path": "__notebook__.ipynb",
   "parameters": {},
   "start_time": "2023-08-15T15:48:03.416381",
   "version": "2.4.0"
  }
 },
 "nbformat": 4,
 "nbformat_minor": 5
}
