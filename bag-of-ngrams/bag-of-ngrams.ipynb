{
 "cells": [
  {
   "cell_type": "markdown",
   "id": "1446564d",
   "metadata": {
    "id": "KYoVrnewenmh",
    "papermill": {
     "duration": 0.012596,
     "end_time": "2023-08-15T13:10:02.842697",
     "exception": false,
     "start_time": "2023-08-15T13:10:02.830101",
     "status": "completed"
    },
    "tags": []
   },
   "source": [
    "### Codebasics - Bag of N grams tutorial"
   ]
  },
  {
   "cell_type": "markdown",
   "id": "8114a737",
   "metadata": {
    "id": "KYoVrnewenmh",
    "papermill": {
     "duration": 0.011176,
     "end_time": "2023-08-15T13:10:02.865492",
     "exception": false,
     "start_time": "2023-08-15T13:10:02.854316",
     "status": "completed"
    },
    "tags": []
   },
   "source": [
    "##### Let's first understand how to generate n-grams using CountVectorizer"
   ]
  },
  {
   "cell_type": "code",
   "execution_count": 1,
   "id": "c20937ed",
   "metadata": {
    "execution": {
     "iopub.execute_input": "2023-08-15T13:10:02.891245Z",
     "iopub.status.busy": "2023-08-15T13:10:02.890709Z",
     "iopub.status.idle": "2023-08-15T13:10:03.884760Z",
     "shell.execute_reply": "2023-08-15T13:10:03.883586Z"
    },
    "papermill": {
     "duration": 1.01004,
     "end_time": "2023-08-15T13:10:03.886946",
     "exception": false,
     "start_time": "2023-08-15T13:10:02.876906",
     "status": "completed"
    },
    "tags": []
   },
   "outputs": [
    {
     "name": "stderr",
     "output_type": "stream",
     "text": [
      "/opt/conda/lib/python3.10/site-packages/scipy/__init__.py:146: UserWarning: A NumPy version >=1.16.5 and <1.23.0 is required for this version of SciPy (detected version 1.23.5\n",
      "  warnings.warn(f\"A NumPy version >={np_minversion} and <{np_maxversion}\"\n"
     ]
    },
    {
     "data": {
      "text/plain": [
       "{'thor': 5, 'hathodawala': 1, 'is': 2, 'looking': 4, 'for': 0, 'job': 3}"
      ]
     },
     "execution_count": 1,
     "metadata": {},
     "output_type": "execute_result"
    }
   ],
   "source": [
    "from sklearn.feature_extraction.text import CountVectorizer\n",
    "\n",
    "v = CountVectorizer()\n",
    "v.fit([\"Thor Hathodawala is looking for a job\"])\n",
    "v.vocabulary_"
   ]
  },
  {
   "cell_type": "code",
   "execution_count": 2,
   "id": "d29e8eff",
   "metadata": {
    "execution": {
     "iopub.execute_input": "2023-08-15T13:10:03.912601Z",
     "iopub.status.busy": "2023-08-15T13:10:03.912005Z",
     "iopub.status.idle": "2023-08-15T13:10:03.919792Z",
     "shell.execute_reply": "2023-08-15T13:10:03.918954Z"
    },
    "papermill": {
     "duration": 0.022822,
     "end_time": "2023-08-15T13:10:03.921740",
     "exception": false,
     "start_time": "2023-08-15T13:10:03.898918",
     "status": "completed"
    },
    "tags": []
   },
   "outputs": [
    {
     "data": {
      "text/plain": [
       "{'thor': 9,\n",
       " 'hathodawala': 2,\n",
       " 'is': 4,\n",
       " 'looking': 7,\n",
       " 'for': 0,\n",
       " 'job': 6,\n",
       " 'thor hathodawala': 10,\n",
       " 'hathodawala is': 3,\n",
       " 'is looking': 5,\n",
       " 'looking for': 8,\n",
       " 'for job': 1}"
      ]
     },
     "execution_count": 2,
     "metadata": {},
     "output_type": "execute_result"
    }
   ],
   "source": [
    "v = CountVectorizer(ngram_range=(1,2))\n",
    "v.fit([\"Thor Hathodawala is looking for a job\"])\n",
    "v.vocabulary_"
   ]
  },
  {
   "cell_type": "code",
   "execution_count": 3,
   "id": "0562ddfa",
   "metadata": {
    "execution": {
     "iopub.execute_input": "2023-08-15T13:10:03.947749Z",
     "iopub.status.busy": "2023-08-15T13:10:03.947110Z",
     "iopub.status.idle": "2023-08-15T13:10:03.953897Z",
     "shell.execute_reply": "2023-08-15T13:10:03.953079Z"
    },
    "papermill": {
     "duration": 0.021841,
     "end_time": "2023-08-15T13:10:03.955777",
     "exception": false,
     "start_time": "2023-08-15T13:10:03.933936",
     "status": "completed"
    },
    "tags": []
   },
   "outputs": [
    {
     "data": {
      "text/plain": [
       "{'thor': 12,\n",
       " 'hathodawala': 2,\n",
       " 'is': 5,\n",
       " 'looking': 9,\n",
       " 'for': 0,\n",
       " 'job': 8,\n",
       " 'thor hathodawala': 13,\n",
       " 'hathodawala is': 3,\n",
       " 'is looking': 6,\n",
       " 'looking for': 10,\n",
       " 'for job': 1,\n",
       " 'thor hathodawala is': 14,\n",
       " 'hathodawala is looking': 4,\n",
       " 'is looking for': 7,\n",
       " 'looking for job': 11}"
      ]
     },
     "execution_count": 3,
     "metadata": {},
     "output_type": "execute_result"
    }
   ],
   "source": [
    "v = CountVectorizer(ngram_range=(1,3))\n",
    "v.fit([\"Thor Hathodawala is looking for a job\"])\n",
    "v.vocabulary_"
   ]
  },
  {
   "cell_type": "markdown",
   "id": "086bafd0",
   "metadata": {
    "papermill": {
     "duration": 0.011606,
     "end_time": "2023-08-15T13:10:03.979102",
     "exception": false,
     "start_time": "2023-08-15T13:10:03.967496",
     "status": "completed"
    },
    "tags": []
   },
   "source": [
    "We will not take a simple collection of text documents, preprocess them to remove stop words, lemmatize etc and then generate bag of 1 grams and 2 grams from it"
   ]
  },
  {
   "cell_type": "code",
   "execution_count": 4,
   "id": "ab1b88a2",
   "metadata": {
    "execution": {
     "iopub.execute_input": "2023-08-15T13:10:04.004136Z",
     "iopub.status.busy": "2023-08-15T13:10:04.003601Z",
     "iopub.status.idle": "2023-08-15T13:10:04.007013Z",
     "shell.execute_reply": "2023-08-15T13:10:04.006427Z"
    },
    "papermill": {
     "duration": 0.017904,
     "end_time": "2023-08-15T13:10:04.008671",
     "exception": false,
     "start_time": "2023-08-15T13:10:03.990767",
     "status": "completed"
    },
    "tags": []
   },
   "outputs": [],
   "source": [
    "corpus = [\n",
    "    \"Thor ate pizza\",\n",
    "    \"Loki is tall\",\n",
    "    \"Loki is eating pizza\"\n",
    "]"
   ]
  },
  {
   "cell_type": "code",
   "execution_count": 5,
   "id": "d9bce78f",
   "metadata": {
    "execution": {
     "iopub.execute_input": "2023-08-15T13:10:04.033677Z",
     "iopub.status.busy": "2023-08-15T13:10:04.033260Z",
     "iopub.status.idle": "2023-08-15T13:10:17.056171Z",
     "shell.execute_reply": "2023-08-15T13:10:17.055261Z"
    },
    "papermill": {
     "duration": 13.038286,
     "end_time": "2023-08-15T13:10:17.058841",
     "exception": false,
     "start_time": "2023-08-15T13:10:04.020555",
     "status": "completed"
    },
    "tags": []
   },
   "outputs": [
    {
     "name": "stderr",
     "output_type": "stream",
     "text": [
      "/opt/conda/lib/python3.10/site-packages/tensorflow_io/python/ops/__init__.py:98: UserWarning: unable to load libtensorflow_io_plugins.so: unable to open file: libtensorflow_io_plugins.so, from paths: ['/opt/conda/lib/python3.10/site-packages/tensorflow_io/python/ops/libtensorflow_io_plugins.so']\n",
      "caused by: ['/opt/conda/lib/python3.10/site-packages/tensorflow_io/python/ops/libtensorflow_io_plugins.so: undefined symbol: _ZN3tsl6StatusC1EN10tensorflow5error4CodeESt17basic_string_viewIcSt11char_traitsIcEENS_14SourceLocationE']\n",
      "  warnings.warn(f\"unable to load libtensorflow_io_plugins.so: {e}\")\n",
      "/opt/conda/lib/python3.10/site-packages/tensorflow_io/python/ops/__init__.py:104: UserWarning: file system plugins are not loaded: unable to open file: libtensorflow_io.so, from paths: ['/opt/conda/lib/python3.10/site-packages/tensorflow_io/python/ops/libtensorflow_io.so']\n",
      "caused by: ['/opt/conda/lib/python3.10/site-packages/tensorflow_io/python/ops/libtensorflow_io.so: undefined symbol: _ZTVN10tensorflow13GcsFileSystemE']\n",
      "  warnings.warn(f\"file system plugins are not loaded: {e}\")\n"
     ]
    }
   ],
   "source": [
    "import spacy\n",
    "\n",
    "# load english language model and create nlp object from it\n",
    "nlp = spacy.load(\"en_core_web_sm\") \n",
    "\n",
    "def preprocess(text):\n",
    "    # remove stop words and lemmatize the text\n",
    "    doc = nlp(text)\n",
    "    filtered_tokens = []\n",
    "    for token in doc:\n",
    "        if token.is_stop or token.is_punct:\n",
    "            continue\n",
    "        filtered_tokens.append(token.lemma_)\n",
    "    \n",
    "    return \" \".join(filtered_tokens) "
   ]
  },
  {
   "cell_type": "code",
   "execution_count": 6,
   "id": "3c899a3e",
   "metadata": {
    "execution": {
     "iopub.execute_input": "2023-08-15T13:10:17.088232Z",
     "iopub.status.busy": "2023-08-15T13:10:17.087202Z",
     "iopub.status.idle": "2023-08-15T13:10:17.115605Z",
     "shell.execute_reply": "2023-08-15T13:10:17.114547Z"
    },
    "papermill": {
     "duration": 0.044944,
     "end_time": "2023-08-15T13:10:17.117603",
     "exception": false,
     "start_time": "2023-08-15T13:10:17.072659",
     "status": "completed"
    },
    "tags": []
   },
   "outputs": [
    {
     "data": {
      "text/plain": [
       "'thor eat pizza'"
      ]
     },
     "execution_count": 6,
     "metadata": {},
     "output_type": "execute_result"
    }
   ],
   "source": [
    "preprocess(\"Thor ate pizza\")"
   ]
  },
  {
   "cell_type": "code",
   "execution_count": 7,
   "id": "ad6d5d28",
   "metadata": {
    "execution": {
     "iopub.execute_input": "2023-08-15T13:10:17.145452Z",
     "iopub.status.busy": "2023-08-15T13:10:17.145100Z",
     "iopub.status.idle": "2023-08-15T13:10:17.158698Z",
     "shell.execute_reply": "2023-08-15T13:10:17.157781Z"
    },
    "papermill": {
     "duration": 0.030052,
     "end_time": "2023-08-15T13:10:17.160741",
     "exception": false,
     "start_time": "2023-08-15T13:10:17.130689",
     "status": "completed"
    },
    "tags": []
   },
   "outputs": [
    {
     "data": {
      "text/plain": [
       "'Loki eat pizza'"
      ]
     },
     "execution_count": 7,
     "metadata": {},
     "output_type": "execute_result"
    }
   ],
   "source": [
    "preprocess(\"Loki is eating pizza\")"
   ]
  },
  {
   "cell_type": "code",
   "execution_count": 8,
   "id": "b987aad5",
   "metadata": {
    "execution": {
     "iopub.execute_input": "2023-08-15T13:10:17.189354Z",
     "iopub.status.busy": "2023-08-15T13:10:17.189042Z",
     "iopub.status.idle": "2023-08-15T13:10:17.213783Z",
     "shell.execute_reply": "2023-08-15T13:10:17.212908Z"
    },
    "papermill": {
     "duration": 0.041858,
     "end_time": "2023-08-15T13:10:17.216067",
     "exception": false,
     "start_time": "2023-08-15T13:10:17.174209",
     "status": "completed"
    },
    "tags": []
   },
   "outputs": [
    {
     "data": {
      "text/plain": [
       "['thor eat pizza', 'Loki tall', 'Loki eat pizza']"
      ]
     },
     "execution_count": 8,
     "metadata": {},
     "output_type": "execute_result"
    }
   ],
   "source": [
    "corpus_processed = [\n",
    "    preprocess(text) for text in corpus\n",
    "]\n",
    "corpus_processed"
   ]
  },
  {
   "cell_type": "code",
   "execution_count": 9,
   "id": "40f21efe",
   "metadata": {
    "execution": {
     "iopub.execute_input": "2023-08-15T13:10:17.244379Z",
     "iopub.status.busy": "2023-08-15T13:10:17.243982Z",
     "iopub.status.idle": "2023-08-15T13:10:17.253009Z",
     "shell.execute_reply": "2023-08-15T13:10:17.252316Z"
    },
    "papermill": {
     "duration": 0.02567,
     "end_time": "2023-08-15T13:10:17.255021",
     "exception": false,
     "start_time": "2023-08-15T13:10:17.229351",
     "status": "completed"
    },
    "scrolled": true,
    "tags": []
   },
   "outputs": [
    {
     "data": {
      "text/plain": [
       "{'thor': 7,\n",
       " 'eat': 0,\n",
       " 'pizza': 5,\n",
       " 'thor eat': 8,\n",
       " 'eat pizza': 1,\n",
       " 'loki': 2,\n",
       " 'tall': 6,\n",
       " 'loki tall': 4,\n",
       " 'loki eat': 3}"
      ]
     },
     "execution_count": 9,
     "metadata": {},
     "output_type": "execute_result"
    }
   ],
   "source": [
    "v = CountVectorizer(ngram_range=(1,2))\n",
    "v.fit(corpus_processed)\n",
    "v.vocabulary_"
   ]
  },
  {
   "cell_type": "markdown",
   "id": "99cd6ddc",
   "metadata": {
    "papermill": {
     "duration": 0.013382,
     "end_time": "2023-08-15T13:10:17.283873",
     "exception": false,
     "start_time": "2023-08-15T13:10:17.270491",
     "status": "completed"
    },
    "tags": []
   },
   "source": [
    "Now generate bag of n gram vector for few sample documents"
   ]
  },
  {
   "cell_type": "code",
   "execution_count": 10,
   "id": "1823162b",
   "metadata": {
    "execution": {
     "iopub.execute_input": "2023-08-15T13:10:17.314415Z",
     "iopub.status.busy": "2023-08-15T13:10:17.313999Z",
     "iopub.status.idle": "2023-08-15T13:10:17.321915Z",
     "shell.execute_reply": "2023-08-15T13:10:17.320900Z"
    },
    "papermill": {
     "duration": 0.025809,
     "end_time": "2023-08-15T13:10:17.324121",
     "exception": false,
     "start_time": "2023-08-15T13:10:17.298312",
     "status": "completed"
    },
    "scrolled": true,
    "tags": []
   },
   "outputs": [
    {
     "data": {
      "text/plain": [
       "array([[1, 1, 0, 0, 0, 1, 0, 1, 1]])"
      ]
     },
     "execution_count": 10,
     "metadata": {},
     "output_type": "execute_result"
    }
   ],
   "source": [
    "v.transform([\"Thor eat pizza\"]).toarray()"
   ]
  },
  {
   "cell_type": "markdown",
   "id": "8f6bf9d6",
   "metadata": {
    "papermill": {
     "duration": 0.014357,
     "end_time": "2023-08-15T13:10:17.353433",
     "exception": false,
     "start_time": "2023-08-15T13:10:17.339076",
     "status": "completed"
    },
    "tags": []
   },
   "source": [
    "Let's take a document that has out of vocabulary (OOV) term and see how bag of ngram generates vector out of it"
   ]
  },
  {
   "cell_type": "code",
   "execution_count": 11,
   "id": "4568d659",
   "metadata": {
    "execution": {
     "iopub.execute_input": "2023-08-15T13:10:17.382916Z",
     "iopub.status.busy": "2023-08-15T13:10:17.382506Z",
     "iopub.status.idle": "2023-08-15T13:10:17.389731Z",
     "shell.execute_reply": "2023-08-15T13:10:17.388822Z"
    },
    "papermill": {
     "duration": 0.024309,
     "end_time": "2023-08-15T13:10:17.391733",
     "exception": false,
     "start_time": "2023-08-15T13:10:17.367424",
     "status": "completed"
    },
    "tags": []
   },
   "outputs": [
    {
     "data": {
      "text/plain": [
       "array([[1, 1, 0, 0, 0, 1, 0, 0, 0]])"
      ]
     },
     "execution_count": 11,
     "metadata": {},
     "output_type": "execute_result"
    }
   ],
   "source": [
    "v.transform([\"Hulk eat pizza\"]).toarray()"
   ]
  },
  {
   "cell_type": "markdown",
   "id": "ae4be27c",
   "metadata": {
    "papermill": {
     "duration": 0.013346,
     "end_time": "2023-08-15T13:10:17.418796",
     "exception": false,
     "start_time": "2023-08-15T13:10:17.405450",
     "status": "completed"
    },
    "tags": []
   },
   "source": [
    "<img src=\"thor_hulk.jpg\" width=800/>"
   ]
  },
  {
   "cell_type": "markdown",
   "id": "f431ba32",
   "metadata": {
    "papermill": {
     "duration": 0.014105,
     "end_time": "2023-08-15T13:10:17.446797",
     "exception": false,
     "start_time": "2023-08-15T13:10:17.432692",
     "status": "completed"
    },
    "tags": []
   },
   "source": [
    "### News Category Classification Problem"
   ]
  },
  {
   "cell_type": "markdown",
   "id": "b591da23",
   "metadata": {
    "papermill": {
     "duration": 0.014163,
     "end_time": "2023-08-15T13:10:17.474992",
     "exception": false,
     "start_time": "2023-08-15T13:10:17.460829",
     "status": "completed"
    },
    "tags": []
   },
   "source": [
    "Okay now that we know basics of BAG of n grams vectorizer 😎 It is the time to work on a real problem. Here we want to do a news category classification. We will use bag of n-grams and traing a machine learning model that can categorize any news into one of the following categories,\n",
    "\n",
    "1. BUSINESS\n",
    "1. SPORTS\n",
    "1. CRIME\n",
    "1. SCIENCE"
   ]
  },
  {
   "cell_type": "markdown",
   "id": "ac890b5c",
   "metadata": {
    "papermill": {
     "duration": 0.013546,
     "end_time": "2023-08-15T13:10:17.502480",
     "exception": false,
     "start_time": "2023-08-15T13:10:17.488934",
     "status": "completed"
    },
    "tags": []
   },
   "source": [
    "#### Dataset\n",
    "\n",
    "Dataset Credits: https://www.kaggle.com/code/hengzheng/news-category-classifier-val-acc-0-65\n",
    "\n",
    "- This data consists of two columns.\n",
    "        - Text\n",
    "        - Category\n",
    "- Text is a news article\n",
    "- Category can be one of these 4: 'BUSINESS', 'SPORTS', 'CRIME', 'SCIENCE', to keep things simple I trimmed additional categories from the original dataset"
   ]
  },
  {
   "cell_type": "code",
   "execution_count": 12,
   "id": "d5e84639",
   "metadata": {
    "execution": {
     "iopub.execute_input": "2023-08-15T13:10:17.532584Z",
     "iopub.status.busy": "2023-08-15T13:10:17.532221Z",
     "iopub.status.idle": "2023-08-15T13:10:17.659020Z",
     "shell.execute_reply": "2023-08-15T13:10:17.657969Z"
    },
    "papermill": {
     "duration": 0.144554,
     "end_time": "2023-08-15T13:10:17.661151",
     "exception": false,
     "start_time": "2023-08-15T13:10:17.516597",
     "status": "completed"
    },
    "tags": []
   },
   "outputs": [
    {
     "name": "stdout",
     "output_type": "stream",
     "text": [
      "(12695, 2)\n"
     ]
    },
    {
     "data": {
      "text/html": [
       "<div>\n",
       "<style scoped>\n",
       "    .dataframe tbody tr th:only-of-type {\n",
       "        vertical-align: middle;\n",
       "    }\n",
       "\n",
       "    .dataframe tbody tr th {\n",
       "        vertical-align: top;\n",
       "    }\n",
       "\n",
       "    .dataframe thead th {\n",
       "        text-align: right;\n",
       "    }\n",
       "</style>\n",
       "<table border=\"1\" class=\"dataframe\">\n",
       "  <thead>\n",
       "    <tr style=\"text-align: right;\">\n",
       "      <th></th>\n",
       "      <th>text</th>\n",
       "      <th>category</th>\n",
       "    </tr>\n",
       "  </thead>\n",
       "  <tbody>\n",
       "    <tr>\n",
       "      <th>0</th>\n",
       "      <td>Watching Schrödinger's Cat Die University of C...</td>\n",
       "      <td>SCIENCE</td>\n",
       "    </tr>\n",
       "    <tr>\n",
       "      <th>1</th>\n",
       "      <td>WATCH: Freaky Vortex Opens Up In Flooded Lake</td>\n",
       "      <td>SCIENCE</td>\n",
       "    </tr>\n",
       "    <tr>\n",
       "      <th>2</th>\n",
       "      <td>Entrepreneurs Today Don't Need a Big Budget to...</td>\n",
       "      <td>BUSINESS</td>\n",
       "    </tr>\n",
       "    <tr>\n",
       "      <th>3</th>\n",
       "      <td>These Roads Could Recharge Your Electric Car A...</td>\n",
       "      <td>BUSINESS</td>\n",
       "    </tr>\n",
       "    <tr>\n",
       "      <th>4</th>\n",
       "      <td>Civilian 'Guard' Fires Gun While 'Protecting' ...</td>\n",
       "      <td>CRIME</td>\n",
       "    </tr>\n",
       "  </tbody>\n",
       "</table>\n",
       "</div>"
      ],
      "text/plain": [
       "                                                text  category\n",
       "0  Watching Schrödinger's Cat Die University of C...   SCIENCE\n",
       "1     WATCH: Freaky Vortex Opens Up In Flooded Lake    SCIENCE\n",
       "2  Entrepreneurs Today Don't Need a Big Budget to...  BUSINESS\n",
       "3  These Roads Could Recharge Your Electric Car A...  BUSINESS\n",
       "4  Civilian 'Guard' Fires Gun While 'Protecting' ...     CRIME"
      ]
     },
     "execution_count": 12,
     "metadata": {},
     "output_type": "execute_result"
    }
   ],
   "source": [
    "import pandas as pd\n",
    "\n",
    "df = pd.read_json('/kaggle/input/news-dataset/news_dataset.json')\n",
    "print(df.shape)\n",
    "\n",
    "df.head()"
   ]
  },
  {
   "cell_type": "code",
   "execution_count": 13,
   "id": "9cf13247",
   "metadata": {
    "execution": {
     "iopub.execute_input": "2023-08-15T13:10:17.691502Z",
     "iopub.status.busy": "2023-08-15T13:10:17.691112Z",
     "iopub.status.idle": "2023-08-15T13:10:17.704462Z",
     "shell.execute_reply": "2023-08-15T13:10:17.703443Z"
    },
    "papermill": {
     "duration": 0.030563,
     "end_time": "2023-08-15T13:10:17.706587",
     "exception": false,
     "start_time": "2023-08-15T13:10:17.676024",
     "status": "completed"
    },
    "scrolled": true,
    "tags": []
   },
   "outputs": [
    {
     "data": {
      "text/plain": [
       "BUSINESS    4254\n",
       "SPORTS      4167\n",
       "CRIME       2893\n",
       "SCIENCE     1381\n",
       "Name: category, dtype: int64"
      ]
     },
     "execution_count": 13,
     "metadata": {},
     "output_type": "execute_result"
    }
   ],
   "source": [
    "df.category.value_counts()"
   ]
  },
  {
   "cell_type": "markdown",
   "id": "4daa296f",
   "metadata": {
    "papermill": {
     "duration": 0.014472,
     "end_time": "2023-08-15T13:10:17.735359",
     "exception": false,
     "start_time": "2023-08-15T13:10:17.720887",
     "status": "completed"
    },
    "tags": []
   },
   "source": [
    "### **Handle class imbalance**\n",
    "\n",
    "As you can see above, SCIENCE category has almost 1/3rd data samples compared to BUSINESS and SPORTS categories. I initially trained a model without handling the imbalanced I saw a lower f1-score for SCIENCE category. Hence we need to address this imbalanced. \n",
    "\n",
    "There are various ways of handling class imbalance which I have discussed in this video: https://www.youtube.com/watch?v=JnlM4yLFNuo\n",
    "\n",
    "\n",
    "Out of those techniques, I will use **undersampling** technique here. \n",
    "\n",
    "In undersampling, we take a minor class and sample those many samples from other classes, this means we are not utilizing all the data samples for training and in ML world - Not using all the data for training is considered a SIN! 😵 In real life, you are advised to use a technique such as SMOTE so that you can utilize all of your dataset for the training but since this tutorial is more about bag of n-grams then class imbalance itself, I'd go with a simple technique of undersampling. "
   ]
  },
  {
   "cell_type": "code",
   "execution_count": 14,
   "id": "f3b2776c",
   "metadata": {
    "execution": {
     "iopub.execute_input": "2023-08-15T13:10:17.765996Z",
     "iopub.status.busy": "2023-08-15T13:10:17.765599Z",
     "iopub.status.idle": "2023-08-15T13:10:17.787477Z",
     "shell.execute_reply": "2023-08-15T13:10:17.786789Z"
    },
    "papermill": {
     "duration": 0.039921,
     "end_time": "2023-08-15T13:10:17.789747",
     "exception": false,
     "start_time": "2023-08-15T13:10:17.749826",
     "status": "completed"
    },
    "tags": []
   },
   "outputs": [],
   "source": [
    "min_samples = 1381 # we have these many SCIENCE articles and SCIENCE is our minority class\n",
    "\n",
    "\n",
    "df_business = df[df.category==\"BUSINESS\"].sample(min_samples, random_state=2022)\n",
    "df_sports = df[df.category==\"SPORTS\"].sample(min_samples, random_state=2022)\n",
    "df_crime = df[df.category==\"CRIME\"].sample(min_samples, random_state=2022)\n",
    "df_science = df[df.category==\"SCIENCE\"].sample(min_samples, random_state=2022)"
   ]
  },
  {
   "cell_type": "code",
   "execution_count": 15,
   "id": "92734563",
   "metadata": {
    "execution": {
     "iopub.execute_input": "2023-08-15T13:10:17.821673Z",
     "iopub.status.busy": "2023-08-15T13:10:17.821033Z",
     "iopub.status.idle": "2023-08-15T13:10:17.830723Z",
     "shell.execute_reply": "2023-08-15T13:10:17.830020Z"
    },
    "papermill": {
     "duration": 0.027942,
     "end_time": "2023-08-15T13:10:17.832525",
     "exception": false,
     "start_time": "2023-08-15T13:10:17.804583",
     "status": "completed"
    },
    "scrolled": true,
    "tags": []
   },
   "outputs": [
    {
     "data": {
      "text/plain": [
       "BUSINESS    1381\n",
       "SPORTS      1381\n",
       "CRIME       1381\n",
       "SCIENCE     1381\n",
       "Name: category, dtype: int64"
      ]
     },
     "execution_count": 15,
     "metadata": {},
     "output_type": "execute_result"
    }
   ],
   "source": [
    "df_balanced = pd.concat([df_business,df_sports,df_crime,df_science],axis=0)\n",
    "df_balanced.category.value_counts()"
   ]
  },
  {
   "cell_type": "markdown",
   "id": "d543d370",
   "metadata": {
    "papermill": {
     "duration": 0.014491,
     "end_time": "2023-08-15T13:10:17.862081",
     "exception": false,
     "start_time": "2023-08-15T13:10:17.847590",
     "status": "completed"
    },
    "tags": []
   },
   "source": [
    "**Convert text category to a number**"
   ]
  },
  {
   "cell_type": "code",
   "execution_count": 16,
   "id": "1ff2bbdb",
   "metadata": {
    "execution": {
     "iopub.execute_input": "2023-08-15T13:10:17.894524Z",
     "iopub.status.busy": "2023-08-15T13:10:17.893798Z",
     "iopub.status.idle": "2023-08-15T13:10:17.904439Z",
     "shell.execute_reply": "2023-08-15T13:10:17.903379Z"
    },
    "papermill": {
     "duration": 0.029084,
     "end_time": "2023-08-15T13:10:17.906566",
     "exception": false,
     "start_time": "2023-08-15T13:10:17.877482",
     "status": "completed"
    },
    "tags": []
   },
   "outputs": [],
   "source": [
    "target = {'BUSINESS': 0, 'SPORTS': 1, 'CRIME': 2, 'SCIENCE': 3}\n",
    "\n",
    "df_balanced['category_num'] = df_balanced['category'].map({\n",
    "    'BUSINESS': 0,\n",
    "    'SPORTS': 1, \n",
    "    'CRIME': 2, \n",
    "    'SCIENCE': 3\n",
    "})"
   ]
  },
  {
   "cell_type": "code",
   "execution_count": 17,
   "id": "5b7f8011",
   "metadata": {
    "execution": {
     "iopub.execute_input": "2023-08-15T13:10:17.937117Z",
     "iopub.status.busy": "2023-08-15T13:10:17.936798Z",
     "iopub.status.idle": "2023-08-15T13:10:17.947368Z",
     "shell.execute_reply": "2023-08-15T13:10:17.946410Z"
    },
    "papermill": {
     "duration": 0.028405,
     "end_time": "2023-08-15T13:10:17.949448",
     "exception": false,
     "start_time": "2023-08-15T13:10:17.921043",
     "status": "completed"
    },
    "tags": []
   },
   "outputs": [
    {
     "data": {
      "text/html": [
       "<div>\n",
       "<style scoped>\n",
       "    .dataframe tbody tr th:only-of-type {\n",
       "        vertical-align: middle;\n",
       "    }\n",
       "\n",
       "    .dataframe tbody tr th {\n",
       "        vertical-align: top;\n",
       "    }\n",
       "\n",
       "    .dataframe thead th {\n",
       "        text-align: right;\n",
       "    }\n",
       "</style>\n",
       "<table border=\"1\" class=\"dataframe\">\n",
       "  <thead>\n",
       "    <tr style=\"text-align: right;\">\n",
       "      <th></th>\n",
       "      <th>text</th>\n",
       "      <th>category</th>\n",
       "      <th>category_num</th>\n",
       "    </tr>\n",
       "  </thead>\n",
       "  <tbody>\n",
       "    <tr>\n",
       "      <th>11967</th>\n",
       "      <td>GCC Business Leaders Remain Confident in the F...</td>\n",
       "      <td>BUSINESS</td>\n",
       "      <td>0</td>\n",
       "    </tr>\n",
       "    <tr>\n",
       "      <th>2912</th>\n",
       "      <td>From the Other Side; an Honest Review from Emp...</td>\n",
       "      <td>BUSINESS</td>\n",
       "      <td>0</td>\n",
       "    </tr>\n",
       "    <tr>\n",
       "      <th>3408</th>\n",
       "      <td>Mike McDerment, CEO of FreshBooks, Talks About...</td>\n",
       "      <td>BUSINESS</td>\n",
       "      <td>0</td>\n",
       "    </tr>\n",
       "    <tr>\n",
       "      <th>502</th>\n",
       "      <td>How to Market Your Business While Traveling th...</td>\n",
       "      <td>BUSINESS</td>\n",
       "      <td>0</td>\n",
       "    </tr>\n",
       "    <tr>\n",
       "      <th>5279</th>\n",
       "      <td>How to Leverage Intuition in Decision-making I...</td>\n",
       "      <td>BUSINESS</td>\n",
       "      <td>0</td>\n",
       "    </tr>\n",
       "  </tbody>\n",
       "</table>\n",
       "</div>"
      ],
      "text/plain": [
       "                                                    text  category  \\\n",
       "11967  GCC Business Leaders Remain Confident in the F...  BUSINESS   \n",
       "2912   From the Other Side; an Honest Review from Emp...  BUSINESS   \n",
       "3408   Mike McDerment, CEO of FreshBooks, Talks About...  BUSINESS   \n",
       "502    How to Market Your Business While Traveling th...  BUSINESS   \n",
       "5279   How to Leverage Intuition in Decision-making I...  BUSINESS   \n",
       "\n",
       "       category_num  \n",
       "11967             0  \n",
       "2912              0  \n",
       "3408              0  \n",
       "502               0  \n",
       "5279              0  "
      ]
     },
     "execution_count": 17,
     "metadata": {},
     "output_type": "execute_result"
    }
   ],
   "source": [
    "df_balanced.head()"
   ]
  },
  {
   "cell_type": "markdown",
   "id": "44638fe4",
   "metadata": {
    "papermill": {
     "duration": 0.014953,
     "end_time": "2023-08-15T13:10:17.979483",
     "exception": false,
     "start_time": "2023-08-15T13:10:17.964530",
     "status": "completed"
    },
    "tags": []
   },
   "source": [
    "**Build a model with original text (no pre processing)**"
   ]
  },
  {
   "cell_type": "code",
   "execution_count": 18,
   "id": "1ac8e1b4",
   "metadata": {
    "execution": {
     "iopub.execute_input": "2023-08-15T13:10:18.011855Z",
     "iopub.status.busy": "2023-08-15T13:10:18.011418Z",
     "iopub.status.idle": "2023-08-15T13:10:18.110801Z",
     "shell.execute_reply": "2023-08-15T13:10:18.109689Z"
    },
    "papermill": {
     "duration": 0.118752,
     "end_time": "2023-08-15T13:10:18.113456",
     "exception": false,
     "start_time": "2023-08-15T13:10:17.994704",
     "status": "completed"
    },
    "tags": []
   },
   "outputs": [],
   "source": [
    "from sklearn.model_selection import train_test_split\n",
    "\n",
    "X_train, X_test, y_train, y_test = train_test_split(\n",
    "    df_balanced.text, \n",
    "    df_balanced.category_num, \n",
    "    test_size=0.2, # 20% samples will go to test dataset\n",
    "    random_state=2022,\n",
    "    stratify=df_balanced.category_num\n",
    ")"
   ]
  },
  {
   "cell_type": "code",
   "execution_count": 19,
   "id": "090209c5",
   "metadata": {
    "execution": {
     "iopub.execute_input": "2023-08-15T13:10:18.145169Z",
     "iopub.status.busy": "2023-08-15T13:10:18.144800Z",
     "iopub.status.idle": "2023-08-15T13:10:18.152606Z",
     "shell.execute_reply": "2023-08-15T13:10:18.151566Z"
    },
    "papermill": {
     "duration": 0.025555,
     "end_time": "2023-08-15T13:10:18.154613",
     "exception": false,
     "start_time": "2023-08-15T13:10:18.129058",
     "status": "completed"
    },
    "tags": []
   },
   "outputs": [
    {
     "name": "stdout",
     "output_type": "stream",
     "text": [
      "(4419,)\n"
     ]
    },
    {
     "data": {
      "text/plain": [
       "7589     Ovulating Women Prefer Images of Penetration O...\n",
       "10442    Scientists Discover Spooky Influence On Baby N...\n",
       "8792     Olympic Race Walker Steps Up To Propose To His...\n",
       "1733     Beloved Bipedal Bear Named Pedals Believed Kil...\n",
       "2526     Elizabeth Smart Gave Birth To Baby Girl, Fathe...\n",
       "Name: text, dtype: object"
      ]
     },
     "execution_count": 19,
     "metadata": {},
     "output_type": "execute_result"
    }
   ],
   "source": [
    "print(X_train.shape)\n",
    "X_train.head()"
   ]
  },
  {
   "cell_type": "code",
   "execution_count": 20,
   "id": "780fb14c",
   "metadata": {
    "execution": {
     "iopub.execute_input": "2023-08-15T13:10:18.186774Z",
     "iopub.status.busy": "2023-08-15T13:10:18.186433Z",
     "iopub.status.idle": "2023-08-15T13:10:18.193532Z",
     "shell.execute_reply": "2023-08-15T13:10:18.192925Z"
    },
    "papermill": {
     "duration": 0.025189,
     "end_time": "2023-08-15T13:10:18.195463",
     "exception": false,
     "start_time": "2023-08-15T13:10:18.170274",
     "status": "completed"
    },
    "tags": []
   },
   "outputs": [
    {
     "data": {
      "text/plain": [
       "3    1105\n",
       "2    1105\n",
       "0    1105\n",
       "1    1104\n",
       "Name: category_num, dtype: int64"
      ]
     },
     "execution_count": 20,
     "metadata": {},
     "output_type": "execute_result"
    }
   ],
   "source": [
    "y_train.value_counts()"
   ]
  },
  {
   "cell_type": "code",
   "execution_count": 21,
   "id": "5b17a82f",
   "metadata": {
    "execution": {
     "iopub.execute_input": "2023-08-15T13:10:18.228812Z",
     "iopub.status.busy": "2023-08-15T13:10:18.227869Z",
     "iopub.status.idle": "2023-08-15T13:10:18.234536Z",
     "shell.execute_reply": "2023-08-15T13:10:18.233665Z"
    },
    "papermill": {
     "duration": 0.025137,
     "end_time": "2023-08-15T13:10:18.236672",
     "exception": false,
     "start_time": "2023-08-15T13:10:18.211535",
     "status": "completed"
    },
    "tags": []
   },
   "outputs": [
    {
     "data": {
      "text/plain": [
       "1    277\n",
       "0    276\n",
       "3    276\n",
       "2    276\n",
       "Name: category_num, dtype: int64"
      ]
     },
     "execution_count": 21,
     "metadata": {},
     "output_type": "execute_result"
    }
   ],
   "source": [
    "y_test.value_counts()"
   ]
  },
  {
   "cell_type": "markdown",
   "id": "7d05f962",
   "metadata": {
    "papermill": {
     "duration": 0.015461,
     "end_time": "2023-08-15T13:10:18.267683",
     "exception": false,
     "start_time": "2023-08-15T13:10:18.252222",
     "status": "completed"
    },
    "tags": []
   },
   "source": [
    "**Attempt 1 : Use 1-gram which is nothing but a Bag Of Words (BOW) model**"
   ]
  },
  {
   "cell_type": "code",
   "execution_count": 22,
   "id": "ad3c088e",
   "metadata": {
    "execution": {
     "iopub.execute_input": "2023-08-15T13:10:18.300344Z",
     "iopub.status.busy": "2023-08-15T13:10:18.300031Z",
     "iopub.status.idle": "2023-08-15T13:10:18.542130Z",
     "shell.execute_reply": "2023-08-15T13:10:18.541024Z"
    },
    "papermill": {
     "duration": 0.26137,
     "end_time": "2023-08-15T13:10:18.545329",
     "exception": false,
     "start_time": "2023-08-15T13:10:18.283959",
     "status": "completed"
    },
    "tags": []
   },
   "outputs": [
    {
     "name": "stdout",
     "output_type": "stream",
     "text": [
      "              precision    recall  f1-score   support\n",
      "\n",
      "           0       0.75      0.87      0.81       276\n",
      "           1       0.93      0.80      0.86       277\n",
      "           2       0.83      0.90      0.86       276\n",
      "           3       0.90      0.80      0.85       276\n",
      "\n",
      "    accuracy                           0.84      1105\n",
      "   macro avg       0.85      0.84      0.84      1105\n",
      "weighted avg       0.85      0.84      0.84      1105\n",
      "\n"
     ]
    }
   ],
   "source": [
    "from sklearn.naive_bayes import MultinomialNB\n",
    "from sklearn.pipeline import Pipeline\n",
    "from sklearn.metrics import classification_report\n",
    "\n",
    "#1. create a pipeline object\n",
    "clf = Pipeline([\n",
    "     ('vectorizer_bow', CountVectorizer(ngram_range = (1, 1))),        #using the ngram_range parameter \n",
    "     ('Multi NB', MultinomialNB())         \n",
    "])\n",
    "\n",
    "#2. fit with X_train and y_train\n",
    "clf.fit(X_train, y_train)\n",
    "\n",
    "\n",
    "#3. get the predictions for X_test and store it in y_pred\n",
    "y_pred = clf.predict(X_test)\n",
    "\n",
    "\n",
    "#4. print the classfication report\n",
    "print(classification_report(y_test, y_pred))"
   ]
  },
  {
   "cell_type": "code",
   "execution_count": 23,
   "id": "e275616e",
   "metadata": {
    "execution": {
     "iopub.execute_input": "2023-08-15T13:10:18.578854Z",
     "iopub.status.busy": "2023-08-15T13:10:18.578542Z",
     "iopub.status.idle": "2023-08-15T13:10:18.584858Z",
     "shell.execute_reply": "2023-08-15T13:10:18.584135Z"
    },
    "papermill": {
     "duration": 0.025801,
     "end_time": "2023-08-15T13:10:18.587144",
     "exception": false,
     "start_time": "2023-08-15T13:10:18.561343",
     "status": "completed"
    },
    "scrolled": true,
    "tags": []
   },
   "outputs": [
    {
     "data": {
      "text/plain": [
       "3716     African Nation Slaps Exxon With Fine Nearly 7 ...\n",
       "608      These Cringe-Worthy Stories Show It Can Be Har...\n",
       "11172    LISTEN: The Accidental Discovery That Proved T...\n",
       "1346     Build Loyalty -- The Cost -- $00.00 Remember y...\n",
       "1356     Man Killed By Michigan Police Wasn't Targeting...\n",
       "Name: text, dtype: object"
      ]
     },
     "execution_count": 23,
     "metadata": {},
     "output_type": "execute_result"
    }
   ],
   "source": [
    "X_test[:5]"
   ]
  },
  {
   "cell_type": "markdown",
   "id": "4d5da4e7",
   "metadata": {
    "papermill": {
     "duration": 0.01555,
     "end_time": "2023-08-15T13:10:18.618191",
     "exception": false,
     "start_time": "2023-08-15T13:10:18.602641",
     "status": "completed"
    },
    "tags": []
   },
   "source": [
    "- BUSINESS: 0\n",
    "- SPORTS: 1\n",
    "- CRIME: 2\n",
    "- SCIENCE: 3"
   ]
  },
  {
   "cell_type": "code",
   "execution_count": 24,
   "id": "a2f6f4fd",
   "metadata": {
    "execution": {
     "iopub.execute_input": "2023-08-15T13:10:18.651578Z",
     "iopub.status.busy": "2023-08-15T13:10:18.651271Z",
     "iopub.status.idle": "2023-08-15T13:10:18.657494Z",
     "shell.execute_reply": "2023-08-15T13:10:18.656516Z"
    },
    "papermill": {
     "duration": 0.026247,
     "end_time": "2023-08-15T13:10:18.659564",
     "exception": false,
     "start_time": "2023-08-15T13:10:18.633317",
     "status": "completed"
    },
    "tags": []
   },
   "outputs": [
    {
     "data": {
      "text/plain": [
       "array([0, 3, 3, 0, 2])"
      ]
     },
     "execution_count": 24,
     "metadata": {},
     "output_type": "execute_result"
    }
   ],
   "source": [
    "y_pred[:5]"
   ]
  },
  {
   "cell_type": "code",
   "execution_count": 25,
   "id": "dd482ca9",
   "metadata": {
    "execution": {
     "iopub.execute_input": "2023-08-15T13:10:18.692845Z",
     "iopub.status.busy": "2023-08-15T13:10:18.692517Z",
     "iopub.status.idle": "2023-08-15T13:10:18.699073Z",
     "shell.execute_reply": "2023-08-15T13:10:18.698322Z"
    },
    "papermill": {
     "duration": 0.025269,
     "end_time": "2023-08-15T13:10:18.700968",
     "exception": false,
     "start_time": "2023-08-15T13:10:18.675699",
     "status": "completed"
    },
    "tags": []
   },
   "outputs": [
    {
     "data": {
      "text/plain": [
       "3716     0\n",
       "608      3\n",
       "11172    3\n",
       "1346     0\n",
       "1356     2\n",
       "Name: category_num, dtype: int64"
      ]
     },
     "execution_count": 25,
     "metadata": {},
     "output_type": "execute_result"
    }
   ],
   "source": [
    "y_test[:5]"
   ]
  },
  {
   "cell_type": "markdown",
   "id": "8ed7edfc",
   "metadata": {
    "papermill": {
     "duration": 0.015768,
     "end_time": "2023-08-15T13:10:18.733133",
     "exception": false,
     "start_time": "2023-08-15T13:10:18.717365",
     "status": "completed"
    },
    "tags": []
   },
   "source": [
    "**Attempt 2 : Use 1-gram and bigrams**"
   ]
  },
  {
   "cell_type": "code",
   "execution_count": 26,
   "id": "35380ade",
   "metadata": {
    "execution": {
     "iopub.execute_input": "2023-08-15T13:10:18.767350Z",
     "iopub.status.busy": "2023-08-15T13:10:18.766797Z",
     "iopub.status.idle": "2023-08-15T13:10:19.340677Z",
     "shell.execute_reply": "2023-08-15T13:10:19.339706Z"
    },
    "papermill": {
     "duration": 0.594276,
     "end_time": "2023-08-15T13:10:19.343847",
     "exception": false,
     "start_time": "2023-08-15T13:10:18.749571",
     "status": "completed"
    },
    "scrolled": true,
    "tags": []
   },
   "outputs": [
    {
     "name": "stdout",
     "output_type": "stream",
     "text": [
      "              precision    recall  f1-score   support\n",
      "\n",
      "           0       0.69      0.90      0.78       276\n",
      "           1       0.95      0.74      0.83       277\n",
      "           2       0.82      0.88      0.85       276\n",
      "           3       0.92      0.78      0.84       276\n",
      "\n",
      "    accuracy                           0.82      1105\n",
      "   macro avg       0.85      0.82      0.83      1105\n",
      "weighted avg       0.85      0.82      0.83      1105\n",
      "\n"
     ]
    }
   ],
   "source": [
    "#1. create a pipeline object\n",
    "clf = Pipeline([\n",
    "    ('vectorizer_1_2_gram', CountVectorizer(ngram_range = (1, 2))),        #using the ngram_range parameter \n",
    "     ('Multi NB', MultinomialNB())         \n",
    "])\n",
    "\n",
    "#2. fit with X_train and y_train\n",
    "clf.fit(X_train, y_train)\n",
    "\n",
    "\n",
    "#3. get the predictions for X_test and store it in y_pred\n",
    "y_pred = clf.predict(X_test)\n",
    "\n",
    "\n",
    "#4. print the classfication report\n",
    "print(classification_report(y_test, y_pred))"
   ]
  },
  {
   "cell_type": "markdown",
   "id": "00290abd",
   "metadata": {
    "papermill": {
     "duration": 0.017229,
     "end_time": "2023-08-15T13:10:19.378811",
     "exception": false,
     "start_time": "2023-08-15T13:10:19.361582",
     "status": "completed"
    },
    "tags": []
   },
   "source": [
    "**Attempt 3 : Use 1-gram to trigrams**"
   ]
  },
  {
   "cell_type": "code",
   "execution_count": 27,
   "id": "b4368ab2",
   "metadata": {
    "execution": {
     "iopub.execute_input": "2023-08-15T13:10:19.414491Z",
     "iopub.status.busy": "2023-08-15T13:10:19.414120Z",
     "iopub.status.idle": "2023-08-15T13:10:20.436459Z",
     "shell.execute_reply": "2023-08-15T13:10:20.434890Z"
    },
    "papermill": {
     "duration": 1.043635,
     "end_time": "2023-08-15T13:10:20.439258",
     "exception": false,
     "start_time": "2023-08-15T13:10:19.395623",
     "status": "completed"
    },
    "tags": []
   },
   "outputs": [
    {
     "name": "stdout",
     "output_type": "stream",
     "text": [
      "              precision    recall  f1-score   support\n",
      "\n",
      "           0       0.67      0.91      0.77       276\n",
      "           1       0.96      0.73      0.83       277\n",
      "           2       0.83      0.87      0.85       276\n",
      "           3       0.93      0.76      0.83       276\n",
      "\n",
      "    accuracy                           0.82      1105\n",
      "   macro avg       0.84      0.82      0.82      1105\n",
      "weighted avg       0.84      0.82      0.82      1105\n",
      "\n"
     ]
    }
   ],
   "source": [
    "#1. create a pipeline object\n",
    "clf = Pipeline([\n",
    "    ('vectorizer_1_3_grams', CountVectorizer(ngram_range = (1, 3))),        #using the ngram_range parameter \n",
    "     ('Multi NB', MultinomialNB())         \n",
    "])\n",
    "\n",
    "#2. fit with X_train and y_train\n",
    "clf.fit(X_train, y_train)\n",
    "\n",
    "\n",
    "#3. get the predictions for X_test and store it in y_pred\n",
    "y_pred = clf.predict(X_test)\n",
    "\n",
    "\n",
    "#4. print the classfication report\n",
    "print(classification_report(y_test, y_pred))"
   ]
  },
  {
   "cell_type": "markdown",
   "id": "b45ffdeb",
   "metadata": {
    "papermill": {
     "duration": 0.015923,
     "end_time": "2023-08-15T13:10:20.472388",
     "exception": false,
     "start_time": "2023-08-15T13:10:20.456465",
     "status": "completed"
    },
    "tags": []
   },
   "source": [
    "### Use text pre-processing to remove stop words, punctuations and apply lemmatization"
   ]
  },
  {
   "cell_type": "markdown",
   "id": "473d39e8",
   "metadata": {
    "papermill": {
     "duration": 0.016212,
     "end_time": "2023-08-15T13:10:20.505293",
     "exception": false,
     "start_time": "2023-08-15T13:10:20.489081",
     "status": "completed"
    },
    "tags": []
   },
   "source": [
    "You may wonder, we have not done any text-processing yet to remove stop words, punctuations, apply lemmatization etc. Well we wanted to train the model without any preprocessing first and check the performance. Now we will re-do same thing but with preprocessing of text"
   ]
  },
  {
   "cell_type": "code",
   "execution_count": 28,
   "id": "0bef8eb9",
   "metadata": {
    "execution": {
     "iopub.execute_input": "2023-08-15T13:10:20.539886Z",
     "iopub.status.busy": "2023-08-15T13:10:20.539193Z",
     "iopub.status.idle": "2023-08-15T13:11:14.351278Z",
     "shell.execute_reply": "2023-08-15T13:11:14.350389Z"
    },
    "papermill": {
     "duration": 53.832239,
     "end_time": "2023-08-15T13:11:14.353721",
     "exception": false,
     "start_time": "2023-08-15T13:10:20.521482",
     "status": "completed"
    },
    "tags": []
   },
   "outputs": [],
   "source": [
    "df_balanced['preprocessed_txt'] = df_balanced['text'].apply(preprocess) "
   ]
  },
  {
   "cell_type": "code",
   "execution_count": 29,
   "id": "a78cfcd5",
   "metadata": {
    "execution": {
     "iopub.execute_input": "2023-08-15T13:11:14.389713Z",
     "iopub.status.busy": "2023-08-15T13:11:14.389065Z",
     "iopub.status.idle": "2023-08-15T13:11:14.401763Z",
     "shell.execute_reply": "2023-08-15T13:11:14.400681Z"
    },
    "papermill": {
     "duration": 0.033108,
     "end_time": "2023-08-15T13:11:14.404123",
     "exception": false,
     "start_time": "2023-08-15T13:11:14.371015",
     "status": "completed"
    },
    "scrolled": true,
    "tags": []
   },
   "outputs": [
    {
     "data": {
      "text/html": [
       "<div>\n",
       "<style scoped>\n",
       "    .dataframe tbody tr th:only-of-type {\n",
       "        vertical-align: middle;\n",
       "    }\n",
       "\n",
       "    .dataframe tbody tr th {\n",
       "        vertical-align: top;\n",
       "    }\n",
       "\n",
       "    .dataframe thead th {\n",
       "        text-align: right;\n",
       "    }\n",
       "</style>\n",
       "<table border=\"1\" class=\"dataframe\">\n",
       "  <thead>\n",
       "    <tr style=\"text-align: right;\">\n",
       "      <th></th>\n",
       "      <th>text</th>\n",
       "      <th>category</th>\n",
       "      <th>category_num</th>\n",
       "      <th>preprocessed_txt</th>\n",
       "    </tr>\n",
       "  </thead>\n",
       "  <tbody>\n",
       "    <tr>\n",
       "      <th>11967</th>\n",
       "      <td>GCC Business Leaders Remain Confident in the F...</td>\n",
       "      <td>BUSINESS</td>\n",
       "      <td>0</td>\n",
       "      <td>GCC Business Leaders remain Confident Face Reg...</td>\n",
       "    </tr>\n",
       "    <tr>\n",
       "      <th>2912</th>\n",
       "      <td>From the Other Side; an Honest Review from Emp...</td>\n",
       "      <td>BUSINESS</td>\n",
       "      <td>0</td>\n",
       "      <td>Honest Review employee wake morning love impor...</td>\n",
       "    </tr>\n",
       "    <tr>\n",
       "      <th>3408</th>\n",
       "      <td>Mike McDerment, CEO of FreshBooks, Talks About...</td>\n",
       "      <td>BUSINESS</td>\n",
       "      <td>0</td>\n",
       "      <td>Mike McDerment ceo FreshBooks Talks give build...</td>\n",
       "    </tr>\n",
       "    <tr>\n",
       "      <th>502</th>\n",
       "      <td>How to Market Your Business While Traveling th...</td>\n",
       "      <td>BUSINESS</td>\n",
       "      <td>0</td>\n",
       "      <td>market business travel World recently amazing ...</td>\n",
       "    </tr>\n",
       "    <tr>\n",
       "      <th>5279</th>\n",
       "      <td>How to Leverage Intuition in Decision-making I...</td>\n",
       "      <td>BUSINESS</td>\n",
       "      <td>0</td>\n",
       "      <td>Leverage intuition decision making feel safe r...</td>\n",
       "    </tr>\n",
       "  </tbody>\n",
       "</table>\n",
       "</div>"
      ],
      "text/plain": [
       "                                                    text  category  \\\n",
       "11967  GCC Business Leaders Remain Confident in the F...  BUSINESS   \n",
       "2912   From the Other Side; an Honest Review from Emp...  BUSINESS   \n",
       "3408   Mike McDerment, CEO of FreshBooks, Talks About...  BUSINESS   \n",
       "502    How to Market Your Business While Traveling th...  BUSINESS   \n",
       "5279   How to Leverage Intuition in Decision-making I...  BUSINESS   \n",
       "\n",
       "       category_num                                   preprocessed_txt  \n",
       "11967             0  GCC Business Leaders remain Confident Face Reg...  \n",
       "2912              0  Honest Review employee wake morning love impor...  \n",
       "3408              0  Mike McDerment ceo FreshBooks Talks give build...  \n",
       "502               0  market business travel World recently amazing ...  \n",
       "5279              0  Leverage intuition decision making feel safe r...  "
      ]
     },
     "execution_count": 29,
     "metadata": {},
     "output_type": "execute_result"
    }
   ],
   "source": [
    "df_balanced.head()"
   ]
  },
  {
   "cell_type": "markdown",
   "id": "346ab948",
   "metadata": {
    "papermill": {
     "duration": 0.017138,
     "end_time": "2023-08-15T13:11:14.438505",
     "exception": false,
     "start_time": "2023-08-15T13:11:14.421367",
     "status": "completed"
    },
    "tags": []
   },
   "source": [
    "**Build a model with pre processed text**"
   ]
  },
  {
   "cell_type": "code",
   "execution_count": 30,
   "id": "005775da",
   "metadata": {
    "execution": {
     "iopub.execute_input": "2023-08-15T13:11:14.476517Z",
     "iopub.status.busy": "2023-08-15T13:11:14.475961Z",
     "iopub.status.idle": "2023-08-15T13:11:14.485393Z",
     "shell.execute_reply": "2023-08-15T13:11:14.484688Z"
    },
    "papermill": {
     "duration": 0.031039,
     "end_time": "2023-08-15T13:11:14.487287",
     "exception": false,
     "start_time": "2023-08-15T13:11:14.456248",
     "status": "completed"
    },
    "tags": []
   },
   "outputs": [],
   "source": [
    "X_train, X_test, y_train, y_test = train_test_split(\n",
    "    df_balanced.preprocessed_txt, \n",
    "    df_balanced.category_num, \n",
    "    test_size=0.2, # 20% samples will go to test dataset\n",
    "    random_state=2022,\n",
    "    stratify=df_balanced.category_num\n",
    ")"
   ]
  },
  {
   "cell_type": "code",
   "execution_count": 31,
   "id": "4547fee3",
   "metadata": {
    "execution": {
     "iopub.execute_input": "2023-08-15T13:11:14.523762Z",
     "iopub.status.busy": "2023-08-15T13:11:14.523161Z",
     "iopub.status.idle": "2023-08-15T13:11:14.531463Z",
     "shell.execute_reply": "2023-08-15T13:11:14.530440Z"
    },
    "papermill": {
     "duration": 0.028952,
     "end_time": "2023-08-15T13:11:14.533480",
     "exception": false,
     "start_time": "2023-08-15T13:11:14.504528",
     "status": "completed"
    },
    "tags": []
   },
   "outputs": [
    {
     "name": "stdout",
     "output_type": "stream",
     "text": [
      "(4419,)\n"
     ]
    },
    {
     "data": {
      "text/plain": [
       "7589     ovulate woman prefer Images Penetration Images...\n",
       "10442     scientist Discover Spooky Influence Baby Choices\n",
       "8792     Olympic Race Walker step Propose Boyfriend Rio...\n",
       "1733     Beloved Bipedal Bear name Pedals believe kill ...\n",
       "2526       Elizabeth Smart give Birth Baby Girl Father say\n",
       "Name: preprocessed_txt, dtype: object"
      ]
     },
     "execution_count": 31,
     "metadata": {},
     "output_type": "execute_result"
    }
   ],
   "source": [
    "print(X_train.shape)\n",
    "X_train.head()"
   ]
  },
  {
   "cell_type": "code",
   "execution_count": 32,
   "id": "5b48cc26",
   "metadata": {
    "execution": {
     "iopub.execute_input": "2023-08-15T13:11:14.570236Z",
     "iopub.status.busy": "2023-08-15T13:11:14.569674Z",
     "iopub.status.idle": "2023-08-15T13:11:14.576350Z",
     "shell.execute_reply": "2023-08-15T13:11:14.575677Z"
    },
    "papermill": {
     "duration": 0.026983,
     "end_time": "2023-08-15T13:11:14.577993",
     "exception": false,
     "start_time": "2023-08-15T13:11:14.551010",
     "status": "completed"
    },
    "tags": []
   },
   "outputs": [
    {
     "data": {
      "text/plain": [
       "3    1105\n",
       "2    1105\n",
       "0    1105\n",
       "1    1104\n",
       "Name: category_num, dtype: int64"
      ]
     },
     "execution_count": 32,
     "metadata": {},
     "output_type": "execute_result"
    }
   ],
   "source": [
    "y_train.value_counts()"
   ]
  },
  {
   "cell_type": "code",
   "execution_count": 33,
   "id": "d1599f64",
   "metadata": {
    "execution": {
     "iopub.execute_input": "2023-08-15T13:11:14.613720Z",
     "iopub.status.busy": "2023-08-15T13:11:14.613290Z",
     "iopub.status.idle": "2023-08-15T13:11:14.619485Z",
     "shell.execute_reply": "2023-08-15T13:11:14.618680Z"
    },
    "papermill": {
     "duration": 0.026216,
     "end_time": "2023-08-15T13:11:14.621418",
     "exception": false,
     "start_time": "2023-08-15T13:11:14.595202",
     "status": "completed"
    },
    "tags": []
   },
   "outputs": [
    {
     "data": {
      "text/plain": [
       "1    277\n",
       "0    276\n",
       "3    276\n",
       "2    276\n",
       "Name: category_num, dtype: int64"
      ]
     },
     "execution_count": 33,
     "metadata": {},
     "output_type": "execute_result"
    }
   ],
   "source": [
    "y_test.value_counts()"
   ]
  },
  {
   "cell_type": "code",
   "execution_count": 34,
   "id": "694f4f5f",
   "metadata": {
    "execution": {
     "iopub.execute_input": "2023-08-15T13:11:14.658137Z",
     "iopub.status.busy": "2023-08-15T13:11:14.657560Z",
     "iopub.status.idle": "2023-08-15T13:11:15.051512Z",
     "shell.execute_reply": "2023-08-15T13:11:15.050055Z"
    },
    "papermill": {
     "duration": 0.414953,
     "end_time": "2023-08-15T13:11:15.053819",
     "exception": false,
     "start_time": "2023-08-15T13:11:14.638866",
     "status": "completed"
    },
    "scrolled": true,
    "tags": []
   },
   "outputs": [
    {
     "name": "stdout",
     "output_type": "stream",
     "text": [
      "              precision    recall  f1-score   support\n",
      "\n",
      "           0       0.80      0.88      0.84       276\n",
      "           1       0.92      0.82      0.87       277\n",
      "           2       0.83      0.92      0.87       276\n",
      "           3       0.90      0.81      0.85       276\n",
      "\n",
      "    accuracy                           0.86      1105\n",
      "   macro avg       0.86      0.86      0.86      1105\n",
      "weighted avg       0.86      0.86      0.86      1105\n",
      "\n"
     ]
    }
   ],
   "source": [
    "#1. create a pipeline object\n",
    "clf = Pipeline([\n",
    "    ('vectorizer_bow', CountVectorizer(ngram_range = (1, 2))),        #using the ngram_range parameter \n",
    "    ('Multi NB', MultinomialNB())\n",
    "])\n",
    "\n",
    "#2. fit with X_train and y_train\n",
    "clf.fit(X_train, y_train)\n",
    "\n",
    "\n",
    "#3. get the predictions for X_test and store it in y_pred\n",
    "y_pred = clf.predict(X_test)\n",
    "\n",
    "\n",
    "#4. print the classfication report\n",
    "print(classification_report(y_test, y_pred))"
   ]
  },
  {
   "cell_type": "markdown",
   "id": "ac021ee9",
   "metadata": {
    "papermill": {
     "duration": 0.017688,
     "end_time": "2023-08-15T13:11:15.090629",
     "exception": false,
     "start_time": "2023-08-15T13:11:15.072941",
     "status": "completed"
    },
    "tags": []
   },
   "source": [
    "If you compare above classification report for (1,2) gram with the one from unprocessed text, you will find some improvement in the model that uses preprocessed cleaned up text. Hence we can conclude that for this particular problem using preprocessing (removing stop words, lemmatization) is improving the performance of the model"
   ]
  },
  {
   "cell_type": "markdown",
   "id": "013c3571",
   "metadata": {
    "papermill": {
     "duration": 0.017747,
     "end_time": "2023-08-15T13:11:15.126110",
     "exception": false,
     "start_time": "2023-08-15T13:11:15.108363",
     "status": "completed"
    },
    "tags": []
   },
   "source": [
    "**Plot confusion matrix**"
   ]
  },
  {
   "cell_type": "code",
   "execution_count": 35,
   "id": "044ab8bc",
   "metadata": {
    "execution": {
     "iopub.execute_input": "2023-08-15T13:11:15.162618Z",
     "iopub.status.busy": "2023-08-15T13:11:15.162019Z",
     "iopub.status.idle": "2023-08-15T13:11:15.170752Z",
     "shell.execute_reply": "2023-08-15T13:11:15.169884Z"
    },
    "papermill": {
     "duration": 0.02926,
     "end_time": "2023-08-15T13:11:15.172574",
     "exception": false,
     "start_time": "2023-08-15T13:11:15.143314",
     "status": "completed"
    },
    "tags": []
   },
   "outputs": [
    {
     "data": {
      "text/plain": [
       "array([[243,   8,  17,   8],\n",
       "       [ 10, 228,  29,  10],\n",
       "       [ 15,   2, 253,   6],\n",
       "       [ 36,   9,   7, 224]])"
      ]
     },
     "execution_count": 35,
     "metadata": {},
     "output_type": "execute_result"
    }
   ],
   "source": [
    "from sklearn.metrics import confusion_matrix\n",
    "cm = confusion_matrix(y_test, y_pred)\n",
    "cm"
   ]
  },
  {
   "cell_type": "code",
   "execution_count": 36,
   "id": "6998cab0",
   "metadata": {
    "execution": {
     "iopub.execute_input": "2023-08-15T13:11:15.209577Z",
     "iopub.status.busy": "2023-08-15T13:11:15.208996Z",
     "iopub.status.idle": "2023-08-15T13:11:15.943537Z",
     "shell.execute_reply": "2023-08-15T13:11:15.942392Z"
    },
    "papermill": {
     "duration": 0.755946,
     "end_time": "2023-08-15T13:11:15.946388",
     "exception": false,
     "start_time": "2023-08-15T13:11:15.190442",
     "status": "completed"
    },
    "tags": []
   },
   "outputs": [
    {
     "data": {
      "text/plain": [
       "Text(95.72222222222221, 0.5, 'Truth')"
      ]
     },
     "execution_count": 36,
     "metadata": {},
     "output_type": "execute_result"
    },
    {
     "data": {
      "image/png": "[encoded data removed]",
      "text/plain": [
       "<Figure size 1000x700 with 2 Axes>"
      ]
     },
     "metadata": {},
     "output_type": "display_data"
    }
   ],
   "source": [
    "from matplotlib import pyplot as plt\n",
    "import seaborn as sn\n",
    "plt.figure(figsize = (10,7))\n",
    "sn.heatmap(cm, annot=True, fmt='d')\n",
    "plt.xlabel('Prediction')\n",
    "plt.ylabel('Truth')"
   ]
  }
 ],
 "metadata": {
  "kernelspec": {
   "display_name": "Python 3",
   "language": "python",
   "name": "python3"
  },
  "language_info": {
   "codemirror_mode": {
    "name": "ipython",
    "version": 3
   },
   "file_extension": ".py",
   "mimetype": "text/x-python",
   "name": "python",
   "nbconvert_exporter": "python",
   "pygments_lexer": "ipython3",
   "version": "3.10.12"
  },
  "papermill": {
   "default_parameters": {},
   "duration": 85.471154,
   "end_time": "2023-08-15T13:11:18.730308",
   "environment_variables": {},
   "exception": null,
   "input_path": "__notebook__.ipynb",
   "output_path": "__notebook__.ipynb",
   "parameters": {},
   "start_time": "2023-08-15T13:09:53.259154",
   "version": "2.4.0"
  }
 },
 "nbformat": 4,
 "nbformat_minor": 5
}
